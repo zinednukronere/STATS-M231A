{
 "cells": [
  {
   "cell_type": "code",
   "execution_count": 1,
   "id": "c3693e8b",
   "metadata": {},
   "outputs": [
    {
     "name": "stderr",
     "output_type": "stream",
     "text": [
      "D:\\miniconda\\envs\\oldPy\\lib\\site-packages\\tensorflow\\python\\framework\\dtypes.py:516: FutureWarning: Passing (type, 1) or '1type' as a synonym of type is deprecated; in a future version of numpy, it will be understood as (type, (1,)) / '(1,)type'.\n",
      "  _np_qint8 = np.dtype([(\"qint8\", np.int8, 1)])\n",
      "D:\\miniconda\\envs\\oldPy\\lib\\site-packages\\tensorflow\\python\\framework\\dtypes.py:517: FutureWarning: Passing (type, 1) or '1type' as a synonym of type is deprecated; in a future version of numpy, it will be understood as (type, (1,)) / '(1,)type'.\n",
      "  _np_quint8 = np.dtype([(\"quint8\", np.uint8, 1)])\n",
      "D:\\miniconda\\envs\\oldPy\\lib\\site-packages\\tensorflow\\python\\framework\\dtypes.py:518: FutureWarning: Passing (type, 1) or '1type' as a synonym of type is deprecated; in a future version of numpy, it will be understood as (type, (1,)) / '(1,)type'.\n",
      "  _np_qint16 = np.dtype([(\"qint16\", np.int16, 1)])\n",
      "D:\\miniconda\\envs\\oldPy\\lib\\site-packages\\tensorflow\\python\\framework\\dtypes.py:519: FutureWarning: Passing (type, 1) or '1type' as a synonym of type is deprecated; in a future version of numpy, it will be understood as (type, (1,)) / '(1,)type'.\n",
      "  _np_quint16 = np.dtype([(\"quint16\", np.uint16, 1)])\n",
      "D:\\miniconda\\envs\\oldPy\\lib\\site-packages\\tensorflow\\python\\framework\\dtypes.py:520: FutureWarning: Passing (type, 1) or '1type' as a synonym of type is deprecated; in a future version of numpy, it will be understood as (type, (1,)) / '(1,)type'.\n",
      "  _np_qint32 = np.dtype([(\"qint32\", np.int32, 1)])\n",
      "D:\\miniconda\\envs\\oldPy\\lib\\site-packages\\tensorflow\\python\\framework\\dtypes.py:525: FutureWarning: Passing (type, 1) or '1type' as a synonym of type is deprecated; in a future version of numpy, it will be understood as (type, (1,)) / '(1,)type'.\n",
      "  np_resource = np.dtype([(\"resource\", np.ubyte, 1)])\n",
      "D:\\miniconda\\envs\\oldPy\\lib\\site-packages\\tensorboard\\compat\\tensorflow_stub\\dtypes.py:541: FutureWarning: Passing (type, 1) or '1type' as a synonym of type is deprecated; in a future version of numpy, it will be understood as (type, (1,)) / '(1,)type'.\n",
      "  _np_qint8 = np.dtype([(\"qint8\", np.int8, 1)])\n",
      "D:\\miniconda\\envs\\oldPy\\lib\\site-packages\\tensorboard\\compat\\tensorflow_stub\\dtypes.py:542: FutureWarning: Passing (type, 1) or '1type' as a synonym of type is deprecated; in a future version of numpy, it will be understood as (type, (1,)) / '(1,)type'.\n",
      "  _np_quint8 = np.dtype([(\"quint8\", np.uint8, 1)])\n",
      "D:\\miniconda\\envs\\oldPy\\lib\\site-packages\\tensorboard\\compat\\tensorflow_stub\\dtypes.py:543: FutureWarning: Passing (type, 1) or '1type' as a synonym of type is deprecated; in a future version of numpy, it will be understood as (type, (1,)) / '(1,)type'.\n",
      "  _np_qint16 = np.dtype([(\"qint16\", np.int16, 1)])\n",
      "D:\\miniconda\\envs\\oldPy\\lib\\site-packages\\tensorboard\\compat\\tensorflow_stub\\dtypes.py:544: FutureWarning: Passing (type, 1) or '1type' as a synonym of type is deprecated; in a future version of numpy, it will be understood as (type, (1,)) / '(1,)type'.\n",
      "  _np_quint16 = np.dtype([(\"quint16\", np.uint16, 1)])\n",
      "D:\\miniconda\\envs\\oldPy\\lib\\site-packages\\tensorboard\\compat\\tensorflow_stub\\dtypes.py:545: FutureWarning: Passing (type, 1) or '1type' as a synonym of type is deprecated; in a future version of numpy, it will be understood as (type, (1,)) / '(1,)type'.\n",
      "  _np_qint32 = np.dtype([(\"qint32\", np.int32, 1)])\n",
      "D:\\miniconda\\envs\\oldPy\\lib\\site-packages\\tensorboard\\compat\\tensorflow_stub\\dtypes.py:550: FutureWarning: Passing (type, 1) or '1type' as a synonym of type is deprecated; in a future version of numpy, it will be understood as (type, (1,)) / '(1,)type'.\n",
      "  np_resource = np.dtype([(\"resource\", np.ubyte, 1)])\n"
     ]
    }
   ],
   "source": [
    "import gym\n",
    "import numpy as np\n",
    "import matplotlib.pyplot as plt\n",
    "import tensorflow as tf\n",
    "import time\n",
    "import os"
   ]
  },
  {
   "cell_type": "code",
   "execution_count": 2,
   "id": "d94c2188",
   "metadata": {},
   "outputs": [],
   "source": [
    "env = gym.make('LunarLander-v2')\n",
    "env = env.unwrapped"
   ]
  },
  {
   "cell_type": "code",
   "execution_count": 3,
   "id": "1e7dde6a",
   "metadata": {},
   "outputs": [],
   "source": [
    "class PolicyGradient:   \n",
    "    \n",
    "    # first we define the __init__ method where we initialize all variables\n",
    "    \n",
    "    def __init__(self, n_x,n_y,learning_rate=0.01, reward_decay=0.95,load_path=None,save_path=None):\n",
    "            \n",
    "        # number of states in the environemnt    \n",
    "        self.n_x = n_x \n",
    "        \n",
    "        # number of actions in the environment\n",
    "        self.n_y = n_y\n",
    "        \n",
    "        # learning rate of the network\n",
    "        self.lr = learning_rate\n",
    "        \n",
    "        # discount factor\n",
    "        self.gamma = reward_decay \n",
    "    \n",
    "        # initialize the lists for storing observations, actions and rewards\n",
    "        self.episode_observations, self.episode_actions, self.episode_rewards = [], [], []\n",
    "        \n",
    "        self.save_path = None\n",
    "        if save_path is not None:\n",
    "            self.save_path = save_path\n",
    "        \n",
    "        # we define a function called build_network for building the neural network\n",
    "        self.build_network()\n",
    "        \n",
    "        # stores the cost i.e loss\n",
    "        self.cost_history = []\n",
    "        \n",
    "        # initialize tensorflow session\n",
    "        self.sess = tf.Session()\n",
    "        tf.summary.FileWriter(\"logs/\", self.sess.graph)\n",
    "        self.sess.run(tf.global_variables_initializer())\n",
    "        \n",
    "        self.saver = tf.train.Saver()\n",
    "        if load_path is not None:\n",
    "            self.load_path = load_path\n",
    "            self.saver.restore(self.sess, os.path.join(os.getcwd(),self.load_path))\n",
    "        \n",
    "\n",
    "    # next we define a function called store_transition which stores the transition information\n",
    "    # i.e state, action, reward and we can use this transitions for training the network\n",
    "\n",
    "    def store_transition(self, s, a, r):\n",
    "        \n",
    "        self.episode_observations.append(s)\n",
    "        self.episode_rewards.append(r)\n",
    "\n",
    "        # store actions as list of arrays\n",
    "        action = np.zeros(self.n_y)\n",
    "        action[a] = 1\n",
    "        self.episode_actions.append(action)\n",
    "        \n",
    "    # now, we define a function choose_action for choosing the action given the state,\n",
    "\n",
    "    def choose_action(self, observation):\n",
    "\n",
    "        # reshape observation to (num_features, 1)\n",
    "        observation = observation[:, np.newaxis]\n",
    "\n",
    "        # run forward propagation to get softmax probabilities\n",
    "        prob_weights = self.sess.run(self.outputs_softmax, feed_dict = {self.X: observation})\n",
    "\n",
    "        # select action using a biased sample this will return the index of the action we have sampled\n",
    "        action = np.random.choice(range(len(prob_weights.ravel())), p=prob_weights.ravel())\n",
    "        \n",
    "        return action\n",
    "\n",
    "    \n",
    "    # we define build_network for creating our neural network\n",
    "    \n",
    "    def build_network(self):\n",
    "        \n",
    "        # placeholders for input x, and output y\n",
    "        self.X = tf.placeholder(tf.float32, shape=(self.n_x, None), name=\"X\")\n",
    "        self.Y = tf.placeholder(tf.float32, shape=(self.n_y, None), name=\"Y\")\n",
    "        \n",
    "        # placeholder for reward\n",
    "        self.discounted_episode_rewards_norm = tf.placeholder(tf.float32, [None, ], name=\"actions_value\")\n",
    "\n",
    "        # we build 3 layer neural network with 2 hidden layers and 1 output layer\n",
    "        \n",
    "        # number of neurons in the hidden layer\n",
    "        units_layer_1 = 10\n",
    "        units_layer_2 = 10\n",
    "        \n",
    "        # number of neurons in the output layer\n",
    "        units_output_layer = self.n_y\n",
    "        \n",
    "        # now let us initialize weights and bias value using tensorflow's tf.contrib.layers.xavier_initializer\n",
    "        \n",
    "        W1 = tf.get_variable(\"W1\", [units_layer_1, self.n_x], initializer = tf.contrib.layers.xavier_initializer(seed=1))\n",
    "        b1 = tf.get_variable(\"b1\", [units_layer_1, 1], initializer = tf.contrib.layers.xavier_initializer(seed=1))\n",
    "        W2 = tf.get_variable(\"W2\", [units_layer_2, units_layer_1], initializer = tf.contrib.layers.xavier_initializer(seed=1))\n",
    "        b2 = tf.get_variable(\"b2\", [units_layer_2, 1], initializer = tf.contrib.layers.xavier_initializer(seed=1))\n",
    "        W3 = tf.get_variable(\"W3\", [self.n_y, units_layer_2], initializer = tf.contrib.layers.xavier_initializer(seed=1))\n",
    "        b3 = tf.get_variable(\"b3\", [self.n_y, 1], initializer = tf.contrib.layers.xavier_initializer(seed=1))\n",
    "\n",
    "        # and then, we perform forward propagation\n",
    "\n",
    "        Z1 = tf.add(tf.matmul(W1,self.X), b1)\n",
    "        A1 = tf.nn.relu(Z1)\n",
    "        Z2 = tf.add(tf.matmul(W2, A1), b2)\n",
    "        A2 = tf.nn.relu(Z2)\n",
    "        Z3 = tf.add(tf.matmul(W3, A2), b3)\n",
    "        A3 = tf.nn.softmax(Z3)\n",
    "\n",
    "\n",
    "        # as we require, probabilities, we apply softmax activation function in the output layer,\n",
    "        \n",
    "        logits = tf.transpose(Z3)\n",
    "        labels = tf.transpose(self.Y)\n",
    "        self.outputs_softmax = tf.nn.softmax(logits, name='A3')\n",
    "\n",
    "        # next we define our loss function as cross entropy loss\n",
    "        neg_log_prob = tf.nn.softmax_cross_entropy_with_logits_v2(logits=logits, labels=labels)\n",
    "        \n",
    "        # reward guided loss\n",
    "        self.loss = tf.reduce_mean(neg_log_prob * self.discounted_episode_rewards_norm)  \n",
    "\n",
    "        # we use adam optimizer for minimizing the loss\n",
    "        self.train_op = tf.train.AdamOptimizer(self.lr).minimize(self.loss)\n",
    "\n",
    "\n",
    "    # define discount_and_norm_rewards function which will result the discounted and normalised reward\n",
    "    \n",
    "    def discount_and_norm_rewards(self):\n",
    "        discounted_episode_rewards = np.zeros_like(self.episode_rewards)\n",
    "        cumulative = 0\n",
    "        for t in reversed(range(len(self.episode_rewards))):\n",
    "            cumulative = cumulative * self.gamma + self.episode_rewards[t]\n",
    "            discounted_episode_rewards[t] = cumulative\n",
    "\n",
    "        discounted_episode_rewards -= np.mean(discounted_episode_rewards)\n",
    "        discounted_episode_rewards /= np.std(discounted_episode_rewards)\n",
    "        return discounted_episode_rewards\n",
    "    \n",
    "    # now we actually learn i.e train our network\n",
    "    \n",
    "    def learn(self):\n",
    "        # discount and normalize episodic reward\n",
    "        discounted_episode_rewards_norm = self.discount_and_norm_rewards()\n",
    "        \n",
    "        #modelPredicts = self.sess.run(self.outputs_softmax, feed_dict = {self.X: np.vstack(self.episode_observations).T})\n",
    "        #actualResults = np.vstack(np.array(self.episode_actions))\n",
    "        #ce = -actualResults*np.log(modelPredicts+1e-9)\n",
    "        #ce = np.sum(ce,axis=1)\n",
    "        #ceWithdiscRew = ce*discounted_episode_rewards_norm\n",
    "        #meanCost = np.sum(ceWithdiscRew)/(len(ceWithdiscRew))\n",
    "        \n",
    "        # train the nework\n",
    "        _, loss_val = self.sess.run([self.train_op,self.loss], feed_dict={\n",
    "             self.X: np.vstack(self.episode_observations).T,\n",
    "             self.Y: np.vstack(np.array(self.episode_actions)).T,\n",
    "             self.discounted_episode_rewards_norm: discounted_episode_rewards_norm,\n",
    "        })\n",
    "        self.cost_history.append(loss_val)\n",
    "\n",
    "        # reset the episodic data\n",
    "        self.episode_observations, self.episode_actions, self.episode_rewards  = [], [], []\n",
    "        \n",
    "        if self.save_path is not None:\n",
    "            save_path = self.saver.save(self.sess, os.path.join(os.getcwd(),self.save_path))\n",
    "            print(\"Model saved in file: %s\" % save_path)\n",
    "\n",
    "        return discounted_episode_rewards_norm"
   ]
  },
  {
   "cell_type": "code",
   "execution_count": 4,
   "id": "274b83b2",
   "metadata": {},
   "outputs": [],
   "source": [
    "load_version = 0\n",
    "save_version = load_version + 1\n",
    "#load_path = \"output/weights/LunarLander/{}/LunarLander-v2.ckpt\".format(load_version)\n",
    "load_path=None\n",
    "save_path = \"output\\{}\\LunarLander-v2.ckpt\".format(save_version)"
   ]
  },
  {
   "cell_type": "code",
   "execution_count": 5,
   "id": "b311a6d5",
   "metadata": {},
   "outputs": [
    {
     "name": "stdout",
     "output_type": "stream",
     "text": [
      "WARNING:tensorflow:From C:\\Users\\orkun\\AppData\\Local\\Temp/ipykernel_40532/3023530608.py:77: The name tf.placeholder is deprecated. Please use tf.compat.v1.placeholder instead.\n",
      "\n",
      "WARNING:tensorflow:From C:\\Users\\orkun\\AppData\\Local\\Temp/ipykernel_40532/3023530608.py:94: The name tf.get_variable is deprecated. Please use tf.compat.v1.get_variable instead.\n",
      "\n",
      "WARNING:tensorflow:\n",
      "The TensorFlow contrib module will not be included in TensorFlow 2.0.\n",
      "For more information, please see:\n",
      "  * https://github.com/tensorflow/community/blob/master/rfcs/20180907-contrib-sunset.md\n",
      "  * https://github.com/tensorflow/addons\n",
      "  * https://github.com/tensorflow/io (for I/O related ops)\n",
      "If you depend on functionality not listed there, please file an issue.\n",
      "\n",
      "WARNING:tensorflow:From C:\\Users\\orkun\\AppData\\Local\\Temp/ipykernel_40532/3023530608.py:124: The name tf.train.AdamOptimizer is deprecated. Please use tf.compat.v1.train.AdamOptimizer instead.\n",
      "\n",
      "WARNING:tensorflow:From C:\\Users\\orkun\\AppData\\Local\\Temp/ipykernel_40532/3023530608.py:33: The name tf.Session is deprecated. Please use tf.compat.v1.Session instead.\n",
      "\n",
      "WARNING:tensorflow:From C:\\Users\\orkun\\AppData\\Local\\Temp/ipykernel_40532/3023530608.py:34: The name tf.summary.FileWriter is deprecated. Please use tf.compat.v1.summary.FileWriter instead.\n",
      "\n",
      "WARNING:tensorflow:From C:\\Users\\orkun\\AppData\\Local\\Temp/ipykernel_40532/3023530608.py:35: The name tf.global_variables_initializer is deprecated. Please use tf.compat.v1.global_variables_initializer instead.\n",
      "\n",
      "WARNING:tensorflow:From C:\\Users\\orkun\\AppData\\Local\\Temp/ipykernel_40532/3023530608.py:37: The name tf.train.Saver is deprecated. Please use tf.compat.v1.train.Saver instead.\n",
      "\n"
     ]
    }
   ],
   "source": [
    "policy = PolicyGradient(env.observation_space.shape[0],env.action_space.n,0.02,0.99,load_path,save_path)"
   ]
  },
  {
   "cell_type": "code",
   "execution_count": 6,
   "id": "9be9571f",
   "metadata": {},
   "outputs": [],
   "source": [
    "RENDER_ENV = True\n",
    "EPISODES = 5000\n",
    "rewards = []\n",
    "RENDER_REWARD_MIN = 5000"
   ]
  },
  {
   "cell_type": "code",
   "execution_count": 18,
   "id": "d7e5be55",
   "metadata": {},
   "outputs": [],
   "source": [
    "lastEpisode = episode"
   ]
  },
  {
   "cell_type": "code",
   "execution_count": null,
   "id": "e32bba38",
   "metadata": {},
   "outputs": [],
   "source": [
    "for episode in range(lastEpisode,EPISODES):\n",
    "    \n",
    "    # get the state\n",
    "    observation = env.reset()\n",
    "    episode_reward = 0\n",
    "\n",
    "    tic = time.clock()\n",
    "\n",
    "    while True:\n",
    "        \n",
    "        if RENDER_ENV: env.render()\n",
    "\n",
    "        # choose an action based on the state\n",
    "        action = policy.choose_action(observation)\n",
    "\n",
    "        # perform action in the environment and move to next state and receive reward\n",
    "        observation_, reward, done, info = env.step(action)\n",
    "\n",
    "        # store the transition information\n",
    "        policy.store_transition(observation, action, reward)\n",
    "        \n",
    "        toc = time.clock()\n",
    "        elapsed_sec = toc - tic\n",
    "        if elapsed_sec > 120:\n",
    "            done = True\n",
    "            \n",
    "        # sum the rewards obtained in each episode\n",
    "        episode_rewards_sum = sum(policy.episode_rewards)\n",
    "        \n",
    "        # if the reward is less than -259 then terminate the episode\n",
    "        if episode_rewards_sum < -250:\n",
    "            done = True\n",
    "    \n",
    "        if done:\n",
    "            episode_rewards_sum = sum(policy.episode_rewards)\n",
    "            rewards.append(episode_rewards_sum)\n",
    "            savedict = {\"rewards\":rewards,\"losses\":policy.cost_history}\n",
    "            pickle.dump(savedict, open(\"savedict3.p\", \"wb\" ) )   \n",
    "            max_reward_so_far = np.amax(rewards)\n",
    "\n",
    "            print(\"Episode: \", episode)\n",
    "            print(\"Reward: \", episode_rewards_sum)\n",
    "            print(\"Max reward so far: \", max_reward_so_far)\n",
    "\n",
    "            # train the network\n",
    "            discounted_episode_rewards_norm = policy.learn()\n",
    "\n",
    "            if max_reward_so_far > RENDER_REWARD_MIN: RENDER_ENV = True\n",
    "\n",
    "\n",
    "            break\n",
    "\n",
    "        # update the next state as current state\n",
    "        observation = observation_\n",
    "        \n",
    "    condition = np.mean(rewards[-100:])\n",
    "    print(\"Average score is \"+str(condition))\n",
    "    if condition>185:\n",
    "        break"
   ]
  },
  {
   "cell_type": "code",
   "execution_count": 101,
   "id": "2f087918",
   "metadata": {},
   "outputs": [],
   "source": [
    "import pickle\n",
    "savedict = {\"rewards\":rewards,\"losses\":policy.cost_history}\n",
    "pickle.dump(savedict, open(\"savedict2.p\", \"wb\" ) )   "
   ]
  },
  {
   "cell_type": "code",
   "execution_count": 109,
   "id": "092c99ca",
   "metadata": {},
   "outputs": [],
   "source": [
    "diction = pickle.load( open( \"savedict4.p\", \"rb\" ) )\n",
    "rewardsSaved = diction['rewards']\n",
    "lossesSaved = diction['losses']"
   ]
  },
  {
   "cell_type": "code",
   "execution_count": 110,
   "id": "15c702c2",
   "metadata": {},
   "outputs": [
    {
     "data": {
      "text/plain": [
       "Text(0.5, 1.0, 'Training progress for LunarLander-v2 policy gradient')"
      ]
     },
     "execution_count": 110,
     "metadata": {},
     "output_type": "execute_result"
    },
    {
     "data": {
      "image/png": "[encoded data removed]",
      "text/plain": [
       "<Figure size 432x288 with 1 Axes>"
      ]
     },
     "metadata": {
      "needs_background": "light"
     },
     "output_type": "display_data"
    }
   ],
   "source": [
    "plt.plot(rewardsSaved)\n",
    "plt.xlabel('runs')\n",
    "plt.ylabel('Rewards')\n",
    "plt.title(\"Training progress for LunarLander-v2 policy gradient\")"
   ]
  },
  {
   "cell_type": "code",
   "execution_count": 111,
   "id": "ffc9ed72",
   "metadata": {},
   "outputs": [
    {
     "data": {
      "text/plain": [
       "Text(0.5, 1.0, 'Loss progress for LunarLander-v2 policy gradient')"
      ]
     },
     "execution_count": 111,
     "metadata": {},
     "output_type": "execute_result"
    },
    {
     "data": {
      "image/png": "[encoded data removed]",
      "text/plain": [
       "<Figure size 432x288 with 1 Axes>"
      ]
     },
     "metadata": {
      "needs_background": "light"
     },
     "output_type": "display_data"
    }
   ],
   "source": [
    "plt.plot(lossesSaved)\n",
    "plt.xlabel('runs')\n",
    "plt.ylabel('Loss')\n",
    "plt.title(\"Loss progress for LunarLander-v2 policy gradient\")"
   ]
  }
 ],
 "metadata": {
  "kernelspec": {
   "display_name": "oldPy",
   "language": "python",
   "name": "oldpy"
  },
  "language_info": {
   "codemirror_mode": {
    "name": "ipython",
    "version": 3
   },
   "file_extension": ".py",
   "mimetype": "text/x-python",
   "name": "python",
   "nbconvert_exporter": "python",
   "pygments_lexer": "ipython3",
   "version": "3.7.11"
  }
 },
 "nbformat": 4,
 "nbformat_minor": 5
}
