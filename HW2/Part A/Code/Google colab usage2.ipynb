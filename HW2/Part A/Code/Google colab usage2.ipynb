{
 "cells": [
  {
   "cell_type": "code",
   "execution_count": 1,
   "metadata": {
    "executionInfo": {
     "elapsed": 12,
     "status": "ok",
     "timestamp": 1633929495988,
     "user": {
      "displayName": "YAXUAN ZHU",
      "photoUrl": "https://lh3.googleusercontent.com/a/default-user=s64",
      "userId": "17993149116436288201"
     },
     "user_tz": 420
    },
    "id": "5YQFU8OA0ACW"
   },
   "outputs": [],
   "source": [
    "# The official site of how to use google colab: https://pytorch.org/tutorials/beginner/colab.html"
   ]
  },
  {
   "cell_type": "code",
   "execution_count": null,
   "metadata": {
    "id": "qTJ_d18dyamP"
   },
   "outputs": [],
   "source": [
    "# The code starting from here help us to connect our code in colab to our google drive\n",
    "# i.e. we use can read and save file from a driectory in our google drive as we are using our own computer\n",
    "# Therefore, please run this part of code first before you start running other code\n",
    "# When you run this part of the code, it will require you to authorize some rights to it, just follow the instruction is OK"
   ]
  },
  {
   "cell_type": "code",
   "execution_count": 2,
   "metadata": {
    "colab": {
     "base_uri": "https://localhost:8080/"
    },
    "executionInfo": {
     "elapsed": 112,
     "status": "ok",
     "timestamp": 1633929528762,
     "user": {
      "displayName": "YAXUAN ZHU",
      "photoUrl": "https://lh3.googleusercontent.com/a/default-user=s64",
      "userId": "17993149116436288201"
     },
     "user_tz": 420
    },
    "id": "HGTooC56pqnc",
    "outputId": "5fdc0a9e-d12e-450b-d40e-f13766a20d81"
   },
   "outputs": [
    {
     "name": "stdout",
     "output_type": "stream",
     "text": [
      "Drive already mounted at /content/gdrive; to attempt to forcibly remount, call drive.mount(\"/content/gdrive\", force_remount=True).\n"
     ]
    }
   ],
   "source": [
    "# import the corresponding library\n",
    "from google.colab import drive\n",
    "drive.mount('/content/gdrive')"
   ]
  },
  {
   "cell_type": "code",
   "execution_count": 3,
   "metadata": {
    "colab": {
     "base_uri": "https://localhost:8080/"
    },
    "executionInfo": {
     "elapsed": 14481,
     "status": "ok",
     "timestamp": 1633929545087,
     "user": {
      "displayName": "YAXUAN ZHU",
      "photoUrl": "https://lh3.googleusercontent.com/a/default-user=s64",
      "userId": "17993149116436288201"
     },
     "user_tz": 420
    },
    "id": "eCRKbcMKq0n0",
    "outputId": "d68ea074-c2f7-44fc-be29-71c5fc878c63"
   },
   "outputs": [
    {
     "name": "stdout",
     "output_type": "stream",
     "text": [
      "E: Package 'python-software-properties' has no installation candidate\n"
     ]
    }
   ],
   "source": [
    "# Install a Drive FUSE wrapper.\n",
    "# https://github.com/astrada/google-drive-ocamlfuse\n",
    "!apt-get install -y -qq software-properties-common python-software-properties module-init-tools\n",
    "!add-apt-repository -y ppa:alessandro-strada/ppa 2>&1 > /dev/null\n",
    "!apt-get update -qq 2>&1 > /dev/null\n",
    "!apt-get -y install -qq google-drive-ocamlfuse fuse"
   ]
  },
  {
   "cell_type": "code",
   "execution_count": null,
   "metadata": {
    "id": "hcuzRjOu0d7Q"
   },
   "outputs": [],
   "source": [
    "# Generate auth tokens for Colab\n",
    "from google.colab import auth\n",
    "auth.authenticate_user()"
   ]
  },
  {
   "cell_type": "code",
   "execution_count": null,
   "metadata": {
    "id": "hTc0s0dI0zDM"
   },
   "outputs": [],
   "source": [
    "# Generate creds for the Drive FUSE library.\n",
    "from oauth2client.client import GoogleCredentials\n",
    "creds = GoogleCredentials.get_application_default()\n",
    "import getpass\n",
    "!google-drive-ocamlfuse -headless -id={creds.client_id} -secret={creds.client_secret} < /dev/null 2>&1 | grep URL\n",
    "vcode = getpass.getpass()\n",
    "!echo {vcode} | google-drive-ocamlfuse -headless -id={creds.client_id} -secret={creds.client_secret}"
   ]
  },
  {
   "cell_type": "code",
   "execution_count": null,
   "metadata": {
    "id": "h5wRuInorekl"
   },
   "outputs": [],
   "source": [
    "# Create a directory and mount Google Drive using that directory.\n",
    "!mkdir -p drive\n",
    "!google-drive-ocamlfuse drive"
   ]
  },
  {
   "cell_type": "code",
   "execution_count": null,
   "metadata": {
    "id": "r-yd_6oM1usc"
   },
   "outputs": [],
   "source": []
  },
  {
   "cell_type": "code",
   "execution_count": null,
   "metadata": {
    "id": "0yQSa9Nt1hLI"
   },
   "outputs": [],
   "source": [
    "# After running this part of code, we have successfully connected our drive to our google colab\n",
    "# And we are at the position that is one layer higher than the root of our google drive\n",
    "# The next thing we need to do is go to our work directory\n",
    "# Suppose we make a directory called \"try_colab\" under the root of our google drive and we want to work at this directory (saving and loading file from it)"
   ]
  },
  {
   "cell_type": "code",
   "execution_count": 4,
   "metadata": {
    "colab": {
     "base_uri": "https://localhost:8080/"
    },
    "executionInfo": {
     "elapsed": 854,
     "status": "ok",
     "timestamp": 1633929558149,
     "user": {
      "displayName": "YAXUAN ZHU",
      "photoUrl": "https://lh3.googleusercontent.com/a/default-user=s64",
      "userId": "17993149116436288201"
     },
     "user_tz": 420
    },
    "id": "6rucBatg27M8",
    "outputId": "022bb868-dfe8-4007-f60d-ab450edabe51"
   },
   "outputs": [
    {
     "data": {
      "text/plain": [
       "['PyTorch_CIFAR10', 'Google colab usage.ipynb']"
      ]
     },
     "execution_count": 4,
     "metadata": {},
     "output_type": "execute_result"
    }
   ],
   "source": [
    "import os\n",
    "# suppose you make a directory called \"try_colab\" under your google drive\n",
    "# you can change this path to the directory you want to work at \n",
    "path = './drive/M231A/HW2' \n",
    "os.chdir(path)\n",
    "os.listdir('./')"
   ]
  },
  {
   "cell_type": "code",
   "execution_count": null,
   "metadata": {
    "id": "rpexDUn7r830"
   },
   "outputs": [],
   "source": [
    "# Clone the code \n",
    "# code begin with \"!\" are command line input instead of python code\n",
    "! git clone https://github.com/huyvnphan/PyTorch_CIFAR10.git"
   ]
  },
  {
   "cell_type": "code",
   "execution_count": 5,
   "metadata": {
    "colab": {
     "base_uri": "https://localhost:8080/"
    },
    "executionInfo": {
     "elapsed": 428,
     "status": "ok",
     "timestamp": 1633929562880,
     "user": {
      "displayName": "YAXUAN ZHU",
      "photoUrl": "https://lh3.googleusercontent.com/a/default-user=s64",
      "userId": "17993149116436288201"
     },
     "user_tz": 420
    },
    "id": "MfzX1ZeUs9Ni",
    "outputId": "a8c32672-1882-4a04-9a7b-f56a1595bbb6"
   },
   "outputs": [
    {
     "data": {
      "text/plain": [
       "['.git',\n",
       " '.gitignore',\n",
       " 'LICENSE',\n",
       " 'README.md',\n",
       " 'cifar10_models',\n",
       " 'data.py',\n",
       " 'module.py',\n",
       " 'schduler.py',\n",
       " 'train.py',\n",
       " '__pycache__',\n",
       " 'drive',\n",
       " 'state_dicts.zip']"
      ]
     },
     "execution_count": 5,
     "metadata": {},
     "output_type": "execute_result"
    }
   ],
   "source": [
    "# Get into the folder\n",
    "os.chdir('PyTorch_CIFAR10')\n",
    "os.listdir('./')"
   ]
  },
  {
   "cell_type": "code",
   "execution_count": 6,
   "metadata": {
    "colab": {
     "base_uri": "https://localhost:8080/"
    },
    "executionInfo": {
     "elapsed": 4465,
     "status": "ok",
     "timestamp": 1633929569445,
     "user": {
      "displayName": "YAXUAN ZHU",
      "photoUrl": "https://lh3.googleusercontent.com/a/default-user=s64",
      "userId": "17993149116436288201"
     },
     "user_tz": 420
    },
    "id": "gONbdLtuuRUR",
    "outputId": "a7cdd49b-e30a-4ac8-e734-4e25d44b15df"
   },
   "outputs": [
    {
     "name": "stdout",
     "output_type": "stream",
     "text": [
      "Requirement already satisfied: pytorch-lightning in /usr/local/lib/python3.7/dist-packages (1.4.9)\n",
      "Requirement already satisfied: future>=0.17.1 in /usr/local/lib/python3.7/dist-packages (from pytorch-lightning) (0.18.2)\n",
      "Requirement already satisfied: fsspec[http]!=2021.06.0,>=2021.05.0 in /usr/local/lib/python3.7/dist-packages (from pytorch-lightning) (2021.10.0)\n",
      "Requirement already satisfied: torchmetrics>=0.4.0 in /usr/local/lib/python3.7/dist-packages (from pytorch-lightning) (0.5.1)\n",
      "Requirement already satisfied: packaging>=17.0 in /usr/local/lib/python3.7/dist-packages (from pytorch-lightning) (21.0)\n",
      "Requirement already satisfied: pyDeprecate==0.3.1 in /usr/local/lib/python3.7/dist-packages (from pytorch-lightning) (0.3.1)\n",
      "Requirement already satisfied: PyYAML>=5.1 in /usr/local/lib/python3.7/dist-packages (from pytorch-lightning) (5.4.1)\n",
      "Requirement already satisfied: tensorboard>=2.2.0 in /usr/local/lib/python3.7/dist-packages (from pytorch-lightning) (2.6.0)\n",
      "Requirement already satisfied: typing-extensions in /usr/local/lib/python3.7/dist-packages (from pytorch-lightning) (3.7.4.3)\n",
      "Requirement already satisfied: torch>=1.6 in /usr/local/lib/python3.7/dist-packages (from pytorch-lightning) (1.9.0+cu111)\n",
      "Requirement already satisfied: tqdm>=4.41.0 in /usr/local/lib/python3.7/dist-packages (from pytorch-lightning) (4.62.3)\n",
      "Requirement already satisfied: numpy>=1.17.2 in /usr/local/lib/python3.7/dist-packages (from pytorch-lightning) (1.19.5)\n",
      "Requirement already satisfied: aiohttp in /usr/local/lib/python3.7/dist-packages (from fsspec[http]!=2021.06.0,>=2021.05.0->pytorch-lightning) (3.7.4.post0)\n",
      "Requirement already satisfied: requests in /usr/local/lib/python3.7/dist-packages (from fsspec[http]!=2021.06.0,>=2021.05.0->pytorch-lightning) (2.23.0)\n",
      "Requirement already satisfied: pyparsing>=2.0.2 in /usr/local/lib/python3.7/dist-packages (from packaging>=17.0->pytorch-lightning) (2.4.7)\n",
      "Requirement already satisfied: absl-py>=0.4 in /usr/local/lib/python3.7/dist-packages (from tensorboard>=2.2.0->pytorch-lightning) (0.12.0)\n",
      "Requirement already satisfied: wheel>=0.26 in /usr/local/lib/python3.7/dist-packages (from tensorboard>=2.2.0->pytorch-lightning) (0.37.0)\n",
      "Requirement already satisfied: markdown>=2.6.8 in /usr/local/lib/python3.7/dist-packages (from tensorboard>=2.2.0->pytorch-lightning) (3.3.4)\n",
      "Requirement already satisfied: tensorboard-data-server<0.7.0,>=0.6.0 in /usr/local/lib/python3.7/dist-packages (from tensorboard>=2.2.0->pytorch-lightning) (0.6.1)\n",
      "Requirement already satisfied: google-auth<2,>=1.6.3 in /usr/local/lib/python3.7/dist-packages (from tensorboard>=2.2.0->pytorch-lightning) (1.35.0)\n",
      "Requirement already satisfied: tensorboard-plugin-wit>=1.6.0 in /usr/local/lib/python3.7/dist-packages (from tensorboard>=2.2.0->pytorch-lightning) (1.8.0)\n",
      "Requirement already satisfied: grpcio>=1.24.3 in /usr/local/lib/python3.7/dist-packages (from tensorboard>=2.2.0->pytorch-lightning) (1.41.0)\n",
      "Requirement already satisfied: setuptools>=41.0.0 in /usr/local/lib/python3.7/dist-packages (from tensorboard>=2.2.0->pytorch-lightning) (57.4.0)\n",
      "Requirement already satisfied: werkzeug>=0.11.15 in /usr/local/lib/python3.7/dist-packages (from tensorboard>=2.2.0->pytorch-lightning) (1.0.1)\n",
      "Requirement already satisfied: protobuf>=3.6.0 in /usr/local/lib/python3.7/dist-packages (from tensorboard>=2.2.0->pytorch-lightning) (3.17.3)\n",
      "Requirement already satisfied: google-auth-oauthlib<0.5,>=0.4.1 in /usr/local/lib/python3.7/dist-packages (from tensorboard>=2.2.0->pytorch-lightning) (0.4.6)\n",
      "Requirement already satisfied: six in /usr/local/lib/python3.7/dist-packages (from absl-py>=0.4->tensorboard>=2.2.0->pytorch-lightning) (1.15.0)\n",
      "Requirement already satisfied: cachetools<5.0,>=2.0.0 in /usr/local/lib/python3.7/dist-packages (from google-auth<2,>=1.6.3->tensorboard>=2.2.0->pytorch-lightning) (4.2.4)\n",
      "Requirement already satisfied: pyasn1-modules>=0.2.1 in /usr/local/lib/python3.7/dist-packages (from google-auth<2,>=1.6.3->tensorboard>=2.2.0->pytorch-lightning) (0.2.8)\n",
      "Requirement already satisfied: rsa<5,>=3.1.4 in /usr/local/lib/python3.7/dist-packages (from google-auth<2,>=1.6.3->tensorboard>=2.2.0->pytorch-lightning) (4.7.2)\n",
      "Requirement already satisfied: requests-oauthlib>=0.7.0 in /usr/local/lib/python3.7/dist-packages (from google-auth-oauthlib<0.5,>=0.4.1->tensorboard>=2.2.0->pytorch-lightning) (1.3.0)\n",
      "Requirement already satisfied: importlib-metadata in /usr/local/lib/python3.7/dist-packages (from markdown>=2.6.8->tensorboard>=2.2.0->pytorch-lightning) (4.8.1)\n",
      "Requirement already satisfied: pyasn1<0.5.0,>=0.4.6 in /usr/local/lib/python3.7/dist-packages (from pyasn1-modules>=0.2.1->google-auth<2,>=1.6.3->tensorboard>=2.2.0->pytorch-lightning) (0.4.8)\n",
      "Requirement already satisfied: chardet<4,>=3.0.2 in /usr/local/lib/python3.7/dist-packages (from requests->fsspec[http]!=2021.06.0,>=2021.05.0->pytorch-lightning) (3.0.4)\n",
      "Requirement already satisfied: idna<3,>=2.5 in /usr/local/lib/python3.7/dist-packages (from requests->fsspec[http]!=2021.06.0,>=2021.05.0->pytorch-lightning) (2.10)\n",
      "Requirement already satisfied: certifi>=2017.4.17 in /usr/local/lib/python3.7/dist-packages (from requests->fsspec[http]!=2021.06.0,>=2021.05.0->pytorch-lightning) (2021.5.30)\n",
      "Requirement already satisfied: urllib3!=1.25.0,!=1.25.1,<1.26,>=1.21.1 in /usr/local/lib/python3.7/dist-packages (from requests->fsspec[http]!=2021.06.0,>=2021.05.0->pytorch-lightning) (1.24.3)\n",
      "Requirement already satisfied: oauthlib>=3.0.0 in /usr/local/lib/python3.7/dist-packages (from requests-oauthlib>=0.7.0->google-auth-oauthlib<0.5,>=0.4.1->tensorboard>=2.2.0->pytorch-lightning) (3.1.1)\n",
      "Requirement already satisfied: async-timeout<4.0,>=3.0 in /usr/local/lib/python3.7/dist-packages (from aiohttp->fsspec[http]!=2021.06.0,>=2021.05.0->pytorch-lightning) (3.0.1)\n",
      "Requirement already satisfied: attrs>=17.3.0 in /usr/local/lib/python3.7/dist-packages (from aiohttp->fsspec[http]!=2021.06.0,>=2021.05.0->pytorch-lightning) (21.2.0)\n",
      "Requirement already satisfied: multidict<7.0,>=4.5 in /usr/local/lib/python3.7/dist-packages (from aiohttp->fsspec[http]!=2021.06.0,>=2021.05.0->pytorch-lightning) (5.2.0)\n",
      "Requirement already satisfied: yarl<2.0,>=1.0 in /usr/local/lib/python3.7/dist-packages (from aiohttp->fsspec[http]!=2021.06.0,>=2021.05.0->pytorch-lightning) (1.7.0)\n",
      "Requirement already satisfied: zipp>=0.5 in /usr/local/lib/python3.7/dist-packages (from importlib-metadata->markdown>=2.6.8->tensorboard>=2.2.0->pytorch-lightning) (3.6.0)\n"
     ]
    }
   ],
   "source": [
    "# install package pytorch lightening\n",
    "! pip install pytorch-lightning\n",
    "  "
   ]
  },
  {
   "cell_type": "code",
   "execution_count": 9,
   "metadata": {
    "colab": {
     "base_uri": "https://localhost:8080/"
    },
    "executionInfo": {
     "elapsed": 319349,
     "status": "ok",
     "timestamp": 1633930700926,
     "user": {
      "displayName": "YAXUAN ZHU",
      "photoUrl": "https://lh3.googleusercontent.com/a/default-user=s64",
      "userId": "17993149116436288201"
     },
     "user_tz": 420
    },
    "id": "TbzAG_Ytt3Re",
    "outputId": "5492e6de-d8b4-4569-f961-19da95a3bd23"
   },
   "outputs": [
    {
     "name": "stdout",
     "output_type": "stream",
     "text": [
      "100% 979M/979M [04:02<00:00, 4.03MMiB/s]\n",
      "Download successful. Unzipping file...\n",
      "Unzip file successful!\n"
     ]
    }
   ],
   "source": [
    "# Follow the instruction in the github, download pretrained weight\n",
    "# It may take some time for running it, if you meet error here, \n",
    "# you may re-run the code for many times until success or check the next block\n",
    "! python train.py --download_weights 1"
   ]
  },
  {
   "cell_type": "code",
   "execution_count": 13,
   "metadata": {
    "colab": {
     "base_uri": "https://localhost:8080/"
    },
    "executionInfo": {
     "elapsed": 113449,
     "status": "ok",
     "timestamp": 1633931116615,
     "user": {
      "displayName": "YAXUAN ZHU",
      "photoUrl": "https://lh3.googleusercontent.com/a/default-user=s64",
      "userId": "17993149116436288201"
     },
     "user_tz": 420
    },
    "id": "l1qXLxWG17Pf",
    "outputId": "e862eae6-45d5-433a-ce52-05f4f843fc79"
   },
   "outputs": [
    {
     "name": "stdout",
     "output_type": "stream",
     "text": [
      "Archive:  state_dicts.zip\n",
      "   creating: cifar10_models/state_dicts/\n",
      "  inflating: cifar10_models/state_dicts/googlenet.pt  \n",
      "  inflating: cifar10_models/state_dicts/vgg11_bn.pt  \n",
      "  inflating: cifar10_models/state_dicts/vgg13_bn.pt  \n",
      "  inflating: cifar10_models/state_dicts/resnet18.pt  \n",
      "  inflating: cifar10_models/state_dicts/vgg19_bn.pt  \n",
      "  inflating: cifar10_models/state_dicts/vgg16_bn.pt  \n",
      "  inflating: cifar10_models/state_dicts/mobilenet_v2.pt  \n",
      "  inflating: cifar10_models/state_dicts/inception_v3.pt  \n",
      "  inflating: cifar10_models/state_dicts/densenet121.pt  \n",
      "  inflating: cifar10_models/state_dicts/resnet34.pt  \n",
      "  inflating: cifar10_models/state_dicts/densenet161.pt  \n",
      "  inflating: cifar10_models/state_dicts/densenet169.pt  \n",
      "  inflating: cifar10_models/state_dicts/resnet50.pt  \n"
     ]
    }
   ],
   "source": [
    "# If you successfully run the previous code, just skip this block\n",
    "# In case you get error when running the above code, you can directly download the zip file following the link in the github,\n",
    "# put the state_dicts.zip file under the folder of 'PyTorch_CIFAR10' and run the following command to extract the files manually\n",
    " \n",
    "# first remove all the previous middle results\n",
    "! rm -r -f ./cifar10_models/state_dicts/\n",
    "! unzip state_dicts.zip -d cifar10_models   "
   ]
  },
  {
   "cell_type": "code",
   "execution_count": 14,
   "metadata": {
    "colab": {
     "base_uri": "https://localhost:8080/"
    },
    "executionInfo": {
     "elapsed": 1220,
     "status": "ok",
     "timestamp": 1633931165275,
     "user": {
      "displayName": "YAXUAN ZHU",
      "photoUrl": "https://lh3.googleusercontent.com/a/default-user=s64",
      "userId": "17993149116436288201"
     },
     "user_tz": 420
    },
    "id": "-vMoCI2atdbH",
    "outputId": "b375f77d-ff03-4606-c562-8bd1e3e266f6"
   },
   "outputs": [
    {
     "data": {
      "text/plain": [
       "VGG(\n",
       "  (features): Sequential(\n",
       "    (0): Conv2d(3, 64, kernel_size=(3, 3), stride=(1, 1), padding=(1, 1))\n",
       "    (1): BatchNorm2d(64, eps=1e-05, momentum=0.1, affine=True, track_running_stats=True)\n",
       "    (2): ReLU(inplace=True)\n",
       "    (3): MaxPool2d(kernel_size=2, stride=2, padding=0, dilation=1, ceil_mode=False)\n",
       "    (4): Conv2d(64, 128, kernel_size=(3, 3), stride=(1, 1), padding=(1, 1))\n",
       "    (5): BatchNorm2d(128, eps=1e-05, momentum=0.1, affine=True, track_running_stats=True)\n",
       "    (6): ReLU(inplace=True)\n",
       "    (7): MaxPool2d(kernel_size=2, stride=2, padding=0, dilation=1, ceil_mode=False)\n",
       "    (8): Conv2d(128, 256, kernel_size=(3, 3), stride=(1, 1), padding=(1, 1))\n",
       "    (9): BatchNorm2d(256, eps=1e-05, momentum=0.1, affine=True, track_running_stats=True)\n",
       "    (10): ReLU(inplace=True)\n",
       "    (11): Conv2d(256, 256, kernel_size=(3, 3), stride=(1, 1), padding=(1, 1))\n",
       "    (12): BatchNorm2d(256, eps=1e-05, momentum=0.1, affine=True, track_running_stats=True)\n",
       "    (13): ReLU(inplace=True)\n",
       "    (14): MaxPool2d(kernel_size=2, stride=2, padding=0, dilation=1, ceil_mode=False)\n",
       "    (15): Conv2d(256, 512, kernel_size=(3, 3), stride=(1, 1), padding=(1, 1))\n",
       "    (16): BatchNorm2d(512, eps=1e-05, momentum=0.1, affine=True, track_running_stats=True)\n",
       "    (17): ReLU(inplace=True)\n",
       "    (18): Conv2d(512, 512, kernel_size=(3, 3), stride=(1, 1), padding=(1, 1))\n",
       "    (19): BatchNorm2d(512, eps=1e-05, momentum=0.1, affine=True, track_running_stats=True)\n",
       "    (20): ReLU(inplace=True)\n",
       "    (21): MaxPool2d(kernel_size=2, stride=2, padding=0, dilation=1, ceil_mode=False)\n",
       "    (22): Conv2d(512, 512, kernel_size=(3, 3), stride=(1, 1), padding=(1, 1))\n",
       "    (23): BatchNorm2d(512, eps=1e-05, momentum=0.1, affine=True, track_running_stats=True)\n",
       "    (24): ReLU(inplace=True)\n",
       "    (25): Conv2d(512, 512, kernel_size=(3, 3), stride=(1, 1), padding=(1, 1))\n",
       "    (26): BatchNorm2d(512, eps=1e-05, momentum=0.1, affine=True, track_running_stats=True)\n",
       "    (27): ReLU(inplace=True)\n",
       "    (28): MaxPool2d(kernel_size=2, stride=2, padding=0, dilation=1, ceil_mode=False)\n",
       "  )\n",
       "  (avgpool): AdaptiveAvgPool2d(output_size=(1, 1))\n",
       "  (classifier): Sequential(\n",
       "    (0): Linear(in_features=512, out_features=4096, bias=True)\n",
       "    (1): ReLU(inplace=True)\n",
       "    (2): Dropout(p=0.5, inplace=False)\n",
       "    (3): Linear(in_features=4096, out_features=4096, bias=True)\n",
       "    (4): ReLU(inplace=True)\n",
       "    (5): Dropout(p=0.5, inplace=False)\n",
       "    (6): Linear(in_features=4096, out_features=10, bias=True)\n",
       "  )\n",
       ")"
      ]
     },
     "execution_count": 14,
     "metadata": {},
     "output_type": "execute_result"
    }
   ],
   "source": [
    "# This is an example of load the pretrained model\n",
    "# You should run this after you have installed the required packages and download the weights\n",
    "\n",
    "from cifar10_models.vgg import vgg11_bn, vgg13_bn, vgg16_bn, vgg19_bn\n",
    "\n",
    "# Untrained model\n",
    "my_model = vgg11_bn()\n",
    "\n",
    "# Pretrained model\n",
    "my_model = vgg11_bn(pretrained=True)\n",
    "my_model.eval() # for evaluation"
   ]
  },
  {
   "cell_type": "code",
   "execution_count": null,
   "metadata": {
    "id": "epBOlUeU4W0J"
   },
   "outputs": [],
   "source": [
    "# To do: you should follow the hw2 specification, evaluate the models on each pretrained models\n",
    "# You should implement your own python code here (for loading the model), instead of driectly call the command of \n",
    "# testing the pretrained model in the github.  "
   ]
  }
 ],
 "metadata": {
  "accelerator": "GPU",
  "colab": {
   "authorship_tag": "ABX9TyPSlbj3TpdemqN2Qst37Y3n",
   "collapsed_sections": [],
   "name": "Google colab usage.ipynb",
   "provenance": [
    {
     "file_id": "1F9RQIM66OcKd9R9iDr-hvyaQrz2c4rCf",
     "timestamp": 1632949254855
    }
   ]
  },
  "kernelspec": {
   "display_name": "Python 3 (ipykernel)",
   "language": "python",
   "name": "python3"
  }
 },
 "nbformat": 4,
 "nbformat_minor": 1
}
