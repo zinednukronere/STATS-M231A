{
  "nbformat": 4,
  "nbformat_minor": 0,
  "metadata": {
    "colab": {
      "name": "policyGradientCartpole.ipynb",
      "provenance": [],
      "collapsed_sections": []
    },
    "kernelspec": {
      "name": "python3",
      "display_name": "Python 3"
    },
    "language_info": {
      "name": "python"
    }
  },
  "cells": [
    {
      "cell_type": "code",
      "metadata": {
        "colab": {
          "base_uri": "https://localhost:8080/"
        },
        "id": "pGZGNGKYKBbA",
        "outputId": "dbccb807-7b16-47a4-dc05-15619ca5bbd2"
      },
      "source": [
        "from google.colab import drive\n",
        "drive.mount('/content/gdrive')"
      ],
      "execution_count": null,
      "outputs": [
        {
          "output_type": "stream",
          "name": "stdout",
          "text": [
            "Drive already mounted at /content/gdrive; to attempt to forcibly remount, call drive.mount(\"/content/gdrive\", force_remount=True).\n"
          ]
        }
      ]
    },
    {
      "cell_type": "code",
      "metadata": {
        "colab": {
          "base_uri": "https://localhost:8080/"
        },
        "id": "he5v9YndKP81",
        "outputId": "59bae74d-d730-430e-9765-726d146dcdb0"
      },
      "source": [
        "%cd /content/gdrive/MyDrive/HW5/policyGradientCartpole"
      ],
      "execution_count": null,
      "outputs": [
        {
          "output_type": "stream",
          "name": "stdout",
          "text": [
            "/content/gdrive/MyDrive/HW5/policyGradientCartpole\n"
          ]
        }
      ]
    },
    {
      "cell_type": "code",
      "metadata": {
        "id": "g5IQmZ3GKlDI"
      },
      "source": [
        "import gym\n",
        "import numpy as np\n",
        "from gym.wrappers.monitor import Monitor, load_results\n",
        "import matplotlib.pyplot as plt"
      ],
      "execution_count": null,
      "outputs": []
    },
    {
      "cell_type": "code",
      "metadata": {
        "id": "5tB-F7QgK1Px"
      },
      "source": [
        "env = gym.make('CartPole-v0')"
      ],
      "execution_count": null,
      "outputs": []
    },
    {
      "cell_type": "code",
      "metadata": {
        "colab": {
          "base_uri": "https://localhost:8080/"
        },
        "id": "zK3hyVASK_Ju",
        "outputId": "2d048953-b542-4131-cef4-bf75d77a9daf"
      },
      "source": [
        "print(env.observation_space)\n",
        "print(env.action_space)"
      ],
      "execution_count": null,
      "outputs": [
        {
          "output_type": "stream",
          "name": "stdout",
          "text": [
            "Box(-3.4028234663852886e+38, 3.4028234663852886e+38, (4,), float32)\n",
            "Discrete(2)\n"
          ]
        }
      ]
    },
    {
      "cell_type": "code",
      "metadata": {
        "id": "Ngq_JSpeLIjw"
      },
      "source": [
        "class LogisticPolicy:\n",
        "\n",
        "    def __init__(self, θ, α, γ):\n",
        "        # Initialize paramters θ, learning rate α and discount factor γ\n",
        "\n",
        "        self.θ = θ\n",
        "        self.α = α\n",
        "        self.γ = γ\n",
        "        self.cost_history = []\n",
        "\n",
        "    def logistic(self, y):\n",
        "        # definition of logistic function\n",
        "\n",
        "        return 1/(1 + np.exp(-y))\n",
        "\n",
        "    def probs(self, x):\n",
        "        # returns probabilities of two actions\n",
        "\n",
        "        y = x @ self.θ\n",
        "        prob0 = self.logistic(y)\n",
        "\n",
        "        return np.array([prob0, 1-prob0])\n",
        "\n",
        "    def act(self, x):\n",
        "        # sample an action in proportion to probabilities\n",
        "\n",
        "        probs = self.probs(x)\n",
        "        action = np.random.choice([0, 1], p=probs)\n",
        "        return action, probs[action]\n",
        "\n",
        "    def grad_log_p(self, x):\n",
        "        # calculate grad-log-probs\n",
        "\n",
        "        y = x @ self.θ\n",
        "        grad_log_p0 = x - x*self.logistic(y)\n",
        "        grad_log_p1 = - x*self.logistic(y)\n",
        "\n",
        "        return grad_log_p0, grad_log_p1\n",
        "\n",
        "    def grad_log_p_dot_rewards(self, grad_log_p, actions, discounted_rewards):\n",
        "        # dot grads with future rewards for each action in episode\n",
        "\n",
        "        return grad_log_p.T @ discounted_rewards\n",
        "\n",
        "    def discount_rewards(self, rewards):\n",
        "        # calculate temporally adjusted, discounted rewards\n",
        "\n",
        "        discounted_rewards = np.zeros(len(rewards))\n",
        "        cumulative_rewards = 0\n",
        "        for i in reversed(range(0, len(rewards))):\n",
        "            cumulative_rewards = cumulative_rewards * self.γ + rewards[i]\n",
        "            discounted_rewards[i] = cumulative_rewards\n",
        "\n",
        "        return discounted_rewards\n",
        "\n",
        "    def update(self, rewards, obs, actions,probs):\n",
        "        # calculate gradients for each action over all observations\n",
        "        grad_log_p = np.array([self.grad_log_p(ob)[action] for ob,action in zip(obs,actions)])\n",
        "        assert grad_log_p.shape == (len(obs), 4)\n",
        "\n",
        "        # calculate temporaly adjusted, discounted rewards\n",
        "        discounted_rewards = self.discount_rewards(rewards)\n",
        "        d_rewards = discounted_rewards.copy()\n",
        "        d_rewards -= np.mean(d_rewards) #normalize\n",
        "        d_rewards /= np.std(d_rewards)\n",
        "        #Calculate cross entropy with model predictions and actual labels\n",
        "        loss = np.mean(-np.log(probs)*d_rewards)\n",
        "        print(np.mean(d_rewards))\n",
        "        self.cost_history.append(loss)\n",
        "\n",
        "\n",
        "\n",
        "        # gradients times rewards\n",
        "        dot = self.grad_log_p_dot_rewards(grad_log_p, actions, discounted_rewards)\n",
        "\n",
        "        # gradient ascent on parameters\n",
        "        self.θ += self.α*dot"
      ],
      "execution_count": null,
      "outputs": []
    },
    {
      "cell_type": "code",
      "metadata": {
        "id": "enjasEIzLSNV"
      },
      "source": [
        "def run_episode(env, policy, render=False):\n",
        "\n",
        "    observation = env.reset()\n",
        "    totalreward = 0\n",
        "\n",
        "    observations = []\n",
        "    actions = []\n",
        "    rewards = []\n",
        "    probs = []\n",
        "\n",
        "    done = False\n",
        "\n",
        "    while not done:\n",
        "        if render:\n",
        "            env.render()\n",
        "\n",
        "        observations.append(observation)\n",
        "\n",
        "        action, prob = policy.act(observation)\n",
        "        observation, reward, done, info = env.step(action)\n",
        "\n",
        "        totalreward += reward\n",
        "        rewards.append(reward)\n",
        "        actions.append(action)\n",
        "        probs.append(prob)\n",
        "\n",
        "    return totalreward, np.array(rewards), np.array(observations), np.array(actions), np.array(probs)"
      ],
      "execution_count": null,
      "outputs": []
    },
    {
      "cell_type": "code",
      "metadata": {
        "id": "CMGn3bi9LdsI"
      },
      "source": [
        "def train(θ, α, γ, Policy, MAX_EPISODES=1000, seed=None, evaluate=False):\n",
        "\n",
        "    # initialize environment and policy\n",
        "    env = gym.make('CartPole-v0')\n",
        "    if seed is not None:\n",
        "        env.seed(seed)\n",
        "    episode_rewards = []\n",
        "    policy = Policy(θ, α, γ)\n",
        "\n",
        "    # train until MAX_EPISODES\n",
        "    for i in range(MAX_EPISODES):\n",
        "\n",
        "        # run a single episode\n",
        "        total_reward, rewards, observations, actions, probs = run_episode(env, policy)\n",
        "        # keep track of episode rewards\n",
        "        episode_rewards.append(total_reward)\n",
        "\n",
        "        # update policy\n",
        "        policy.update(rewards, observations, actions,probs)\n",
        "        print(\"EP: \" + str(i) + \" Score: \" + str(total_reward) + \" \",end=\"\\r\", flush=False)\n",
        "\n",
        "        is_solved = np.mean(episode_rewards[-100:])\n",
        "        if is_solved > 195:\n",
        "            print('\\n Task Completed! \\n')\n",
        "            break\n",
        "        print(\"Average over last 100 episode: {0:.2f} \\n\".format(is_solved))\n",
        "\n",
        "    # evaluation call after training is finished - evaluate last trained policy on 100 episodes\n",
        "    if evaluate:\n",
        "        env = Monitor(env, 'pg_cartpole/', video_callable=False, force=True)\n",
        "        for _ in range(100):\n",
        "            run_episode(env, policy, render=False)\n",
        "        env.env.close()\n",
        "\n",
        "    return episode_rewards, policy"
      ],
      "execution_count": null,
      "outputs": []
    },
    {
      "cell_type": "code",
      "metadata": {
        "id": "THihMjMiLiQZ"
      },
      "source": [
        "GLOBAL_SEED = 0\n",
        "np.random.seed(GLOBAL_SEED)\n",
        "\n",
        "episode_rewards, policy = train(θ=np.random.rand(4),\n",
        "                                α=0.002,\n",
        "                                γ=0.99,\n",
        "                                Policy=LogisticPolicy,\n",
        "                                MAX_EPISODES=2000,\n",
        "                                seed=GLOBAL_SEED,\n",
        "                                evaluate=False)"
      ],
      "execution_count": null,
      "outputs": []
    },
    {
      "cell_type": "code",
      "metadata": {
        "id": "j8PtERGoL6W_",
        "colab": {
          "base_uri": "https://localhost:8080/",
          "height": 312
        },
        "outputId": "6732d1e0-89c5-46cc-cbdf-fca803058a2f"
      },
      "source": [
        "plt.plot(episode_rewards);\n",
        "plt.xlabel('runs')\n",
        "plt.ylabel('score')\n",
        "plt.title(\"Training progress for Cartpole-v0 policy gradient\")"
      ],
      "execution_count": null,
      "outputs": [
        {
          "output_type": "execute_result",
          "data": {
            "text/plain": [
              "Text(0.5, 1.0, 'Training progress for Cartpole-v0 policy gradient')"
            ]
          },
          "metadata": {},
          "execution_count": 151
        },
        {
          "output_type": "display_data",
          "data": {
            "image/png": "[encoded data removed]",
            "text/plain": [
              "<Figure size 432x288 with 1 Axes>"
            ]
          },
          "metadata": {
            "needs_background": "light"
          }
        }
      ]
    },
    {
      "cell_type": "code",
      "metadata": {
        "colab": {
          "base_uri": "https://localhost:8080/",
          "height": 312
        },
        "id": "dkAFg1Iuzz6b",
        "outputId": "04017ed1-962a-44c2-8d2b-60aff1d9456e"
      },
      "source": [
        "plt.plot(policy.cost_history);\n",
        "plt.xlabel('runs')\n",
        "plt.ylabel('loss')\n",
        "plt.title(\"Loss progress for Cartpole-v0 policy gradient\")"
      ],
      "execution_count": null,
      "outputs": [
        {
          "output_type": "execute_result",
          "data": {
            "text/plain": [
              "Text(0.5, 1.0, 'Loss progress for Cartpole-v0 policy gradient')"
            ]
          },
          "metadata": {},
          "execution_count": 152
        },
        {
          "output_type": "display_data",
          "data": {
            "image/png": "[encoded data removed]",
            "text/plain": [
              "<Figure size 432x288 with 1 Axes>"
            ]
          },
          "metadata": {
            "needs_background": "light"
          }
        }
      ]
    }
  ]
}