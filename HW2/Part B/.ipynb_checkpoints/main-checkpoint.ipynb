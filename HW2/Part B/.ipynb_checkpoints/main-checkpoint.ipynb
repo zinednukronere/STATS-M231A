{
 "cells": [
  {
   "cell_type": "markdown",
   "metadata": {
    "id": "pnHEX9HElG67"
   },
   "source": [
    "In this notebook, we'll be using a GRU model for a time series prediction task and we will compare the performance of the GRU model against an LSTM model as well. The dataset that we will be using is the Hourly Energy Consumption dataset which can be found on [Kaggle](https://www.kaggle.com/robikscube/hourly-energy-consumption). The dataset contains power consumption data across different regions around the United States recorded on an hourly basis.\n",
    "\n",
    "You can run the code implementation in this article on FloydHub using their GPUs on the cloud by clicking the following link and using the main.ipynb notebook.\n",
    "\n",
    "[![Run on FloydHub](https://static.floydhub.com/button/button-small.svg)](https://floydhub.com/run?template=https://github.com/gabrielloye/https://github.com/gabrielloye/GRU_Prediction)\n",
    "\n",
    "This will speed up the training process significantly. Alternatively, the link to the GitHub repository can be found [here]().\n",
    "\n",
    "The goal of this implementation is to create a model that can accurately predict the energy usage in the next hour given historical usage data. We will be using both the GRU and LSTM model to train on a set of historical data and evaluate both models on an unseen test set. To do so, we’ll start with feature selection, data-preprocessing, followed by defining, training and eventually evaluating the models.\n",
    "\n",
    "We will be using the PyTorch library to implement both types of models along with other common Python libraries used in data analytics."
   ]
  },
  {
   "cell_type": "code",
   "execution_count": null,
   "metadata": {
    "colab": {
     "base_uri": "https://localhost:8080/"
    },
    "id": "QrliKWZlljYi",
    "outputId": "9916bdaf-d165-4ad3-8679-cc107a3570d8"
   },
   "outputs": [
    {
     "name": "stdout",
     "output_type": "stream",
     "text": [
      "Mounted at /content/gdrive\n"
     ]
    }
   ],
   "source": [
    "from google.colab import drive\n",
    "drive.mount('/content/gdrive')"
   ]
  },
  {
   "cell_type": "code",
   "execution_count": null,
   "metadata": {
    "id": "FqxbapHolG6_"
   },
   "outputs": [],
   "source": [
    "#Importing libraries\n",
    "import os\n",
    "import time\n",
    "\n",
    "import numpy as np\n",
    "import pandas as pd\n",
    "import matplotlib.pyplot as plt\n",
    "\n",
    "import torch\n",
    "import torch.nn as nn\n",
    "from torch.utils.data import TensorDataset, DataLoader\n",
    "\n",
    "from tqdm import tqdm_notebook\n",
    "from sklearn.preprocessing import MinMaxScaler\n",
    "\n"
   ]
  },
  {
   "cell_type": "code",
   "execution_count": null,
   "metadata": {
    "colab": {
     "base_uri": "https://localhost:8080/",
     "height": 240
    },
    "id": "sn60xCNklG7B",
    "outputId": "f464d622-91fa-4788-ec67-194f68ccf0e3"
   },
   "outputs": [
    {
     "name": "stdout",
     "output_type": "stream",
     "text": [
      "['FE_hourly.csv', 'DUQ_hourly.csv', 'PJMW_hourly.csv', 'COMED_hourly.csv', 'PJME_hourly.csv', 'pjm_hourly_est.csv', 'NI_hourly.csv', 'DEOK_hourly.csv', 'DAYTON_hourly.csv', 'AEP_hourly.csv', 'EKPC_hourly.csv', 'est_hourly.paruqet', 'DOM_hourly.csv', 'PJM_Load_hourly.csv', 'testAndTrainData.p', 'gru_model_1.p', 'lstm_model_1.p', 'gru_model_2.p', 'lstm_model_2.p', 'rnn_model_2.p', 'rnn_model_1.p']\n"
     ]
    },
    {
     "data": {
      "text/html": [
       "<div>\n",
       "<style scoped>\n",
       "    .dataframe tbody tr th:only-of-type {\n",
       "        vertical-align: middle;\n",
       "    }\n",
       "\n",
       "    .dataframe tbody tr th {\n",
       "        vertical-align: top;\n",
       "    }\n",
       "\n",
       "    .dataframe thead th {\n",
       "        text-align: right;\n",
       "    }\n",
       "</style>\n",
       "<table border=\"1\" class=\"dataframe\">\n",
       "  <thead>\n",
       "    <tr style=\"text-align: right;\">\n",
       "      <th></th>\n",
       "      <th>Datetime</th>\n",
       "      <th>AEP_MW</th>\n",
       "    </tr>\n",
       "  </thead>\n",
       "  <tbody>\n",
       "    <tr>\n",
       "      <th>0</th>\n",
       "      <td>2004-12-31 01:00:00</td>\n",
       "      <td>13478.0</td>\n",
       "    </tr>\n",
       "    <tr>\n",
       "      <th>1</th>\n",
       "      <td>2004-12-31 02:00:00</td>\n",
       "      <td>12865.0</td>\n",
       "    </tr>\n",
       "    <tr>\n",
       "      <th>2</th>\n",
       "      <td>2004-12-31 03:00:00</td>\n",
       "      <td>12577.0</td>\n",
       "    </tr>\n",
       "    <tr>\n",
       "      <th>3</th>\n",
       "      <td>2004-12-31 04:00:00</td>\n",
       "      <td>12517.0</td>\n",
       "    </tr>\n",
       "    <tr>\n",
       "      <th>4</th>\n",
       "      <td>2004-12-31 05:00:00</td>\n",
       "      <td>12670.0</td>\n",
       "    </tr>\n",
       "  </tbody>\n",
       "</table>\n",
       "</div>"
      ],
      "text/plain": [
       "              Datetime   AEP_MW\n",
       "0  2004-12-31 01:00:00  13478.0\n",
       "1  2004-12-31 02:00:00  12865.0\n",
       "2  2004-12-31 03:00:00  12577.0\n",
       "3  2004-12-31 04:00:00  12517.0\n",
       "4  2004-12-31 05:00:00  12670.0"
      ]
     },
     "execution_count": 3,
     "metadata": {},
     "output_type": "execute_result"
    }
   ],
   "source": [
    "# Define data root directory\n",
    "data_dir = \"/content/gdrive/MyDrive/data/\"\n",
    "print(os.listdir(data_dir))\n",
    "pd.read_csv(data_dir + 'AEP_hourly.csv').head()"
   ]
  },
  {
   "cell_type": "markdown",
   "metadata": {
    "id": "B5ndaTnflG7B"
   },
   "source": [
    "We have a total of **12** *.csv* files containing hourly energy trend data (*'est_hourly.paruqet'* and *'pjm_hourly_est.csv'* are not used). In our next step, we will be reading these files and pre-processing these data in this order:\n",
    "- Getting the time data of each individual time step and generalizing them\n",
    "    - Hour of the day *i.e. 0-23*\n",
    "    - Day of the week *i.e. 1-7*\n",
    "    - Month *i.e. 1-12*\n",
    "    - Day of the year *i.e. 1-365*\n",
    "    \n",
    "    \n",
    "- Scale the data to values between 0 and 1\n",
    "    - Algorithms tend to perform better or converge faster when features are on a relatively similar scale and/or close to normally distributed\n",
    "    - Scaling preserves the shape of the original distribution and doesn't reduce the importance of outliers.\n",
    "    \n",
    "    \n",
    "- Group the data into sequences to be used as inputs to the model and store their corresponding labels\n",
    "    - The **sequence length** or **lookback period** is the number of data points in history that the model will use to make the prediction\n",
    "    - The label will be the next data point in time after the last one in the input sequence\n",
    "    \n",
    "\n",
    "- The inputs and labels will then be split into training and test sets"
   ]
  },
  {
   "cell_type": "code",
   "execution_count": null,
   "metadata": {
    "colab": {
     "base_uri": "https://localhost:8080/",
     "height": 99,
     "referenced_widgets": [
      "39b054d5688a40408f4c887abf79ab3d",
      "dbaad94780264cc6b503aabc030aef45",
      "d0ad968346b84027baec6152bb062db9",
      "d3d17806edf1410fa4c2bbebe7674bda",
      "06c40d7e1ba0492aacaa6ecb4cde64b1",
      "f259485953034259b62a8494dfcd223b",
      "efc2ae068b4d45b583c5f1c0b7f376e1",
      "4451c6aeacea40819a4b7e86214f0b12",
      "826f760f25af400297e292f5f64a911c",
      "08c2a1c9f3e544049032dc03bd4c7063",
      "1370d89dacc64de7b320a59099c80d33"
     ]
    },
    "id": "jDVDZWlUlG7C",
    "outputId": "a7f76ba6-29b5-4efa-b62b-dc501fbf8a2a"
   },
   "outputs": [
    {
     "name": "stderr",
     "output_type": "stream",
     "text": [
      "/usr/local/lib/python3.7/dist-packages/ipykernel_launcher.py:8: TqdmDeprecationWarning: This function will be removed in tqdm==5.0.0\n",
      "Please use `tqdm.notebook.tqdm` instead of `tqdm.tqdm_notebook`\n",
      "  \n"
     ]
    },
    {
     "data": {
      "application/vnd.jupyter.widget-view+json": {
       "model_id": "39b054d5688a40408f4c887abf79ab3d",
       "version_major": 2,
       "version_minor": 0
      },
      "text/plain": [
       "  0%|          | 0/14 [00:00<?, ?it/s]"
      ]
     },
     "metadata": {},
     "output_type": "display_data"
    }
   ],
   "source": [
    "# The scaler objects will be stored in this dictionary so that our output test data from the model can be re-scaled during evaluation\n",
    "label_scalers = {}\n",
    "\n",
    "train_x = []\n",
    "test_x = {}\n",
    "test_y = {}\n",
    "\n",
    "for file in tqdm_notebook(os.listdir(data_dir)): \n",
    "    # Skipping the files we're not using\n",
    "    if file[-4:] != \".csv\" or file == \"pjm_hourly_est.csv\":\n",
    "        continue\n",
    "    \n",
    "    # Store csv file in a Pandas DataFrame\n",
    "    df = pd.read_csv(data_dir + file, parse_dates=[0])\n",
    "    # Processing the time data into suitable input formats\n",
    "    df['hour'] = df.apply(lambda x: x['Datetime'].hour,axis=1)\n",
    "    df['dayofweek'] = df.apply(lambda x: x['Datetime'].dayofweek,axis=1)\n",
    "    df['month'] = df.apply(lambda x: x['Datetime'].month,axis=1)\n",
    "    df['dayofyear'] = df.apply(lambda x: x['Datetime'].dayofyear,axis=1)\n",
    "    df = df.sort_values(\"Datetime\").drop(\"Datetime\",axis=1)\n",
    "    \n",
    "    # Scaling the input data\n",
    "    sc = MinMaxScaler()\n",
    "    label_sc = MinMaxScaler()\n",
    "    data = sc.fit_transform(df.values)\n",
    "    # Obtaining the Scale for the labels(usage data) so that output can be re-scaled to actual value during evaluation\n",
    "    label_sc.fit(df.iloc[:,0].values.reshape(-1,1))\n",
    "    label_scalers[file] = label_sc\n",
    "    \n",
    "    # Define lookback period and split inputs/labels\n",
    "    lookback = 90\n",
    "    inputs = np.zeros((len(data)-lookback,lookback,df.shape[1]))\n",
    "    labels = np.zeros(len(data)-lookback)\n",
    "    \n",
    "    for i in range(lookback, len(data)):\n",
    "        inputs[i-lookback] = data[i-lookback:i]\n",
    "        labels[i-lookback] = data[i,0]\n",
    "    inputs = inputs.reshape(-1,lookback,df.shape[1])\n",
    "    labels = labels.reshape(-1,1)\n",
    "    \n",
    "    # Split data into train/test portions and combining all data from different files into a single array\n",
    "    test_portion = int(0.1*len(inputs))\n",
    "    if len(train_x) == 0:\n",
    "        train_x = inputs[:-test_portion]\n",
    "        train_y = labels[:-test_portion]\n",
    "    else:\n",
    "        train_x = np.concatenate((train_x,inputs[:-test_portion]))\n",
    "        train_y = np.concatenate((train_y,labels[:-test_portion]))\n",
    "    test_x[file] = (inputs[-test_portion:])\n",
    "    test_y[file] = (labels[-test_portion:])"
   ]
  },
  {
   "cell_type": "code",
   "execution_count": null,
   "metadata": {
    "id": "jEv2F5uW-dHD"
   },
   "outputs": [],
   "source": [
    "#Storing train and test data so that we wont have to load it again\n",
    "import pickle\n",
    "newDict = {\"train_x\":train_x,\"train_y\":train_y,\"test_x\":test_x,\"test_y\":test_y,\"label_scalers\":label_scalers}\n",
    "pickle.dump(newDict, open( data_dir+\"testAndTrainData.p\", \"wb\" ) )"
   ]
  },
  {
   "cell_type": "code",
   "execution_count": null,
   "metadata": {
    "colab": {
     "base_uri": "https://localhost:8080/"
    },
    "id": "I9tjnSctlG7D",
    "outputId": "f8926151-c3f2-4e75-8dba-eec1d33fae68"
   },
   "outputs": [
    {
     "name": "stdout",
     "output_type": "stream",
     "text": [
      "(980185, 90, 5)\n"
     ]
    }
   ],
   "source": [
    "print(train_x.shape)"
   ]
  },
  {
   "cell_type": "code",
   "execution_count": null,
   "metadata": {
    "id": "M0eDiFhD_GPp"
   },
   "outputs": [],
   "source": [
    "#Loading the stored test and train data\n",
    "import pickle\n",
    "newDict = pickle.load(open(data_dir+\"testAndTrainData.p\",\"rb\"))\n",
    "train_x = newDict[\"train_x\"]\n",
    "train_y = newDict[\"train_y\"]\n",
    "test_x = newDict[\"test_x\"]\n",
    "test_y = newDict[\"test_y\"]\n",
    "label_scalers=newDict[\"label_scalers\"]\n"
   ]
  },
  {
   "cell_type": "markdown",
   "metadata": {
    "id": "F2mPzxholG7E"
   },
   "source": [
    "We have a total of 980,185 sequences of training data\n",
    "\n",
    "To improve the speed of our training, we can process the data in batches so that the model does not need to update its weights as frequently. The Torch *Dataset* and *DataLoader* classes are useful for splitting our data into batches and shuffling them."
   ]
  },
  {
   "cell_type": "code",
   "execution_count": null,
   "metadata": {
    "id": "K7X1lJi_lG7F"
   },
   "outputs": [],
   "source": [
    "#Defining the train loader. !IMPORTANT! Batch size reduced to avoid memory errors\n",
    "\n",
    "batch_size = 200\n",
    "\n",
    "train_data = TensorDataset(torch.from_numpy(train_x), torch.from_numpy(train_y))\n",
    "train_loader = DataLoader(train_data, shuffle=True, batch_size=batch_size, drop_last=True)"
   ]
  },
  {
   "cell_type": "markdown",
   "metadata": {
    "id": "EIcDyiq-lG7F"
   },
   "source": [
    "We can also check if we have any GPUs to speed up our training time by many folds. If you’re using FloydHub with GPU to run this code, the training time will be significantly reduced."
   ]
  },
  {
   "cell_type": "code",
   "execution_count": null,
   "metadata": {
    "id": "7I_HtqUZlG7H"
   },
   "outputs": [],
   "source": [
    "# torch.cuda.is_available() checks and returns a Boolean True if a GPU is available, else it'll return False\n",
    "is_cuda = torch.cuda.is_available()\n",
    "\n",
    "# If we have a GPU available, we'll set our device to GPU. We'll use this device variable later in our code.\n",
    "if is_cuda:\n",
    "    device = torch.device(\"cuda\")\n",
    "else:\n",
    "    device = torch.device(\"cpu\")"
   ]
  },
  {
   "cell_type": "markdown",
   "metadata": {
    "id": "6OZ5K0lPlG7H"
   },
   "source": [
    "Next, we'll be defining the structure of the GRU and LSTM models. Both models have the same structure, with the only difference being the **recurrent layer** (GRU/LSTM) and the initializing of the hidden state. The hidden state for the LSTM is a tuple containing both the **cell state** and the **hidden state**, whereas the GRU only has a single hidden state."
   ]
  },
  {
   "cell_type": "code",
   "execution_count": null,
   "metadata": {
    "id": "LDDCJWbSlG7I"
   },
   "outputs": [],
   "source": [
    "#Defining class architectures\n",
    "class GRUNet(nn.Module):\n",
    "    def __init__(self, input_dim, hidden_dim, output_dim, n_layers, drop_prob=0.2):\n",
    "        super(GRUNet, self).__init__()\n",
    "        # torch.cuda.is_available() checks and returns a Boolean True if a GPU is available, else it'll return False\n",
    "        is_cuda = torch.cuda.is_available()\n",
    "\n",
    "        # If we have a GPU available, we'll set our device to GPU. We'll use this device variable later in our code.\n",
    "        if is_cuda:\n",
    "            device = torch.device(\"cuda:0\")\n",
    "        else:\n",
    "            device = torch.device(\"cpu\")\n",
    "        self.device = device\n",
    "        self.hidden_dim = hidden_dim\n",
    "        self.n_layers = n_layers        \n",
    "        self.gru = nn.GRU(input_dim, hidden_dim, n_layers, batch_first=True, dropout=drop_prob)\n",
    "        self.fc = nn.Linear(hidden_dim, output_dim)\n",
    "        self.relu = nn.ReLU()\n",
    "        \n",
    "        \n",
    "    def forward(self, x, h):\n",
    "        out, h = self.gru(x, h)\n",
    "        out = self.fc(self.relu(out[:,-1]))\n",
    "        return out, h\n",
    "    \n",
    "    def init_hidden(self, batch_size):\n",
    "        weight = next(self.parameters()).data\n",
    "        hidden = weight.new(self.n_layers, batch_size, self.hidden_dim).zero_().to(self.device)\n",
    "        return hidden\n",
    "\n",
    "class LSTMNet(nn.Module):\n",
    "    \n",
    "    \n",
    "    def __init__(self, input_dim, hidden_dim, output_dim, n_layers, drop_prob=0.2):\n",
    "        super(LSTMNet, self).__init__()\n",
    "        is_cuda = torch.cuda.is_available()\n",
    "\n",
    "        # If we have a GPU available, we'll set our device to GPU. We'll use this device variable later in our code.\n",
    "        if is_cuda:\n",
    "            device = torch.device(\"cuda:0\")\n",
    "        else:\n",
    "            device = torch.device(\"cpu\")\n",
    "        self.device = device\n",
    "        self.hidden_dim = hidden_dim\n",
    "        self.n_layers = n_layers\n",
    "        \n",
    "        self.lstm = nn.LSTM(input_dim, hidden_dim, n_layers, batch_first=True, dropout=drop_prob)\n",
    "        self.fc = nn.Linear(hidden_dim, output_dim)\n",
    "        self.relu = nn.ReLU()\n",
    "        \n",
    "    def forward(self, x, h):\n",
    "        out, h = self.lstm(x, h)\n",
    "        out = self.fc(self.relu(out[:,-1]))\n",
    "        return out, h\n",
    "    \n",
    "    def init_hidden(self, batch_size):\n",
    "        weight = next(self.parameters()).data\n",
    "        hidden = (weight.new(self.n_layers, batch_size, self.hidden_dim).zero_().to(self.device),\n",
    "                  weight.new(self.n_layers, batch_size, self.hidden_dim).zero_().to(self.device))\n",
    "        return hidden\n",
    "\n",
    "\n",
    "class RNN(nn.Module):\n",
    "    def __init__(self, input_dim, hidden_dim, output_dim,  n_layers):\n",
    "        super(RNN, self).__init__()\n",
    "        is_cuda = torch.cuda.is_available()\n",
    "\n",
    "        # If we have a GPU available, we'll set our device to GPU. We'll use this device variable later in our code.\n",
    "        if is_cuda:\n",
    "            device = torch.device(\"cuda:0\")\n",
    "        else:\n",
    "            device = torch.device(\"cpu\")\n",
    "        self.device = device        \n",
    "        \n",
    "        # Defining some parameters\n",
    "        self.hidden_dim = hidden_dim\n",
    "        self.n_layers = n_layers\n",
    "\n",
    "        #Defining the layers\n",
    "        # RNN Layer\n",
    "        self.rnn = nn.RNN(input_dim, hidden_dim, n_layers, batch_first=True)   \n",
    "        # Fully connected layer\n",
    "        self.fc = nn.Linear(hidden_dim, output_dim)\n",
    "    \n",
    "    def forward(self,x,hidden):\n",
    "        \n",
    "        # Passing in the input and hidden state into the model and obtaining outputs\n",
    "        out, hidden = self.rnn(x, hidden)\n",
    "        \n",
    "        # Reshaping the outputs such that it can be fit into the fully connected layer\n",
    "        #out = out.contiguous().view(-1, self.hidden_dim)\n",
    "        out = self.fc(out[:,-1])\n",
    "        \n",
    "        return out, hidden\n",
    "    \n",
    "    def init_hidden(self, batch_size):\n",
    "        # This method generates the first hidden state of zeros which we'll use in the forward pass\n",
    "        # We'll send the tensor holding the hidden state to the device we specified earlier as well\n",
    "        weight = next(self.parameters()).data\n",
    "        hidden = weight.new(self.n_layers, batch_size, self.hidden_dim).zero_().to(self.device)\n",
    "        return hidden"
   ]
  },
  {
   "cell_type": "markdown",
   "metadata": {
    "id": "gR4gU14OlG7I"
   },
   "source": [
    "The training process is defined in a function below so that we can reproduce it for both models. Both models will have the same number of **dimensions** in the *hidden state* and *layers*, trained over the same number of **epochs** and **learning rate**, and trained and tested on the exact same set of data.\n",
    "\n",
    "For the purpose of comparing the performance of both models as well, we'll being tracking the time it takes for the model to train and eventually comparing the final accuracy of both models on the test set. For our accuracy measure, we'll use *Symmetric Mean Absolute Percentage Error (sMAPE)* to evaluate the models. *sMAPE* is the sum of the **absolute difference** between the predicted and actual values divided by the average of the predicted and actual value, therefore giving a percentage measuring the amount of error. \n",
    "\n",
    "This is the formula for *sMAPE*:\n",
    "\n",
    "$sMAPE = \\frac{100%}{n} \\sum_{t=1}^n \\frac{|F_t - A_t|}{(|F_t + A_t|)/2}$"
   ]
  },
  {
   "cell_type": "code",
   "execution_count": null,
   "metadata": {
    "id": "3HIfWKkLlG7J"
   },
   "outputs": [],
   "source": [
    "def train(train_loader, batch_size,learn_rate,test_x,test_y,label_scalers, n_layers = 2,hidden_dim=256, EPOCHS=5, model_type=\"GRU\"):\n",
    "    \n",
    "    # Setting common hyperparameters\n",
    "    input_dim = next(iter(train_loader))[0].shape[2]\n",
    "    output_dim = 1\n",
    "    # Instantiating the models\n",
    "    if model_type == \"GRU\":\n",
    "        model = GRUNet(input_dim, hidden_dim, output_dim, n_layers)\n",
    "    elif model_type == \"LSTM\":\n",
    "        model = LSTMNet(input_dim, hidden_dim, output_dim, n_layers)\n",
    "    else: \n",
    "        model = RNN(input_dim, hidden_dim, output_dim, n_layers)\n",
    "    model.to(model.device)\n",
    "    \n",
    "    # Defining loss function and optimizer\n",
    "    criterion = nn.MSELoss()\n",
    "    \n",
    "    optimizer = torch.optim.Adam(model.parameters(), lr=learn_rate)\n",
    "    \n",
    "    model.train()\n",
    "    print(\"Starting Training of {} model\".format(model_type))\n",
    "    epoch_times = []\n",
    "    epochsMAPELosses=[]\n",
    "    epochMSELosses=[]\n",
    "    # Start training loop\n",
    "    for epoch in range(1,EPOCHS+1):\n",
    "        start_time = time.process_time()\n",
    "        h = model.init_hidden(batch_size)\n",
    "        avg_loss = 0.\n",
    "        counter = 0\n",
    "        for x, label in train_loader:\n",
    "            counter += 1\n",
    "            if model_type == \"GRU\" or model_type==\"RNN\":\n",
    "                h = h.data\n",
    "            else:\n",
    "                h = tuple([e.data for e in h])\n",
    "            model.zero_grad()\n",
    "            \n",
    "            out, h = model(x.to(model.device).float(), h)\n",
    "            loss = criterion(out, label.to(model.device).float())\n",
    "            loss.backward()\n",
    "            optimizer.step()\n",
    "            avg_loss += loss.item()\n",
    "            if counter%100 == 0:\n",
    "                print(\"Epoch {}......Step: {}/{}....... Average Loss for Epoch: {}\".format(epoch, counter, len(train_loader), avg_loss/counter))\n",
    "        current_time = time.process_time()\n",
    "        print(\"Epoch {}/{} Done, Total Loss: {}\".format(epoch, EPOCHS, avg_loss/len(train_loader)))\n",
    "        print(\"Time Elapsed for Epoch: {} seconds\".format(str(current_time-start_time)))\n",
    "        epoch_times.append(current_time-start_time)\n",
    "        outputs, targets, sMAPE, mse, evalTime = evaluate(model, test_x, test_y, label_scalers)\n",
    "        model.train()\n",
    "        epochsMAPELosses.append(sMAPE)\n",
    "        epochMSELosses.append(mse)\n",
    "    print(\"Total Training Time: {} seconds\".format(str(sum(epoch_times))))\n",
    "    return model,sum(epoch_times),epochsMAPELosses,epochMSELosses\n",
    "\n",
    "def evaluate(model, test_x, test_y, label_scalers):\n",
    "    model.eval()\n",
    "    outputs = []\n",
    "    targets = []\n",
    "    criterion = nn.MSELoss()\n",
    "    start_time = time.process_time()\n",
    "    mse = 0.\n",
    "    counter = 0\n",
    "    for i in test_x.keys():\n",
    "        inp = torch.from_numpy(np.array(test_x[i]))\n",
    "        labs = torch.from_numpy(np.array(test_y[i]))\n",
    "        h = model.init_hidden(inp.shape[0])\n",
    "        out, h = model(inp.to(model.device).float(), h)\n",
    "        loss = criterion(out, labs.to(model.device).float())     \n",
    "        mse += loss.item()*labs.shape[0]\n",
    "        counter += labs.shape[0]\n",
    "        outputs.append(label_scalers[i].inverse_transform(out.cpu().detach().numpy()).reshape(-1))\n",
    "        targets.append(label_scalers[i].inverse_transform(labs.numpy()).reshape(-1))\n",
    "    print(\"Evaluation Time: {}\".format(str(time.process_time()-start_time)))\n",
    "    evalTime = time.process_time()-start_time\n",
    "    sMAPE = 0\n",
    "    for i in range(len(outputs)):\n",
    "        sMAPE += np.mean(abs(outputs[i]-targets[i])/(targets[i]+outputs[i])/2)/len(outputs)\n",
    "    mse = mse/counter \n",
    "    print(\"sMAPE: {}%\".format(sMAPE*100))\n",
    "    return outputs, targets, sMAPE, mse, evalTime"
   ]
  },
  {
   "cell_type": "code",
   "execution_count": null,
   "metadata": {
    "colab": {
     "base_uri": "https://localhost:8080/"
    },
    "id": "JUmNwNEplG7J",
    "outputId": "1fee8a1c-37c6-4692-80d8-044ae3cc3144",
    "scrolled": true
   },
   "outputs": [
    {
     "name": "stdout",
     "output_type": "stream",
     "text": [
      "Starting Training of GRU model\n",
      "Epoch 1......Step: 100/4900....... Average Loss for Epoch: 0.011290248895529658\n",
      "Epoch 1......Step: 200/4900....... Average Loss for Epoch: 0.006387787316052709\n",
      "Epoch 1......Step: 300/4900....... Average Loss for Epoch: 0.00458209407205383\n",
      "Epoch 1......Step: 400/4900....... Average Loss for Epoch: 0.0036164125636423705\n",
      "Epoch 1......Step: 500/4900....... Average Loss for Epoch: 0.003005240356142167\n",
      "Epoch 1......Step: 600/4900....... Average Loss for Epoch: 0.002603155830826533\n",
      "Epoch 1......Step: 700/4900....... Average Loss for Epoch: 0.002290778343698808\n",
      "Epoch 1......Step: 800/4900....... Average Loss for Epoch: 0.0020538917654994294\n",
      "Epoch 1......Step: 900/4900....... Average Loss for Epoch: 0.0018621607534846083\n",
      "Epoch 1......Step: 1000/4900....... Average Loss for Epoch: 0.0017084733746014534\n",
      "Epoch 1......Step: 1100/4900....... Average Loss for Epoch: 0.0015821758056435184\n",
      "Epoch 1......Step: 1200/4900....... Average Loss for Epoch: 0.0014748683730916431\n",
      "Epoch 1......Step: 1300/4900....... Average Loss for Epoch: 0.0013815183567371255\n",
      "Epoch 1......Step: 1400/4900....... Average Loss for Epoch: 0.001299421489186768\n",
      "Epoch 1......Step: 1500/4900....... Average Loss for Epoch: 0.0012286552985218198\n",
      "Epoch 1......Step: 1600/4900....... Average Loss for Epoch: 0.001168006612042518\n",
      "Epoch 1......Step: 1700/4900....... Average Loss for Epoch: 0.0011132439540404663\n",
      "Epoch 1......Step: 1800/4900....... Average Loss for Epoch: 0.0010634492904905023\n",
      "Epoch 1......Step: 1900/4900....... Average Loss for Epoch: 0.0010179524189152288\n",
      "Epoch 1......Step: 2000/4900....... Average Loss for Epoch: 0.0009767316016732366\n",
      "Epoch 1......Step: 2100/4900....... Average Loss for Epoch: 0.0009402148577126874\n",
      "Epoch 1......Step: 2200/4900....... Average Loss for Epoch: 0.0009073290977473583\n",
      "Epoch 1......Step: 2300/4900....... Average Loss for Epoch: 0.0008762203177194233\n",
      "Epoch 1......Step: 2400/4900....... Average Loss for Epoch: 0.0008481972938352556\n",
      "Epoch 1......Step: 2500/4900....... Average Loss for Epoch: 0.0008219525191292633\n",
      "Epoch 1......Step: 2600/4900....... Average Loss for Epoch: 0.0007974350464848192\n",
      "Epoch 1......Step: 2700/4900....... Average Loss for Epoch: 0.000775694116360952\n",
      "Epoch 1......Step: 2800/4900....... Average Loss for Epoch: 0.0007539578527030244\n",
      "Epoch 1......Step: 2900/4900....... Average Loss for Epoch: 0.0007338426502221786\n",
      "Epoch 1......Step: 3000/4900....... Average Loss for Epoch: 0.00071597700954347\n",
      "Epoch 1......Step: 3100/4900....... Average Loss for Epoch: 0.0006981443544481731\n",
      "Epoch 1......Step: 3200/4900....... Average Loss for Epoch: 0.0006815766886052188\n",
      "Epoch 1......Step: 3300/4900....... Average Loss for Epoch: 0.0006656167591228784\n",
      "Epoch 1......Step: 3400/4900....... Average Loss for Epoch: 0.0006507757137360921\n",
      "Epoch 1......Step: 3500/4900....... Average Loss for Epoch: 0.0006363482999752575\n",
      "Epoch 1......Step: 3600/4900....... Average Loss for Epoch: 0.000622753189189906\n",
      "Epoch 1......Step: 3700/4900....... Average Loss for Epoch: 0.0006102854003689277\n",
      "Epoch 1......Step: 3800/4900....... Average Loss for Epoch: 0.0005986599938918708\n",
      "Epoch 1......Step: 3900/4900....... Average Loss for Epoch: 0.0005871748299120018\n",
      "Epoch 1......Step: 4000/4900....... Average Loss for Epoch: 0.0005763210036056989\n",
      "Epoch 1......Step: 4100/4900....... Average Loss for Epoch: 0.0005657565967331033\n",
      "Epoch 1......Step: 4200/4900....... Average Loss for Epoch: 0.0005557841035451496\n",
      "Epoch 1......Step: 4300/4900....... Average Loss for Epoch: 0.0005460606505255063\n",
      "Epoch 1......Step: 4400/4900....... Average Loss for Epoch: 0.0005369695633106114\n",
      "Epoch 1......Step: 4500/4900....... Average Loss for Epoch: 0.0005279498073893289\n",
      "Epoch 1......Step: 4600/4900....... Average Loss for Epoch: 0.0005195510095670571\n",
      "Epoch 1......Step: 4700/4900....... Average Loss for Epoch: 0.0005112815830278201\n",
      "Epoch 1......Step: 4800/4900....... Average Loss for Epoch: 0.000503419641581786\n",
      "Epoch 1......Step: 4900/4900....... Average Loss for Epoch: 0.0004960548724920955\n",
      "Epoch 1/2 Done, Total Loss: 0.0004960548724920955\n",
      "Time Elapsed for Epoch: 381.521157321 seconds\n",
      "Evaluation Time: 7.089686011000026\n",
      "sMAPE: 0.4351552253988613%\n",
      "Epoch 2......Step: 100/4900....... Average Loss for Epoch: 0.00013174988045648207\n",
      "Epoch 2......Step: 200/4900....... Average Loss for Epoch: 0.00013241497585113392\n",
      "Epoch 2......Step: 300/4900....... Average Loss for Epoch: 0.00013102117460221053\n",
      "Epoch 2......Step: 400/4900....... Average Loss for Epoch: 0.0001321817053576524\n",
      "Epoch 2......Step: 500/4900....... Average Loss for Epoch: 0.00013090872115571983\n",
      "Epoch 2......Step: 600/4900....... Average Loss for Epoch: 0.0001297534205514239\n",
      "Epoch 2......Step: 700/4900....... Average Loss for Epoch: 0.00013086174484799683\n",
      "Epoch 2......Step: 800/4900....... Average Loss for Epoch: 0.00012985449760890332\n",
      "Epoch 2......Step: 900/4900....... Average Loss for Epoch: 0.00012934937548480876\n",
      "Epoch 2......Step: 1000/4900....... Average Loss for Epoch: 0.00012937900787073886\n",
      "Epoch 2......Step: 1100/4900....... Average Loss for Epoch: 0.00012834633689966392\n",
      "Epoch 2......Step: 1200/4900....... Average Loss for Epoch: 0.00012896006412726517\n",
      "Epoch 2......Step: 1300/4900....... Average Loss for Epoch: 0.0001279650211486464\n",
      "Epoch 2......Step: 1400/4900....... Average Loss for Epoch: 0.00012697142083717544\n",
      "Epoch 2......Step: 1500/4900....... Average Loss for Epoch: 0.00012570234579713238\n",
      "Epoch 2......Step: 1600/4900....... Average Loss for Epoch: 0.0001252711632196224\n",
      "Epoch 2......Step: 1700/4900....... Average Loss for Epoch: 0.0001248709476460456\n",
      "Epoch 2......Step: 1800/4900....... Average Loss for Epoch: 0.00012477571090130368\n",
      "Epoch 2......Step: 1900/4900....... Average Loss for Epoch: 0.00012425834147219766\n",
      "Epoch 2......Step: 2000/4900....... Average Loss for Epoch: 0.00012351864670199575\n",
      "Epoch 2......Step: 2100/4900....... Average Loss for Epoch: 0.0001228943313929319\n",
      "Epoch 2......Step: 2200/4900....... Average Loss for Epoch: 0.00012286506336584517\n",
      "Epoch 2......Step: 2300/4900....... Average Loss for Epoch: 0.00012255619972837968\n",
      "Epoch 2......Step: 2400/4900....... Average Loss for Epoch: 0.00012217118379642973\n",
      "Epoch 2......Step: 2500/4900....... Average Loss for Epoch: 0.00012185614698100834\n",
      "Epoch 2......Step: 2600/4900....... Average Loss for Epoch: 0.00012119827213609824\n",
      "Epoch 2......Step: 2700/4900....... Average Loss for Epoch: 0.00012200654211348458\n",
      "Epoch 2......Step: 2800/4900....... Average Loss for Epoch: 0.00012150167226926506\n",
      "Epoch 2......Step: 2900/4900....... Average Loss for Epoch: 0.00012091930567262823\n",
      "Epoch 2......Step: 3000/4900....... Average Loss for Epoch: 0.00012063070725465271\n",
      "Epoch 2......Step: 3100/4900....... Average Loss for Epoch: 0.0001202833778323463\n",
      "Epoch 2......Step: 3200/4900....... Average Loss for Epoch: 0.00011984535299006893\n",
      "Epoch 2......Step: 3300/4900....... Average Loss for Epoch: 0.00011942020451401318\n",
      "Epoch 2......Step: 3400/4900....... Average Loss for Epoch: 0.0001190796965302605\n",
      "Epoch 2......Step: 3500/4900....... Average Loss for Epoch: 0.00011932544750743546\n",
      "Epoch 2......Step: 3600/4900....... Average Loss for Epoch: 0.0001194248468992656\n",
      "Epoch 2......Step: 3700/4900....... Average Loss for Epoch: 0.00011908746130781789\n",
      "Epoch 2......Step: 3800/4900....... Average Loss for Epoch: 0.00011868863055018378\n",
      "Epoch 2......Step: 3900/4900....... Average Loss for Epoch: 0.00011832430054850053\n",
      "Epoch 2......Step: 4000/4900....... Average Loss for Epoch: 0.00011832690345363516\n",
      "Epoch 2......Step: 4100/4900....... Average Loss for Epoch: 0.00011787293894108521\n",
      "Epoch 2......Step: 4200/4900....... Average Loss for Epoch: 0.00011764513536729196\n",
      "Epoch 2......Step: 4300/4900....... Average Loss for Epoch: 0.00011712300056810924\n",
      "Epoch 2......Step: 4400/4900....... Average Loss for Epoch: 0.00011683505094135233\n",
      "Epoch 2......Step: 4500/4900....... Average Loss for Epoch: 0.00011637321688694\n",
      "Epoch 2......Step: 4600/4900....... Average Loss for Epoch: 0.00011633908367398164\n",
      "Epoch 2......Step: 4700/4900....... Average Loss for Epoch: 0.00011616942408355944\n",
      "Epoch 2......Step: 4800/4900....... Average Loss for Epoch: 0.00011602950076849084\n",
      "Epoch 2......Step: 4900/4900....... Average Loss for Epoch: 0.0001157840500984873\n",
      "Epoch 2/2 Done, Total Loss: 0.0001157840500984873\n",
      "Time Elapsed for Epoch: 382.15755132900006 seconds\n",
      "Evaluation Time: 7.061584192000055\n",
      "sMAPE: 0.23942663383767587%\n",
      "Total Training Time: 763.6787086500001 seconds\n"
     ]
    }
   ],
   "source": [
    "#Train and save 2 layer gru\n",
    "lr = 0.001\n",
    "gru_model,trainTime,epochsMAPELosses,epochMSELosses = train(train_loader, batch_size, lr,test_x,test_y,label_scalers,\n",
    "                            n_layers = 2,EPOCHS = 2, model_type=\"GRU\")\n",
    "import pickle\n",
    "gru_model_1 = {\"gru_model\":gru_model,\"trainTime\":trainTime,\"epochsMAPELosses\":epochsMAPELosses,\"epochMSELosses\":epochMSELosses}\n",
    "pickle.dump(gru_model_1, open( data_dir+\"gru_model_1.p\", \"wb\" ) )"
   ]
  },
  {
   "cell_type": "code",
   "execution_count": null,
   "metadata": {
    "id": "od-GTGF3VKNM"
   },
   "outputs": [],
   "source": [
    "# Train and save 2 layer lstm, 3 layer gru, 3 layer lstm\n",
    "import pickle\n",
    "\n",
    "lr = 0.001\n",
    "lstm_model,trainTime,epochsMAPELosses,epochMSELosses = train(train_loader, batch_size, lr,test_x,test_y,label_scalers,\n",
    "                            n_layers = 2,EPOCHS = 2, model_type=\"LSTM\")\n",
    "lstm_model_1 = {\"lstm_model\":lstm_model,\"trainTime\":trainTime,\"epochsMAPELosses\":epochsMAPELosses,\"epochMSELosses\":epochMSELosses}\n",
    "pickle.dump(lstm_model_1, open( data_dir+\"lstm_model_1.p\", \"wb\" ) )\n",
    "\n",
    "lr = 0.001\n",
    "gru_model,trainTime,epochsMAPELosses,epochMSELosses = train(train_loader, batch_size, lr,test_x,test_y,label_scalers,\n",
    "                            n_layers = 3,EPOCHS = 2, model_type=\"GRU\")\n",
    "gru_model_2 = {\"gru_model\":gru_model,\"trainTime\":trainTime,\"epochsMAPELosses\":epochsMAPELosses,\"epochMSELosses\":epochMSELosses}\n",
    "pickle.dump(gru_model_2, open( data_dir+\"gru_model_2.p\", \"wb\" ) )\n",
    "\n",
    "lr = 0.001\n",
    "lstm_model,trainTime,epochsMAPELosses,epochMSELosses = train(train_loader, batch_size, lr,test_x,test_y,label_scalers,\n",
    "                            n_layers = 3,EPOCHS = 2, model_type=\"LSTM\")\n",
    "\n",
    "lstm_model_2 = {\"lstm_model\":lstm_model,\"trainTime\":trainTime,\"epochsMAPELosses\":epochsMAPELosses,\"epochMSELosses\":epochMSELosses}\n",
    "pickle.dump(lstm_model_2, open( data_dir+\"lstm_model_2.p\", \"wb\" ) )"
   ]
  },
  {
   "cell_type": "code",
   "execution_count": null,
   "metadata": {
    "colab": {
     "base_uri": "https://localhost:8080/"
    },
    "id": "grHxG8tfpor6",
    "outputId": "c82313a5-7796-46cf-cf71-e79503965fa7"
   },
   "outputs": [
    {
     "name": "stdout",
     "output_type": "stream",
     "text": [
      "Starting Training of RNN model\n",
      "Epoch 1......Step: 100/4900....... Average Loss for Epoch: 0.010508072100928984\n",
      "Epoch 1......Step: 200/4900....... Average Loss for Epoch: 0.005694946502626408\n",
      "Epoch 1......Step: 300/4900....... Average Loss for Epoch: 0.003984038859489374\n",
      "Epoch 1......Step: 400/4900....... Average Loss for Epoch: 0.003084267288286355\n",
      "Epoch 1......Step: 500/4900....... Average Loss for Epoch: 0.0025325088987883646\n",
      "Epoch 1......Step: 600/4900....... Average Loss for Epoch: 0.002160003044967501\n",
      "Epoch 1......Step: 700/4900....... Average Loss for Epoch: 0.0018876923548772797\n",
      "Epoch 1......Step: 800/4900....... Average Loss for Epoch: 0.0016766394924161432\n",
      "Epoch 1......Step: 900/4900....... Average Loss for Epoch: 0.0015121839244481331\n",
      "Epoch 1......Step: 1000/4900....... Average Loss for Epoch: 0.0013784150436840718\n",
      "Epoch 1......Step: 1100/4900....... Average Loss for Epoch: 0.0012697225584600924\n",
      "Epoch 1......Step: 1200/4900....... Average Loss for Epoch: 0.0011789660091380938\n",
      "Epoch 1......Step: 1300/4900....... Average Loss for Epoch: 0.0011016680661794873\n",
      "Epoch 1......Step: 1400/4900....... Average Loss for Epoch: 0.0010355323631145957\n",
      "Epoch 1......Step: 1500/4900....... Average Loss for Epoch: 0.0009781865227269009\n",
      "Epoch 1......Step: 1600/4900....... Average Loss for Epoch: 0.0009275718547041834\n",
      "Epoch 1......Step: 1700/4900....... Average Loss for Epoch: 0.0008845896714432028\n",
      "Epoch 1......Step: 1800/4900....... Average Loss for Epoch: 0.0008462368465956792\n",
      "Epoch 1......Step: 1900/4900....... Average Loss for Epoch: 0.000810955113771151\n",
      "Epoch 1......Step: 2000/4900....... Average Loss for Epoch: 0.000779714800810325\n",
      "Epoch 1......Step: 2100/4900....... Average Loss for Epoch: 0.0007527592775364784\n",
      "Epoch 1......Step: 2200/4900....... Average Loss for Epoch: 0.0007267588633740988\n",
      "Epoch 1......Step: 2300/4900....... Average Loss for Epoch: 0.0007032874838351626\n",
      "Epoch 1......Step: 2400/4900....... Average Loss for Epoch: 0.0006813870900956924\n",
      "Epoch 1......Step: 2500/4900....... Average Loss for Epoch: 0.0006610939825739478\n",
      "Epoch 1......Step: 2600/4900....... Average Loss for Epoch: 0.0006423574822418651\n",
      "Epoch 1......Step: 2700/4900....... Average Loss for Epoch: 0.0006249232329800078\n",
      "Epoch 1......Step: 2800/4900....... Average Loss for Epoch: 0.0006089901826895325\n",
      "Epoch 1......Step: 2900/4900....... Average Loss for Epoch: 0.0005939996225989207\n",
      "Epoch 1......Step: 3000/4900....... Average Loss for Epoch: 0.0005821264157736247\n",
      "Epoch 1......Step: 3100/4900....... Average Loss for Epoch: 0.0005693295966921142\n",
      "Epoch 1......Step: 3200/4900....... Average Loss for Epoch: 0.0005572539774675534\n",
      "Epoch 1......Step: 3300/4900....... Average Loss for Epoch: 0.0005452829300779602\n",
      "Epoch 1......Step: 3400/4900....... Average Loss for Epoch: 0.0005347397143743686\n",
      "Epoch 1......Step: 3500/4900....... Average Loss for Epoch: 0.0005240915813109106\n",
      "Epoch 1......Step: 3600/4900....... Average Loss for Epoch: 0.0005140965366889657\n"
     ]
    }
   ],
   "source": [
    "# Train and save 2 layer rnn\n",
    "\n",
    "import pickle\n",
    "\n",
    "lr = 0.001\n",
    "rnn_model,trainTime,epochsMAPELosses,epochMSELosses = train(train_loader, batch_size, lr,test_x,test_y,label_scalers,\n",
    "                            n_layers = 2,EPOCHS = 2, model_type=\"RNN\")\n",
    "rnn_model_1 = {\"rnn_model\":rnn_model,\"trainTime\":trainTime,\"epochsMAPELosses\":epochsMAPELosses,\"epochMSELosses\":epochMSELosses}\n",
    "pickle.dump(rnn_model_1, open( data_dir+\"rnn_model_1.p\", \"wb\" ) )\n",
    "\n"
   ]
  },
  {
   "cell_type": "code",
   "execution_count": null,
   "metadata": {
    "colab": {
     "base_uri": "https://localhost:8080/"
    },
    "id": "QLKJHIx38IlR",
    "outputId": "7ee80db7-3805-4cb3-83ba-530312f0a3ef"
   },
   "outputs": [
    {
     "name": "stdout",
     "output_type": "stream",
     "text": [
      "Starting Training of RNN model\n",
      "Epoch 1......Step: 100/4900....... Average Loss for Epoch: 0.007886426353361458\n",
      "Epoch 1......Step: 200/4900....... Average Loss for Epoch: 0.00421879909132258\n",
      "Epoch 1......Step: 300/4900....... Average Loss for Epoch: 0.0029341734061502697\n",
      "Epoch 1......Step: 400/4900....... Average Loss for Epoch: 0.002264057190550375\n",
      "Epoch 1......Step: 500/4900....... Average Loss for Epoch: 0.0018572370963811408\n",
      "Epoch 1......Step: 600/4900....... Average Loss for Epoch: 0.001582687955815345\n",
      "Epoch 1......Step: 700/4900....... Average Loss for Epoch: 0.0013846270151303282\n",
      "Epoch 1......Step: 800/4900....... Average Loss for Epoch: 0.0012352926109088004\n",
      "Epoch 1......Step: 900/4900....... Average Loss for Epoch: 0.0011221907706203639\n",
      "Epoch 1......Step: 1000/4900....... Average Loss for Epoch: 0.001032132392283529\n",
      "Epoch 1......Step: 1100/4900....... Average Loss for Epoch: 0.0009557926531521265\n",
      "Epoch 1......Step: 1200/4900....... Average Loss for Epoch: 0.0008977234108897391\n",
      "Epoch 1......Step: 1300/4900....... Average Loss for Epoch: 0.000843245609133961\n",
      "Epoch 1......Step: 1400/4900....... Average Loss for Epoch: 0.0007961441764200572\n",
      "Epoch 1......Step: 1500/4900....... Average Loss for Epoch: 0.0007558096832459948\n",
      "Epoch 1......Step: 1600/4900....... Average Loss for Epoch: 0.000722600757562759\n",
      "Epoch 1......Step: 1700/4900....... Average Loss for Epoch: 0.0006906341159200939\n",
      "Epoch 1......Step: 1800/4900....... Average Loss for Epoch: 0.0006622375991436355\n",
      "Epoch 1......Step: 1900/4900....... Average Loss for Epoch: 0.0006373724926264626\n",
      "Epoch 1......Step: 2000/4900....... Average Loss for Epoch: 0.0006165214929096692\n",
      "Epoch 1......Step: 2100/4900....... Average Loss for Epoch: 0.0005961850726418475\n",
      "Epoch 1......Step: 2200/4900....... Average Loss for Epoch: 0.0005778365364246631\n",
      "Epoch 1......Step: 2300/4900....... Average Loss for Epoch: 0.0005597612308622996\n",
      "Epoch 1......Step: 2400/4900....... Average Loss for Epoch: 0.0005438714115249847\n",
      "Epoch 1......Step: 2500/4900....... Average Loss for Epoch: 0.0005301320675149327\n",
      "Epoch 1......Step: 2600/4900....... Average Loss for Epoch: 0.0005170602157186995\n",
      "Epoch 1......Step: 2700/4900....... Average Loss for Epoch: 0.0005055941958616367\n",
      "Epoch 1......Step: 2800/4900....... Average Loss for Epoch: 0.000493239734517244\n",
      "Epoch 1......Step: 2900/4900....... Average Loss for Epoch: 0.00048155942833420404\n",
      "Epoch 1......Step: 3000/4900....... Average Loss for Epoch: 0.0004707682417623194\n",
      "Epoch 1......Step: 3100/4900....... Average Loss for Epoch: 0.00046033863627188465\n",
      "Epoch 1......Step: 3200/4900....... Average Loss for Epoch: 0.00045019952492339146\n",
      "Epoch 1......Step: 3300/4900....... Average Loss for Epoch: 0.0004411305639135235\n",
      "Epoch 1......Step: 3400/4900....... Average Loss for Epoch: 0.0004319514003145741\n",
      "Epoch 1......Step: 3500/4900....... Average Loss for Epoch: 0.00042384487308195926\n",
      "Epoch 1......Step: 3600/4900....... Average Loss for Epoch: 0.0004163737646922527\n",
      "Epoch 1......Step: 3700/4900....... Average Loss for Epoch: 0.00040900989125893335\n",
      "Epoch 1......Step: 3800/4900....... Average Loss for Epoch: 0.0004017156612826511\n",
      "Epoch 1......Step: 3900/4900....... Average Loss for Epoch: 0.00039488611764495427\n",
      "Epoch 1......Step: 4000/4900....... Average Loss for Epoch: 0.00038888156902612536\n",
      "Epoch 1......Step: 4100/4900....... Average Loss for Epoch: 0.00038296439453161594\n",
      "Epoch 1......Step: 4200/4900....... Average Loss for Epoch: 0.0003785152149586273\n",
      "Epoch 1......Step: 4300/4900....... Average Loss for Epoch: 0.000373543791062074\n",
      "Epoch 1......Step: 4400/4900....... Average Loss for Epoch: 0.0003680257099337971\n",
      "Epoch 1......Step: 4500/4900....... Average Loss for Epoch: 0.0003632108643618671\n",
      "Epoch 1......Step: 4600/4900....... Average Loss for Epoch: 0.00035912710813452417\n",
      "Epoch 1......Step: 4700/4900....... Average Loss for Epoch: 0.00035490520516759714\n",
      "Epoch 1......Step: 4800/4900....... Average Loss for Epoch: 0.00035076161403594595\n",
      "Epoch 1......Step: 4900/4900....... Average Loss for Epoch: 0.0003469134464801161\n",
      "Epoch 1/2 Done, Total Loss: 0.0003469134464801161\n",
      "Time Elapsed for Epoch: 207.75081913999998 seconds\n",
      "Evaluation Time: 4.165210937000097\n",
      "sMAPE: 0.2834533630604803%\n",
      "Epoch 2......Step: 100/4900....... Average Loss for Epoch: 0.00014090825876337477\n",
      "Epoch 2......Step: 200/4900....... Average Loss for Epoch: 0.00013414897093753098\n",
      "Epoch 2......Step: 300/4900....... Average Loss for Epoch: 0.00013636557838860123\n",
      "Epoch 2......Step: 400/4900....... Average Loss for Epoch: 0.00013597594426755676\n",
      "Epoch 2......Step: 500/4900....... Average Loss for Epoch: 0.0001357017763220938\n",
      "Epoch 2......Step: 600/4900....... Average Loss for Epoch: 0.000137909202251952\n",
      "Epoch 2......Step: 700/4900....... Average Loss for Epoch: 0.00013662859356762576\n",
      "Epoch 2......Step: 800/4900....... Average Loss for Epoch: 0.00013650736631461768\n",
      "Epoch 2......Step: 900/4900....... Average Loss for Epoch: 0.0001377270843901594\n",
      "Epoch 2......Step: 1000/4900....... Average Loss for Epoch: 0.0001388690297098947\n",
      "Epoch 2......Step: 1100/4900....... Average Loss for Epoch: 0.0001405216082044221\n",
      "Epoch 2......Step: 1200/4900....... Average Loss for Epoch: 0.00014195618941206098\n",
      "Epoch 2......Step: 1300/4900....... Average Loss for Epoch: 0.000143357062585822\n",
      "Epoch 2......Step: 1400/4900....... Average Loss for Epoch: 0.0001442103278220332\n",
      "Epoch 2......Step: 1500/4900....... Average Loss for Epoch: 0.00014418815522124835\n",
      "Epoch 2......Step: 1600/4900....... Average Loss for Epoch: 0.00014458460887908586\n",
      "Epoch 2......Step: 1700/4900....... Average Loss for Epoch: 0.00014472958722548998\n",
      "Epoch 2......Step: 1800/4900....... Average Loss for Epoch: 0.00014419798283698683\n",
      "Epoch 2......Step: 1900/4900....... Average Loss for Epoch: 0.00014437347626019466\n",
      "Epoch 2......Step: 2000/4900....... Average Loss for Epoch: 0.00014354397903662176\n",
      "Epoch 2......Step: 2100/4900....... Average Loss for Epoch: 0.0001431420866339024\n",
      "Epoch 2......Step: 2200/4900....... Average Loss for Epoch: 0.00014348432014561364\n",
      "Epoch 2......Step: 2300/4900....... Average Loss for Epoch: 0.00014400934118780043\n",
      "Epoch 2......Step: 2400/4900....... Average Loss for Epoch: 0.00014852000585051427\n",
      "Epoch 2......Step: 2500/4900....... Average Loss for Epoch: 0.000148276049157721\n",
      "Epoch 2......Step: 2600/4900....... Average Loss for Epoch: 0.00014823473484284477\n",
      "Epoch 2......Step: 2700/4900....... Average Loss for Epoch: 0.0001481290279668799\n",
      "Epoch 2......Step: 2800/4900....... Average Loss for Epoch: 0.00014819251041054874\n",
      "Epoch 2......Step: 2900/4900....... Average Loss for Epoch: 0.00014769476816331133\n",
      "Epoch 2......Step: 3000/4900....... Average Loss for Epoch: 0.00014731194809185883\n",
      "Epoch 2......Step: 3100/4900....... Average Loss for Epoch: 0.00014845704298838223\n",
      "Epoch 2......Step: 3200/4900....... Average Loss for Epoch: 0.00014832276685865508\n",
      "Epoch 2......Step: 3300/4900....... Average Loss for Epoch: 0.00014851166985119398\n",
      "Epoch 2......Step: 3400/4900....... Average Loss for Epoch: 0.00014846757016879136\n",
      "Epoch 2......Step: 3500/4900....... Average Loss for Epoch: 0.0001477339296543505\n",
      "Epoch 2......Step: 3600/4900....... Average Loss for Epoch: 0.00014926081716718422\n",
      "Epoch 2......Step: 3700/4900....... Average Loss for Epoch: 0.00014916153602236002\n",
      "Epoch 2......Step: 3800/4900....... Average Loss for Epoch: 0.00014889869720622972\n",
      "Epoch 2......Step: 3900/4900....... Average Loss for Epoch: 0.00014858385995187117\n",
      "Epoch 2......Step: 4000/4900....... Average Loss for Epoch: 0.00014843856504194263\n",
      "Epoch 2......Step: 4100/4900....... Average Loss for Epoch: 0.00014828769920114144\n",
      "Epoch 2......Step: 4200/4900....... Average Loss for Epoch: 0.00014817828179123656\n",
      "Epoch 2......Step: 4300/4900....... Average Loss for Epoch: 0.00014781365471758045\n",
      "Epoch 2......Step: 4400/4900....... Average Loss for Epoch: 0.00014745832087183688\n",
      "Epoch 2......Step: 4500/4900....... Average Loss for Epoch: 0.00014730157219229216\n",
      "Epoch 2......Step: 4600/4900....... Average Loss for Epoch: 0.0001469552222086982\n",
      "Epoch 2......Step: 4700/4900....... Average Loss for Epoch: 0.00014686393076888325\n",
      "Epoch 2......Step: 4800/4900....... Average Loss for Epoch: 0.00014698220508004548\n",
      "Epoch 2......Step: 4900/4900....... Average Loss for Epoch: 0.0001465843559203584\n",
      "Epoch 2/2 Done, Total Loss: 0.0001465843559203584\n",
      "Time Elapsed for Epoch: 207.78037414900007 seconds\n",
      "Evaluation Time: 4.161239932999933\n",
      "sMAPE: 0.2947009122604552%\n",
      "Total Training Time: 415.53119328900004 seconds\n"
     ]
    }
   ],
   "source": [
    "# Train and save 3 layer rnn\n",
    "\n",
    "lr = 0.001\n",
    "rnn_model,trainTime,epochsMAPELosses,epochMSELosses = train(train_loader, batch_size, lr,test_x,test_y,label_scalers,\n",
    "                            n_layers = 3,EPOCHS = 2, model_type=\"RNN\")\n",
    "rnn_model_2 = {\"rnn_model\":rnn_model,\"trainTime\":trainTime,\"epochsMAPELosses\":epochsMAPELosses,\"epochMSELosses\":epochMSELosses}\n",
    "pickle.dump(rnn_model_2, open( data_dir+\"rnn_model_2.p\", \"wb\" ) )"
   ]
  },
  {
   "cell_type": "markdown",
   "metadata": {
    "id": "vA3tzEyElG7K"
   },
   "source": [
    "As we can see from the training time of both models, the GRU model is the clear winner in terms of speed, as we have mentioned earlier. The GRU finished 5 training epochs 72 seconds faster than the LSTM model.\n",
    "\n",
    "Moving on to measuring the accuracy of both models, we’ll now use our evaluate() function and test dataset."
   ]
  },
  {
   "cell_type": "code",
   "execution_count": null,
   "metadata": {
    "colab": {
     "base_uri": "https://localhost:8080/"
    },
    "id": "ssVpK0VvEiV1",
    "outputId": "71a5eb0b-3c08-4d4d-9290-9fcc90d672d2"
   },
   "outputs": [
    {
     "name": "stderr",
     "output_type": "stream",
     "text": [
      "/usr/local/lib/python3.7/dist-packages/torch/nn/modules/rnn.py:838: UserWarning: RNN module weights are not part of single contiguous chunk of memory. This means they need to be compacted at every call, possibly greatly increasing memory usage. To compact weights again call flatten_parameters(). (Triggered internally at  /pytorch/aten/src/ATen/native/cudnn/RNN.cpp:924.)\n",
      "  self.dropout, self.training, self.bidirectional, self.batch_first)\n",
      "/usr/local/lib/python3.7/dist-packages/torch/nn/modules/rnn.py:838: UserWarning: RNN module weights are not part of single contiguous chunk of memory. This means they need to be compacted at every call, possibly greatly increasing memory usage. To compact weights again call flatten_parameters(). (Triggered internally at  /pytorch/aten/src/ATen/native/cudnn/RNN.cpp:924.)\n",
      "  self.dropout, self.training, self.bidirectional, self.batch_first)\n",
      "/usr/local/lib/python3.7/dist-packages/torch/nn/modules/rnn.py:838: UserWarning: RNN module weights are not part of single contiguous chunk of memory. This means they need to be compacted at every call, possibly greatly increasing memory usage. To compact weights again call flatten_parameters(). (Triggered internally at  /pytorch/aten/src/ATen/native/cudnn/RNN.cpp:924.)\n",
      "  self.dropout, self.training, self.bidirectional, self.batch_first)\n",
      "/usr/local/lib/python3.7/dist-packages/torch/nn/modules/rnn.py:838: UserWarning: RNN module weights are not part of single contiguous chunk of memory. This means they need to be compacted at every call, possibly greatly increasing memory usage. To compact weights again call flatten_parameters(). (Triggered internally at  /pytorch/aten/src/ATen/native/cudnn/RNN.cpp:924.)\n",
      "  self.dropout, self.training, self.bidirectional, self.batch_first)\n",
      "/usr/local/lib/python3.7/dist-packages/torch/nn/modules/rnn.py:838: UserWarning: RNN module weights are not part of single contiguous chunk of memory. This means they need to be compacted at every call, possibly greatly increasing memory usage. To compact weights again call flatten_parameters(). (Triggered internally at  /pytorch/aten/src/ATen/native/cudnn/RNN.cpp:924.)\n",
      "  self.dropout, self.training, self.bidirectional, self.batch_first)\n",
      "/usr/local/lib/python3.7/dist-packages/torch/nn/modules/rnn.py:838: UserWarning: RNN module weights are not part of single contiguous chunk of memory. This means they need to be compacted at every call, possibly greatly increasing memory usage. To compact weights again call flatten_parameters(). (Triggered internally at  /pytorch/aten/src/ATen/native/cudnn/RNN.cpp:924.)\n",
      "  self.dropout, self.training, self.bidirectional, self.batch_first)\n",
      "/usr/local/lib/python3.7/dist-packages/torch/nn/modules/rnn.py:838: UserWarning: RNN module weights are not part of single contiguous chunk of memory. This means they need to be compacted at every call, possibly greatly increasing memory usage. To compact weights again call flatten_parameters(). (Triggered internally at  /pytorch/aten/src/ATen/native/cudnn/RNN.cpp:924.)\n",
      "  self.dropout, self.training, self.bidirectional, self.batch_first)\n",
      "/usr/local/lib/python3.7/dist-packages/torch/nn/modules/rnn.py:838: UserWarning: RNN module weights are not part of single contiguous chunk of memory. This means they need to be compacted at every call, possibly greatly increasing memory usage. To compact weights again call flatten_parameters(). (Triggered internally at  /pytorch/aten/src/ATen/native/cudnn/RNN.cpp:924.)\n",
      "  self.dropout, self.training, self.bidirectional, self.batch_first)\n",
      "/usr/local/lib/python3.7/dist-packages/torch/nn/modules/rnn.py:838: UserWarning: RNN module weights are not part of single contiguous chunk of memory. This means they need to be compacted at every call, possibly greatly increasing memory usage. To compact weights again call flatten_parameters(). (Triggered internally at  /pytorch/aten/src/ATen/native/cudnn/RNN.cpp:924.)\n",
      "  self.dropout, self.training, self.bidirectional, self.batch_first)\n",
      "/usr/local/lib/python3.7/dist-packages/torch/nn/modules/rnn.py:838: UserWarning: RNN module weights are not part of single contiguous chunk of memory. This means they need to be compacted at every call, possibly greatly increasing memory usage. To compact weights again call flatten_parameters(). (Triggered internally at  /pytorch/aten/src/ATen/native/cudnn/RNN.cpp:924.)\n",
      "  self.dropout, self.training, self.bidirectional, self.batch_first)\n",
      "/usr/local/lib/python3.7/dist-packages/torch/nn/modules/rnn.py:838: UserWarning: RNN module weights are not part of single contiguous chunk of memory. This means they need to be compacted at every call, possibly greatly increasing memory usage. To compact weights again call flatten_parameters(). (Triggered internally at  /pytorch/aten/src/ATen/native/cudnn/RNN.cpp:924.)\n",
      "  self.dropout, self.training, self.bidirectional, self.batch_first)\n",
      "/usr/local/lib/python3.7/dist-packages/torch/nn/modules/rnn.py:838: UserWarning: RNN module weights are not part of single contiguous chunk of memory. This means they need to be compacted at every call, possibly greatly increasing memory usage. To compact weights again call flatten_parameters(). (Triggered internally at  /pytorch/aten/src/ATen/native/cudnn/RNN.cpp:924.)\n",
      "  self.dropout, self.training, self.bidirectional, self.batch_first)\n"
     ]
    },
    {
     "name": "stdout",
     "output_type": "stream",
     "text": [
      "Evaluation Time: 7.132911622000002\n",
      "sMAPE: 0.23942663383767587%\n"
     ]
    }
   ],
   "source": [
    "# Load 2 layer gru and test it\n",
    "\n",
    "import pickle\n",
    "gru_model_1 = pickle.load(open(data_dir+\"gru_model_1.p\",\"rb\"))\n",
    "gru_model = gru_model_1[\"gru_model\"]\n",
    "trainTime = gru_model_1[\"trainTime\"]\n",
    "epochsMAPELosses = gru_model_1[\"epochsMAPELosses\"]\n",
    "epochMSELosses = gru_model_1[\"epochMSELosses\"]\n",
    "outputs, targets, sMAPE, mse, evalTime = evaluate(gru_model, test_x, test_y, label_scalers)"
   ]
  },
  {
   "cell_type": "code",
   "execution_count": null,
   "metadata": {
    "colab": {
     "base_uri": "https://localhost:8080/"
    },
    "id": "9922wzint-mC",
    "outputId": "30ec6997-d595-462f-e2f6-43f67e1107fd"
   },
   "outputs": [
    {
     "name": "stderr",
     "output_type": "stream",
     "text": [
      "/usr/local/lib/python3.7/dist-packages/torch/nn/modules/rnn.py:680: UserWarning: RNN module weights are not part of single contiguous chunk of memory. This means they need to be compacted at every call, possibly greatly increasing memory usage. To compact weights again call flatten_parameters(). (Triggered internally at  /pytorch/aten/src/ATen/native/cudnn/RNN.cpp:924.)\n",
      "  self.dropout, self.training, self.bidirectional, self.batch_first)\n",
      "/usr/local/lib/python3.7/dist-packages/torch/nn/modules/rnn.py:680: UserWarning: RNN module weights are not part of single contiguous chunk of memory. This means they need to be compacted at every call, possibly greatly increasing memory usage. To compact weights again call flatten_parameters(). (Triggered internally at  /pytorch/aten/src/ATen/native/cudnn/RNN.cpp:924.)\n",
      "  self.dropout, self.training, self.bidirectional, self.batch_first)\n",
      "/usr/local/lib/python3.7/dist-packages/torch/nn/modules/rnn.py:680: UserWarning: RNN module weights are not part of single contiguous chunk of memory. This means they need to be compacted at every call, possibly greatly increasing memory usage. To compact weights again call flatten_parameters(). (Triggered internally at  /pytorch/aten/src/ATen/native/cudnn/RNN.cpp:924.)\n",
      "  self.dropout, self.training, self.bidirectional, self.batch_first)\n",
      "/usr/local/lib/python3.7/dist-packages/torch/nn/modules/rnn.py:680: UserWarning: RNN module weights are not part of single contiguous chunk of memory. This means they need to be compacted at every call, possibly greatly increasing memory usage. To compact weights again call flatten_parameters(). (Triggered internally at  /pytorch/aten/src/ATen/native/cudnn/RNN.cpp:924.)\n",
      "  self.dropout, self.training, self.bidirectional, self.batch_first)\n",
      "/usr/local/lib/python3.7/dist-packages/torch/nn/modules/rnn.py:680: UserWarning: RNN module weights are not part of single contiguous chunk of memory. This means they need to be compacted at every call, possibly greatly increasing memory usage. To compact weights again call flatten_parameters(). (Triggered internally at  /pytorch/aten/src/ATen/native/cudnn/RNN.cpp:924.)\n",
      "  self.dropout, self.training, self.bidirectional, self.batch_first)\n",
      "/usr/local/lib/python3.7/dist-packages/torch/nn/modules/rnn.py:680: UserWarning: RNN module weights are not part of single contiguous chunk of memory. This means they need to be compacted at every call, possibly greatly increasing memory usage. To compact weights again call flatten_parameters(). (Triggered internally at  /pytorch/aten/src/ATen/native/cudnn/RNN.cpp:924.)\n",
      "  self.dropout, self.training, self.bidirectional, self.batch_first)\n",
      "/usr/local/lib/python3.7/dist-packages/torch/nn/modules/rnn.py:680: UserWarning: RNN module weights are not part of single contiguous chunk of memory. This means they need to be compacted at every call, possibly greatly increasing memory usage. To compact weights again call flatten_parameters(). (Triggered internally at  /pytorch/aten/src/ATen/native/cudnn/RNN.cpp:924.)\n",
      "  self.dropout, self.training, self.bidirectional, self.batch_first)\n",
      "/usr/local/lib/python3.7/dist-packages/torch/nn/modules/rnn.py:680: UserWarning: RNN module weights are not part of single contiguous chunk of memory. This means they need to be compacted at every call, possibly greatly increasing memory usage. To compact weights again call flatten_parameters(). (Triggered internally at  /pytorch/aten/src/ATen/native/cudnn/RNN.cpp:924.)\n",
      "  self.dropout, self.training, self.bidirectional, self.batch_first)\n",
      "/usr/local/lib/python3.7/dist-packages/torch/nn/modules/rnn.py:680: UserWarning: RNN module weights are not part of single contiguous chunk of memory. This means they need to be compacted at every call, possibly greatly increasing memory usage. To compact weights again call flatten_parameters(). (Triggered internally at  /pytorch/aten/src/ATen/native/cudnn/RNN.cpp:924.)\n",
      "  self.dropout, self.training, self.bidirectional, self.batch_first)\n",
      "/usr/local/lib/python3.7/dist-packages/torch/nn/modules/rnn.py:680: UserWarning: RNN module weights are not part of single contiguous chunk of memory. This means they need to be compacted at every call, possibly greatly increasing memory usage. To compact weights again call flatten_parameters(). (Triggered internally at  /pytorch/aten/src/ATen/native/cudnn/RNN.cpp:924.)\n",
      "  self.dropout, self.training, self.bidirectional, self.batch_first)\n",
      "/usr/local/lib/python3.7/dist-packages/torch/nn/modules/rnn.py:680: UserWarning: RNN module weights are not part of single contiguous chunk of memory. This means they need to be compacted at every call, possibly greatly increasing memory usage. To compact weights again call flatten_parameters(). (Triggered internally at  /pytorch/aten/src/ATen/native/cudnn/RNN.cpp:924.)\n",
      "  self.dropout, self.training, self.bidirectional, self.batch_first)\n",
      "/usr/local/lib/python3.7/dist-packages/torch/nn/modules/rnn.py:680: UserWarning: RNN module weights are not part of single contiguous chunk of memory. This means they need to be compacted at every call, possibly greatly increasing memory usage. To compact weights again call flatten_parameters(). (Triggered internally at  /pytorch/aten/src/ATen/native/cudnn/RNN.cpp:924.)\n",
      "  self.dropout, self.training, self.bidirectional, self.batch_first)\n"
     ]
    },
    {
     "name": "stdout",
     "output_type": "stream",
     "text": [
      "Evaluation Time: 9.566748861\n",
      "sMAPE: 0.2667451380434859%\n"
     ]
    }
   ],
   "source": [
    "# Load 2 layer lstm and test it\n",
    "\n",
    "lstm_model_1 = pickle.load(open(data_dir+\"lstm_model_1.p\",\"rb\"))\n",
    "lstm_model = lstm_model_1[\"lstm_model\"]\n",
    "trainTime = lstm_model_1[\"trainTime\"]\n",
    "epochsMAPELosses = lstm_model_1[\"epochsMAPELosses\"]\n",
    "epochMSELosses = lstm_model_1[\"epochMSELosses\"]\n",
    "outputs, targets, sMAPE, mse, evalTime = evaluate(lstm_model, test_x, test_y, label_scalers)"
   ]
  },
  {
   "cell_type": "code",
   "execution_count": null,
   "metadata": {
    "colab": {
     "base_uri": "https://localhost:8080/"
    },
    "id": "yH0i4uzfub7E",
    "outputId": "9b58e165-fe9b-43a6-ef1b-6c326142184c"
   },
   "outputs": [
    {
     "name": "stderr",
     "output_type": "stream",
     "text": [
      "/usr/local/lib/python3.7/dist-packages/torch/nn/modules/rnn.py:269: UserWarning: RNN module weights are not part of single contiguous chunk of memory. This means they need to be compacted at every call, possibly greatly increasing memory usage. To compact weights again call flatten_parameters(). (Triggered internally at  /pytorch/aten/src/ATen/native/cudnn/RNN.cpp:924.)\n",
      "  self.dropout, self.training, self.bidirectional, self.batch_first)\n",
      "/usr/local/lib/python3.7/dist-packages/torch/nn/modules/rnn.py:269: UserWarning: RNN module weights are not part of single contiguous chunk of memory. This means they need to be compacted at every call, possibly greatly increasing memory usage. To compact weights again call flatten_parameters(). (Triggered internally at  /pytorch/aten/src/ATen/native/cudnn/RNN.cpp:924.)\n",
      "  self.dropout, self.training, self.bidirectional, self.batch_first)\n",
      "/usr/local/lib/python3.7/dist-packages/torch/nn/modules/rnn.py:269: UserWarning: RNN module weights are not part of single contiguous chunk of memory. This means they need to be compacted at every call, possibly greatly increasing memory usage. To compact weights again call flatten_parameters(). (Triggered internally at  /pytorch/aten/src/ATen/native/cudnn/RNN.cpp:924.)\n",
      "  self.dropout, self.training, self.bidirectional, self.batch_first)\n",
      "/usr/local/lib/python3.7/dist-packages/torch/nn/modules/rnn.py:269: UserWarning: RNN module weights are not part of single contiguous chunk of memory. This means they need to be compacted at every call, possibly greatly increasing memory usage. To compact weights again call flatten_parameters(). (Triggered internally at  /pytorch/aten/src/ATen/native/cudnn/RNN.cpp:924.)\n",
      "  self.dropout, self.training, self.bidirectional, self.batch_first)\n",
      "/usr/local/lib/python3.7/dist-packages/torch/nn/modules/rnn.py:269: UserWarning: RNN module weights are not part of single contiguous chunk of memory. This means they need to be compacted at every call, possibly greatly increasing memory usage. To compact weights again call flatten_parameters(). (Triggered internally at  /pytorch/aten/src/ATen/native/cudnn/RNN.cpp:924.)\n",
      "  self.dropout, self.training, self.bidirectional, self.batch_first)\n",
      "/usr/local/lib/python3.7/dist-packages/torch/nn/modules/rnn.py:269: UserWarning: RNN module weights are not part of single contiguous chunk of memory. This means they need to be compacted at every call, possibly greatly increasing memory usage. To compact weights again call flatten_parameters(). (Triggered internally at  /pytorch/aten/src/ATen/native/cudnn/RNN.cpp:924.)\n",
      "  self.dropout, self.training, self.bidirectional, self.batch_first)\n",
      "/usr/local/lib/python3.7/dist-packages/torch/nn/modules/rnn.py:269: UserWarning: RNN module weights are not part of single contiguous chunk of memory. This means they need to be compacted at every call, possibly greatly increasing memory usage. To compact weights again call flatten_parameters(). (Triggered internally at  /pytorch/aten/src/ATen/native/cudnn/RNN.cpp:924.)\n",
      "  self.dropout, self.training, self.bidirectional, self.batch_first)\n",
      "/usr/local/lib/python3.7/dist-packages/torch/nn/modules/rnn.py:269: UserWarning: RNN module weights are not part of single contiguous chunk of memory. This means they need to be compacted at every call, possibly greatly increasing memory usage. To compact weights again call flatten_parameters(). (Triggered internally at  /pytorch/aten/src/ATen/native/cudnn/RNN.cpp:924.)\n",
      "  self.dropout, self.training, self.bidirectional, self.batch_first)\n",
      "/usr/local/lib/python3.7/dist-packages/torch/nn/modules/rnn.py:269: UserWarning: RNN module weights are not part of single contiguous chunk of memory. This means they need to be compacted at every call, possibly greatly increasing memory usage. To compact weights again call flatten_parameters(). (Triggered internally at  /pytorch/aten/src/ATen/native/cudnn/RNN.cpp:924.)\n",
      "  self.dropout, self.training, self.bidirectional, self.batch_first)\n",
      "/usr/local/lib/python3.7/dist-packages/torch/nn/modules/rnn.py:269: UserWarning: RNN module weights are not part of single contiguous chunk of memory. This means they need to be compacted at every call, possibly greatly increasing memory usage. To compact weights again call flatten_parameters(). (Triggered internally at  /pytorch/aten/src/ATen/native/cudnn/RNN.cpp:924.)\n",
      "  self.dropout, self.training, self.bidirectional, self.batch_first)\n",
      "/usr/local/lib/python3.7/dist-packages/torch/nn/modules/rnn.py:269: UserWarning: RNN module weights are not part of single contiguous chunk of memory. This means they need to be compacted at every call, possibly greatly increasing memory usage. To compact weights again call flatten_parameters(). (Triggered internally at  /pytorch/aten/src/ATen/native/cudnn/RNN.cpp:924.)\n",
      "  self.dropout, self.training, self.bidirectional, self.batch_first)\n"
     ]
    },
    {
     "name": "stdout",
     "output_type": "stream",
     "text": [
      "Evaluation Time: 2.6881338940000035\n",
      "sMAPE: 0.2975993193214345%\n"
     ]
    },
    {
     "name": "stderr",
     "output_type": "stream",
     "text": [
      "/usr/local/lib/python3.7/dist-packages/torch/nn/modules/rnn.py:269: UserWarning: RNN module weights are not part of single contiguous chunk of memory. This means they need to be compacted at every call, possibly greatly increasing memory usage. To compact weights again call flatten_parameters(). (Triggered internally at  /pytorch/aten/src/ATen/native/cudnn/RNN.cpp:924.)\n",
      "  self.dropout, self.training, self.bidirectional, self.batch_first)\n"
     ]
    }
   ],
   "source": [
    "# Load 2 layer rnn and test it\n",
    "\n",
    "rnn_model_1 = pickle.load(open(data_dir+\"rnn_model_1.p\",\"rb\"))\n",
    "rnn_model = rnn_model_1[\"rnn_model\"]\n",
    "trainTime = rnn_model_1[\"trainTime\"]\n",
    "epochsMAPELosses = rnn_model_1[\"epochsMAPELosses\"]\n",
    "epochMSELosses = rnn_model_1[\"epochMSELosses\"]\n",
    "outputs, targets, sMAPE, mse, evalTime = evaluate(rnn_model, test_x, test_y, label_scalers)"
   ]
  },
  {
   "cell_type": "code",
   "execution_count": null,
   "metadata": {
    "colab": {
     "base_uri": "https://localhost:8080/"
    },
    "id": "tkI7BMjYE1pK",
    "outputId": "2b47e437-e714-4909-84c9-2d47c552e974"
   },
   "outputs": [
    {
     "name": "stderr",
     "output_type": "stream",
     "text": [
      "/usr/local/lib/python3.7/dist-packages/torch/nn/modules/rnn.py:838: UserWarning: RNN module weights are not part of single contiguous chunk of memory. This means they need to be compacted at every call, possibly greatly increasing memory usage. To compact weights again call flatten_parameters(). (Triggered internally at  /pytorch/aten/src/ATen/native/cudnn/RNN.cpp:924.)\n",
      "  self.dropout, self.training, self.bidirectional, self.batch_first)\n",
      "/usr/local/lib/python3.7/dist-packages/torch/nn/modules/rnn.py:838: UserWarning: RNN module weights are not part of single contiguous chunk of memory. This means they need to be compacted at every call, possibly greatly increasing memory usage. To compact weights again call flatten_parameters(). (Triggered internally at  /pytorch/aten/src/ATen/native/cudnn/RNN.cpp:924.)\n",
      "  self.dropout, self.training, self.bidirectional, self.batch_first)\n",
      "/usr/local/lib/python3.7/dist-packages/torch/nn/modules/rnn.py:838: UserWarning: RNN module weights are not part of single contiguous chunk of memory. This means they need to be compacted at every call, possibly greatly increasing memory usage. To compact weights again call flatten_parameters(). (Triggered internally at  /pytorch/aten/src/ATen/native/cudnn/RNN.cpp:924.)\n",
      "  self.dropout, self.training, self.bidirectional, self.batch_first)\n",
      "/usr/local/lib/python3.7/dist-packages/torch/nn/modules/rnn.py:838: UserWarning: RNN module weights are not part of single contiguous chunk of memory. This means they need to be compacted at every call, possibly greatly increasing memory usage. To compact weights again call flatten_parameters(). (Triggered internally at  /pytorch/aten/src/ATen/native/cudnn/RNN.cpp:924.)\n",
      "  self.dropout, self.training, self.bidirectional, self.batch_first)\n",
      "/usr/local/lib/python3.7/dist-packages/torch/nn/modules/rnn.py:838: UserWarning: RNN module weights are not part of single contiguous chunk of memory. This means they need to be compacted at every call, possibly greatly increasing memory usage. To compact weights again call flatten_parameters(). (Triggered internally at  /pytorch/aten/src/ATen/native/cudnn/RNN.cpp:924.)\n",
      "  self.dropout, self.training, self.bidirectional, self.batch_first)\n",
      "/usr/local/lib/python3.7/dist-packages/torch/nn/modules/rnn.py:838: UserWarning: RNN module weights are not part of single contiguous chunk of memory. This means they need to be compacted at every call, possibly greatly increasing memory usage. To compact weights again call flatten_parameters(). (Triggered internally at  /pytorch/aten/src/ATen/native/cudnn/RNN.cpp:924.)\n",
      "  self.dropout, self.training, self.bidirectional, self.batch_first)\n",
      "/usr/local/lib/python3.7/dist-packages/torch/nn/modules/rnn.py:838: UserWarning: RNN module weights are not part of single contiguous chunk of memory. This means they need to be compacted at every call, possibly greatly increasing memory usage. To compact weights again call flatten_parameters(). (Triggered internally at  /pytorch/aten/src/ATen/native/cudnn/RNN.cpp:924.)\n",
      "  self.dropout, self.training, self.bidirectional, self.batch_first)\n",
      "/usr/local/lib/python3.7/dist-packages/torch/nn/modules/rnn.py:838: UserWarning: RNN module weights are not part of single contiguous chunk of memory. This means they need to be compacted at every call, possibly greatly increasing memory usage. To compact weights again call flatten_parameters(). (Triggered internally at  /pytorch/aten/src/ATen/native/cudnn/RNN.cpp:924.)\n",
      "  self.dropout, self.training, self.bidirectional, self.batch_first)\n",
      "/usr/local/lib/python3.7/dist-packages/torch/nn/modules/rnn.py:838: UserWarning: RNN module weights are not part of single contiguous chunk of memory. This means they need to be compacted at every call, possibly greatly increasing memory usage. To compact weights again call flatten_parameters(). (Triggered internally at  /pytorch/aten/src/ATen/native/cudnn/RNN.cpp:924.)\n",
      "  self.dropout, self.training, self.bidirectional, self.batch_first)\n",
      "/usr/local/lib/python3.7/dist-packages/torch/nn/modules/rnn.py:838: UserWarning: RNN module weights are not part of single contiguous chunk of memory. This means they need to be compacted at every call, possibly greatly increasing memory usage. To compact weights again call flatten_parameters(). (Triggered internally at  /pytorch/aten/src/ATen/native/cudnn/RNN.cpp:924.)\n",
      "  self.dropout, self.training, self.bidirectional, self.batch_first)\n",
      "/usr/local/lib/python3.7/dist-packages/torch/nn/modules/rnn.py:838: UserWarning: RNN module weights are not part of single contiguous chunk of memory. This means they need to be compacted at every call, possibly greatly increasing memory usage. To compact weights again call flatten_parameters(). (Triggered internally at  /pytorch/aten/src/ATen/native/cudnn/RNN.cpp:924.)\n",
      "  self.dropout, self.training, self.bidirectional, self.batch_first)\n",
      "/usr/local/lib/python3.7/dist-packages/torch/nn/modules/rnn.py:838: UserWarning: RNN module weights are not part of single contiguous chunk of memory. This means they need to be compacted at every call, possibly greatly increasing memory usage. To compact weights again call flatten_parameters(). (Triggered internally at  /pytorch/aten/src/ATen/native/cudnn/RNN.cpp:924.)\n",
      "  self.dropout, self.training, self.bidirectional, self.batch_first)\n"
     ]
    },
    {
     "name": "stdout",
     "output_type": "stream",
     "text": [
      "Evaluation Time: 11.726989500999998\n",
      "sMAPE: 0.2609330384962881%\n"
     ]
    }
   ],
   "source": [
    "# Load 3 layer gru and test it\n",
    "\n",
    "gru_model_2 = pickle.load(open(data_dir+\"gru_model_2.p\",\"rb\"))\n",
    "gru_model2 = gru_model_2[\"gru_model\"]\n",
    "trainTime = gru_model_2[\"trainTime\"]\n",
    "epochsMAPELosses = gru_model_2[\"epochsMAPELosses\"]\n",
    "epochMSELosses = gru_model_2[\"epochMSELosses\"]\n",
    "outputs, targets, sMAPE, mse, evalTime = evaluate(gru_model2, test_x, test_y, label_scalers)"
   ]
  },
  {
   "cell_type": "code",
   "execution_count": null,
   "metadata": {
    "colab": {
     "base_uri": "https://localhost:8080/"
    },
    "id": "4Da7Q-7DErug",
    "outputId": "26dd702f-ae92-4814-8e4c-aee0070a7ac5"
   },
   "outputs": [
    {
     "name": "stderr",
     "output_type": "stream",
     "text": [
      "/usr/local/lib/python3.7/dist-packages/torch/nn/modules/rnn.py:680: UserWarning: RNN module weights are not part of single contiguous chunk of memory. This means they need to be compacted at every call, possibly greatly increasing memory usage. To compact weights again call flatten_parameters(). (Triggered internally at  /pytorch/aten/src/ATen/native/cudnn/RNN.cpp:924.)\n",
      "  self.dropout, self.training, self.bidirectional, self.batch_first)\n",
      "/usr/local/lib/python3.7/dist-packages/torch/nn/modules/rnn.py:680: UserWarning: RNN module weights are not part of single contiguous chunk of memory. This means they need to be compacted at every call, possibly greatly increasing memory usage. To compact weights again call flatten_parameters(). (Triggered internally at  /pytorch/aten/src/ATen/native/cudnn/RNN.cpp:924.)\n",
      "  self.dropout, self.training, self.bidirectional, self.batch_first)\n",
      "/usr/local/lib/python3.7/dist-packages/torch/nn/modules/rnn.py:680: UserWarning: RNN module weights are not part of single contiguous chunk of memory. This means they need to be compacted at every call, possibly greatly increasing memory usage. To compact weights again call flatten_parameters(). (Triggered internally at  /pytorch/aten/src/ATen/native/cudnn/RNN.cpp:924.)\n",
      "  self.dropout, self.training, self.bidirectional, self.batch_first)\n",
      "/usr/local/lib/python3.7/dist-packages/torch/nn/modules/rnn.py:680: UserWarning: RNN module weights are not part of single contiguous chunk of memory. This means they need to be compacted at every call, possibly greatly increasing memory usage. To compact weights again call flatten_parameters(). (Triggered internally at  /pytorch/aten/src/ATen/native/cudnn/RNN.cpp:924.)\n",
      "  self.dropout, self.training, self.bidirectional, self.batch_first)\n",
      "/usr/local/lib/python3.7/dist-packages/torch/nn/modules/rnn.py:680: UserWarning: RNN module weights are not part of single contiguous chunk of memory. This means they need to be compacted at every call, possibly greatly increasing memory usage. To compact weights again call flatten_parameters(). (Triggered internally at  /pytorch/aten/src/ATen/native/cudnn/RNN.cpp:924.)\n",
      "  self.dropout, self.training, self.bidirectional, self.batch_first)\n",
      "/usr/local/lib/python3.7/dist-packages/torch/nn/modules/rnn.py:680: UserWarning: RNN module weights are not part of single contiguous chunk of memory. This means they need to be compacted at every call, possibly greatly increasing memory usage. To compact weights again call flatten_parameters(). (Triggered internally at  /pytorch/aten/src/ATen/native/cudnn/RNN.cpp:924.)\n",
      "  self.dropout, self.training, self.bidirectional, self.batch_first)\n",
      "/usr/local/lib/python3.7/dist-packages/torch/nn/modules/rnn.py:680: UserWarning: RNN module weights are not part of single contiguous chunk of memory. This means they need to be compacted at every call, possibly greatly increasing memory usage. To compact weights again call flatten_parameters(). (Triggered internally at  /pytorch/aten/src/ATen/native/cudnn/RNN.cpp:924.)\n",
      "  self.dropout, self.training, self.bidirectional, self.batch_first)\n",
      "/usr/local/lib/python3.7/dist-packages/torch/nn/modules/rnn.py:680: UserWarning: RNN module weights are not part of single contiguous chunk of memory. This means they need to be compacted at every call, possibly greatly increasing memory usage. To compact weights again call flatten_parameters(). (Triggered internally at  /pytorch/aten/src/ATen/native/cudnn/RNN.cpp:924.)\n",
      "  self.dropout, self.training, self.bidirectional, self.batch_first)\n",
      "/usr/local/lib/python3.7/dist-packages/torch/nn/modules/rnn.py:680: UserWarning: RNN module weights are not part of single contiguous chunk of memory. This means they need to be compacted at every call, possibly greatly increasing memory usage. To compact weights again call flatten_parameters(). (Triggered internally at  /pytorch/aten/src/ATen/native/cudnn/RNN.cpp:924.)\n",
      "  self.dropout, self.training, self.bidirectional, self.batch_first)\n",
      "/usr/local/lib/python3.7/dist-packages/torch/nn/modules/rnn.py:680: UserWarning: RNN module weights are not part of single contiguous chunk of memory. This means they need to be compacted at every call, possibly greatly increasing memory usage. To compact weights again call flatten_parameters(). (Triggered internally at  /pytorch/aten/src/ATen/native/cudnn/RNN.cpp:924.)\n",
      "  self.dropout, self.training, self.bidirectional, self.batch_first)\n",
      "/usr/local/lib/python3.7/dist-packages/torch/nn/modules/rnn.py:680: UserWarning: RNN module weights are not part of single contiguous chunk of memory. This means they need to be compacted at every call, possibly greatly increasing memory usage. To compact weights again call flatten_parameters(). (Triggered internally at  /pytorch/aten/src/ATen/native/cudnn/RNN.cpp:924.)\n",
      "  self.dropout, self.training, self.bidirectional, self.batch_first)\n",
      "/usr/local/lib/python3.7/dist-packages/torch/nn/modules/rnn.py:680: UserWarning: RNN module weights are not part of single contiguous chunk of memory. This means they need to be compacted at every call, possibly greatly increasing memory usage. To compact weights again call flatten_parameters(). (Triggered internally at  /pytorch/aten/src/ATen/native/cudnn/RNN.cpp:924.)\n",
      "  self.dropout, self.training, self.bidirectional, self.batch_first)\n"
     ]
    },
    {
     "name": "stdout",
     "output_type": "stream",
     "text": [
      "Evaluation Time: 16.047635432999996\n",
      "sMAPE: 0.2833345403081086%\n"
     ]
    }
   ],
   "source": [
    "# Load 3 layer lstm and test it\n",
    "\n",
    "lstm_model_2 = pickle.load(open(data_dir+\"lstm_model_2.p\",\"rb\"))\n",
    "lstm_model2 = lstm_model_2[\"lstm_model\"]\n",
    "trainTime = lstm_model_2[\"trainTime\"]\n",
    "epochsMAPELosses = lstm_model_2[\"epochsMAPELosses\"]\n",
    "epochMSELosses = lstm_model_2[\"epochMSELosses\"]\n",
    "outputs, targets, sMAPE, mse, evalTime = evaluate(lstm_model2, test_x, test_y, label_scalers)"
   ]
  },
  {
   "cell_type": "code",
   "execution_count": null,
   "metadata": {
    "colab": {
     "base_uri": "https://localhost:8080/"
    },
    "id": "UB_dSx3HLki6",
    "outputId": "b4629f31-4040-41e6-cf9e-40d135c9bb4a"
   },
   "outputs": [
    {
     "name": "stderr",
     "output_type": "stream",
     "text": [
      "/usr/local/lib/python3.7/dist-packages/torch/nn/modules/rnn.py:269: UserWarning: RNN module weights are not part of single contiguous chunk of memory. This means they need to be compacted at every call, possibly greatly increasing memory usage. To compact weights again call flatten_parameters(). (Triggered internally at  /pytorch/aten/src/ATen/native/cudnn/RNN.cpp:924.)\n",
      "  self.dropout, self.training, self.bidirectional, self.batch_first)\n",
      "/usr/local/lib/python3.7/dist-packages/torch/nn/modules/rnn.py:269: UserWarning: RNN module weights are not part of single contiguous chunk of memory. This means they need to be compacted at every call, possibly greatly increasing memory usage. To compact weights again call flatten_parameters(). (Triggered internally at  /pytorch/aten/src/ATen/native/cudnn/RNN.cpp:924.)\n",
      "  self.dropout, self.training, self.bidirectional, self.batch_first)\n",
      "/usr/local/lib/python3.7/dist-packages/torch/nn/modules/rnn.py:269: UserWarning: RNN module weights are not part of single contiguous chunk of memory. This means they need to be compacted at every call, possibly greatly increasing memory usage. To compact weights again call flatten_parameters(). (Triggered internally at  /pytorch/aten/src/ATen/native/cudnn/RNN.cpp:924.)\n",
      "  self.dropout, self.training, self.bidirectional, self.batch_first)\n",
      "/usr/local/lib/python3.7/dist-packages/torch/nn/modules/rnn.py:269: UserWarning: RNN module weights are not part of single contiguous chunk of memory. This means they need to be compacted at every call, possibly greatly increasing memory usage. To compact weights again call flatten_parameters(). (Triggered internally at  /pytorch/aten/src/ATen/native/cudnn/RNN.cpp:924.)\n",
      "  self.dropout, self.training, self.bidirectional, self.batch_first)\n",
      "/usr/local/lib/python3.7/dist-packages/torch/nn/modules/rnn.py:269: UserWarning: RNN module weights are not part of single contiguous chunk of memory. This means they need to be compacted at every call, possibly greatly increasing memory usage. To compact weights again call flatten_parameters(). (Triggered internally at  /pytorch/aten/src/ATen/native/cudnn/RNN.cpp:924.)\n",
      "  self.dropout, self.training, self.bidirectional, self.batch_first)\n",
      "/usr/local/lib/python3.7/dist-packages/torch/nn/modules/rnn.py:269: UserWarning: RNN module weights are not part of single contiguous chunk of memory. This means they need to be compacted at every call, possibly greatly increasing memory usage. To compact weights again call flatten_parameters(). (Triggered internally at  /pytorch/aten/src/ATen/native/cudnn/RNN.cpp:924.)\n",
      "  self.dropout, self.training, self.bidirectional, self.batch_first)\n",
      "/usr/local/lib/python3.7/dist-packages/torch/nn/modules/rnn.py:269: UserWarning: RNN module weights are not part of single contiguous chunk of memory. This means they need to be compacted at every call, possibly greatly increasing memory usage. To compact weights again call flatten_parameters(). (Triggered internally at  /pytorch/aten/src/ATen/native/cudnn/RNN.cpp:924.)\n",
      "  self.dropout, self.training, self.bidirectional, self.batch_first)\n",
      "/usr/local/lib/python3.7/dist-packages/torch/nn/modules/rnn.py:269: UserWarning: RNN module weights are not part of single contiguous chunk of memory. This means they need to be compacted at every call, possibly greatly increasing memory usage. To compact weights again call flatten_parameters(). (Triggered internally at  /pytorch/aten/src/ATen/native/cudnn/RNN.cpp:924.)\n",
      "  self.dropout, self.training, self.bidirectional, self.batch_first)\n",
      "/usr/local/lib/python3.7/dist-packages/torch/nn/modules/rnn.py:269: UserWarning: RNN module weights are not part of single contiguous chunk of memory. This means they need to be compacted at every call, possibly greatly increasing memory usage. To compact weights again call flatten_parameters(). (Triggered internally at  /pytorch/aten/src/ATen/native/cudnn/RNN.cpp:924.)\n",
      "  self.dropout, self.training, self.bidirectional, self.batch_first)\n",
      "/usr/local/lib/python3.7/dist-packages/torch/nn/modules/rnn.py:269: UserWarning: RNN module weights are not part of single contiguous chunk of memory. This means they need to be compacted at every call, possibly greatly increasing memory usage. To compact weights again call flatten_parameters(). (Triggered internally at  /pytorch/aten/src/ATen/native/cudnn/RNN.cpp:924.)\n",
      "  self.dropout, self.training, self.bidirectional, self.batch_first)\n",
      "/usr/local/lib/python3.7/dist-packages/torch/nn/modules/rnn.py:269: UserWarning: RNN module weights are not part of single contiguous chunk of memory. This means they need to be compacted at every call, possibly greatly increasing memory usage. To compact weights again call flatten_parameters(). (Triggered internally at  /pytorch/aten/src/ATen/native/cudnn/RNN.cpp:924.)\n",
      "  self.dropout, self.training, self.bidirectional, self.batch_first)\n"
     ]
    },
    {
     "name": "stdout",
     "output_type": "stream",
     "text": [
      "Evaluation Time: 4.265505556000107\n",
      "sMAPE: 0.2947009122604552%\n"
     ]
    },
    {
     "name": "stderr",
     "output_type": "stream",
     "text": [
      "/usr/local/lib/python3.7/dist-packages/torch/nn/modules/rnn.py:269: UserWarning: RNN module weights are not part of single contiguous chunk of memory. This means they need to be compacted at every call, possibly greatly increasing memory usage. To compact weights again call flatten_parameters(). (Triggered internally at  /pytorch/aten/src/ATen/native/cudnn/RNN.cpp:924.)\n",
      "  self.dropout, self.training, self.bidirectional, self.batch_first)\n"
     ]
    }
   ],
   "source": [
    "# Load 3 layer rnn and test it\n",
    "\n",
    "rnn_model_2 = pickle.load(open(data_dir+\"rnn_model_2.p\",\"rb\"))\n",
    "rnn_model2 = rnn_model_2[\"rnn_model\"]\n",
    "trainTime = rnn_model_2[\"trainTime\"]\n",
    "epochsMAPELosses = rnn_model_2[\"epochsMAPELosses\"]\n",
    "epochMSELosses = rnn_model_2[\"epochMSELosses\"]\n",
    "outputs, targets, sMAPE, mse, evalTime = evaluate(rnn_model2, test_x, test_y, label_scalers)"
   ]
  },
  {
   "cell_type": "code",
   "execution_count": null,
   "metadata": {
    "colab": {
     "base_uri": "https://localhost:8080/"
    },
    "id": "e4ytfDeMlG7K",
    "outputId": "69fa8318-8afe-4426-9a5a-8328bdf88161"
   },
   "outputs": [
    {
     "name": "stderr",
     "output_type": "stream",
     "text": [
      "/usr/local/lib/python3.7/dist-packages/torch/nn/modules/rnn.py:838: UserWarning: RNN module weights are not part of single contiguous chunk of memory. This means they need to be compacted at every call, possibly greatly increasing memory usage. To compact weights again call flatten_parameters(). (Triggered internally at  /pytorch/aten/src/ATen/native/cudnn/RNN.cpp:924.)\n",
      "  self.dropout, self.training, self.bidirectional, self.batch_first)\n",
      "/usr/local/lib/python3.7/dist-packages/torch/nn/modules/rnn.py:838: UserWarning: RNN module weights are not part of single contiguous chunk of memory. This means they need to be compacted at every call, possibly greatly increasing memory usage. To compact weights again call flatten_parameters(). (Triggered internally at  /pytorch/aten/src/ATen/native/cudnn/RNN.cpp:924.)\n",
      "  self.dropout, self.training, self.bidirectional, self.batch_first)\n",
      "/usr/local/lib/python3.7/dist-packages/torch/nn/modules/rnn.py:838: UserWarning: RNN module weights are not part of single contiguous chunk of memory. This means they need to be compacted at every call, possibly greatly increasing memory usage. To compact weights again call flatten_parameters(). (Triggered internally at  /pytorch/aten/src/ATen/native/cudnn/RNN.cpp:924.)\n",
      "  self.dropout, self.training, self.bidirectional, self.batch_first)\n",
      "/usr/local/lib/python3.7/dist-packages/torch/nn/modules/rnn.py:838: UserWarning: RNN module weights are not part of single contiguous chunk of memory. This means they need to be compacted at every call, possibly greatly increasing memory usage. To compact weights again call flatten_parameters(). (Triggered internally at  /pytorch/aten/src/ATen/native/cudnn/RNN.cpp:924.)\n",
      "  self.dropout, self.training, self.bidirectional, self.batch_first)\n",
      "/usr/local/lib/python3.7/dist-packages/torch/nn/modules/rnn.py:838: UserWarning: RNN module weights are not part of single contiguous chunk of memory. This means they need to be compacted at every call, possibly greatly increasing memory usage. To compact weights again call flatten_parameters(). (Triggered internally at  /pytorch/aten/src/ATen/native/cudnn/RNN.cpp:924.)\n",
      "  self.dropout, self.training, self.bidirectional, self.batch_first)\n",
      "/usr/local/lib/python3.7/dist-packages/torch/nn/modules/rnn.py:838: UserWarning: RNN module weights are not part of single contiguous chunk of memory. This means they need to be compacted at every call, possibly greatly increasing memory usage. To compact weights again call flatten_parameters(). (Triggered internally at  /pytorch/aten/src/ATen/native/cudnn/RNN.cpp:924.)\n",
      "  self.dropout, self.training, self.bidirectional, self.batch_first)\n",
      "/usr/local/lib/python3.7/dist-packages/torch/nn/modules/rnn.py:838: UserWarning: RNN module weights are not part of single contiguous chunk of memory. This means they need to be compacted at every call, possibly greatly increasing memory usage. To compact weights again call flatten_parameters(). (Triggered internally at  /pytorch/aten/src/ATen/native/cudnn/RNN.cpp:924.)\n",
      "  self.dropout, self.training, self.bidirectional, self.batch_first)\n",
      "/usr/local/lib/python3.7/dist-packages/torch/nn/modules/rnn.py:838: UserWarning: RNN module weights are not part of single contiguous chunk of memory. This means they need to be compacted at every call, possibly greatly increasing memory usage. To compact weights again call flatten_parameters(). (Triggered internally at  /pytorch/aten/src/ATen/native/cudnn/RNN.cpp:924.)\n",
      "  self.dropout, self.training, self.bidirectional, self.batch_first)\n",
      "/usr/local/lib/python3.7/dist-packages/torch/nn/modules/rnn.py:838: UserWarning: RNN module weights are not part of single contiguous chunk of memory. This means they need to be compacted at every call, possibly greatly increasing memory usage. To compact weights again call flatten_parameters(). (Triggered internally at  /pytorch/aten/src/ATen/native/cudnn/RNN.cpp:924.)\n",
      "  self.dropout, self.training, self.bidirectional, self.batch_first)\n",
      "/usr/local/lib/python3.7/dist-packages/torch/nn/modules/rnn.py:838: UserWarning: RNN module weights are not part of single contiguous chunk of memory. This means they need to be compacted at every call, possibly greatly increasing memory usage. To compact weights again call flatten_parameters(). (Triggered internally at  /pytorch/aten/src/ATen/native/cudnn/RNN.cpp:924.)\n",
      "  self.dropout, self.training, self.bidirectional, self.batch_first)\n",
      "/usr/local/lib/python3.7/dist-packages/torch/nn/modules/rnn.py:838: UserWarning: RNN module weights are not part of single contiguous chunk of memory. This means they need to be compacted at every call, possibly greatly increasing memory usage. To compact weights again call flatten_parameters(). (Triggered internally at  /pytorch/aten/src/ATen/native/cudnn/RNN.cpp:924.)\n",
      "  self.dropout, self.training, self.bidirectional, self.batch_first)\n",
      "/usr/local/lib/python3.7/dist-packages/torch/nn/modules/rnn.py:838: UserWarning: RNN module weights are not part of single contiguous chunk of memory. This means they need to be compacted at every call, possibly greatly increasing memory usage. To compact weights again call flatten_parameters(). (Triggered internally at  /pytorch/aten/src/ATen/native/cudnn/RNN.cpp:924.)\n",
      "  self.dropout, self.training, self.bidirectional, self.batch_first)\n"
     ]
    },
    {
     "name": "stdout",
     "output_type": "stream",
     "text": [
      "Evaluation Time: 7.295166846000029\n",
      "sMAPE: 0.23942663383767587%\n"
     ]
    },
    {
     "name": "stderr",
     "output_type": "stream",
     "text": [
      "/usr/local/lib/python3.7/dist-packages/torch/nn/modules/rnn.py:680: UserWarning: RNN module weights are not part of single contiguous chunk of memory. This means they need to be compacted at every call, possibly greatly increasing memory usage. To compact weights again call flatten_parameters(). (Triggered internally at  /pytorch/aten/src/ATen/native/cudnn/RNN.cpp:924.)\n",
      "  self.dropout, self.training, self.bidirectional, self.batch_first)\n",
      "/usr/local/lib/python3.7/dist-packages/torch/nn/modules/rnn.py:680: UserWarning: RNN module weights are not part of single contiguous chunk of memory. This means they need to be compacted at every call, possibly greatly increasing memory usage. To compact weights again call flatten_parameters(). (Triggered internally at  /pytorch/aten/src/ATen/native/cudnn/RNN.cpp:924.)\n",
      "  self.dropout, self.training, self.bidirectional, self.batch_first)\n",
      "/usr/local/lib/python3.7/dist-packages/torch/nn/modules/rnn.py:680: UserWarning: RNN module weights are not part of single contiguous chunk of memory. This means they need to be compacted at every call, possibly greatly increasing memory usage. To compact weights again call flatten_parameters(). (Triggered internally at  /pytorch/aten/src/ATen/native/cudnn/RNN.cpp:924.)\n",
      "  self.dropout, self.training, self.bidirectional, self.batch_first)\n",
      "/usr/local/lib/python3.7/dist-packages/torch/nn/modules/rnn.py:680: UserWarning: RNN module weights are not part of single contiguous chunk of memory. This means they need to be compacted at every call, possibly greatly increasing memory usage. To compact weights again call flatten_parameters(). (Triggered internally at  /pytorch/aten/src/ATen/native/cudnn/RNN.cpp:924.)\n",
      "  self.dropout, self.training, self.bidirectional, self.batch_first)\n",
      "/usr/local/lib/python3.7/dist-packages/torch/nn/modules/rnn.py:680: UserWarning: RNN module weights are not part of single contiguous chunk of memory. This means they need to be compacted at every call, possibly greatly increasing memory usage. To compact weights again call flatten_parameters(). (Triggered internally at  /pytorch/aten/src/ATen/native/cudnn/RNN.cpp:924.)\n",
      "  self.dropout, self.training, self.bidirectional, self.batch_first)\n",
      "/usr/local/lib/python3.7/dist-packages/torch/nn/modules/rnn.py:680: UserWarning: RNN module weights are not part of single contiguous chunk of memory. This means they need to be compacted at every call, possibly greatly increasing memory usage. To compact weights again call flatten_parameters(). (Triggered internally at  /pytorch/aten/src/ATen/native/cudnn/RNN.cpp:924.)\n",
      "  self.dropout, self.training, self.bidirectional, self.batch_first)\n",
      "/usr/local/lib/python3.7/dist-packages/torch/nn/modules/rnn.py:680: UserWarning: RNN module weights are not part of single contiguous chunk of memory. This means they need to be compacted at every call, possibly greatly increasing memory usage. To compact weights again call flatten_parameters(). (Triggered internally at  /pytorch/aten/src/ATen/native/cudnn/RNN.cpp:924.)\n",
      "  self.dropout, self.training, self.bidirectional, self.batch_first)\n",
      "/usr/local/lib/python3.7/dist-packages/torch/nn/modules/rnn.py:680: UserWarning: RNN module weights are not part of single contiguous chunk of memory. This means they need to be compacted at every call, possibly greatly increasing memory usage. To compact weights again call flatten_parameters(). (Triggered internally at  /pytorch/aten/src/ATen/native/cudnn/RNN.cpp:924.)\n",
      "  self.dropout, self.training, self.bidirectional, self.batch_first)\n",
      "/usr/local/lib/python3.7/dist-packages/torch/nn/modules/rnn.py:680: UserWarning: RNN module weights are not part of single contiguous chunk of memory. This means they need to be compacted at every call, possibly greatly increasing memory usage. To compact weights again call flatten_parameters(). (Triggered internally at  /pytorch/aten/src/ATen/native/cudnn/RNN.cpp:924.)\n",
      "  self.dropout, self.training, self.bidirectional, self.batch_first)\n",
      "/usr/local/lib/python3.7/dist-packages/torch/nn/modules/rnn.py:680: UserWarning: RNN module weights are not part of single contiguous chunk of memory. This means they need to be compacted at every call, possibly greatly increasing memory usage. To compact weights again call flatten_parameters(). (Triggered internally at  /pytorch/aten/src/ATen/native/cudnn/RNN.cpp:924.)\n",
      "  self.dropout, self.training, self.bidirectional, self.batch_first)\n",
      "/usr/local/lib/python3.7/dist-packages/torch/nn/modules/rnn.py:680: UserWarning: RNN module weights are not part of single contiguous chunk of memory. This means they need to be compacted at every call, possibly greatly increasing memory usage. To compact weights again call flatten_parameters(). (Triggered internally at  /pytorch/aten/src/ATen/native/cudnn/RNN.cpp:924.)\n",
      "  self.dropout, self.training, self.bidirectional, self.batch_first)\n",
      "/usr/local/lib/python3.7/dist-packages/torch/nn/modules/rnn.py:680: UserWarning: RNN module weights are not part of single contiguous chunk of memory. This means they need to be compacted at every call, possibly greatly increasing memory usage. To compact weights again call flatten_parameters(). (Triggered internally at  /pytorch/aten/src/ATen/native/cudnn/RNN.cpp:924.)\n",
      "  self.dropout, self.training, self.bidirectional, self.batch_first)\n"
     ]
    },
    {
     "name": "stdout",
     "output_type": "stream",
     "text": [
      "Evaluation Time: 9.591378611999971\n",
      "sMAPE: 0.2667451380434859%\n",
      "Evaluation Time: 4.218877929999962\n",
      "sMAPE: 0.2947009122604552%\n"
     ]
    },
    {
     "name": "stderr",
     "output_type": "stream",
     "text": [
      "/usr/local/lib/python3.7/dist-packages/torch/nn/modules/rnn.py:838: UserWarning: RNN module weights are not part of single contiguous chunk of memory. This means they need to be compacted at every call, possibly greatly increasing memory usage. To compact weights again call flatten_parameters(). (Triggered internally at  /pytorch/aten/src/ATen/native/cudnn/RNN.cpp:924.)\n",
      "  self.dropout, self.training, self.bidirectional, self.batch_first)\n",
      "/usr/local/lib/python3.7/dist-packages/torch/nn/modules/rnn.py:838: UserWarning: RNN module weights are not part of single contiguous chunk of memory. This means they need to be compacted at every call, possibly greatly increasing memory usage. To compact weights again call flatten_parameters(). (Triggered internally at  /pytorch/aten/src/ATen/native/cudnn/RNN.cpp:924.)\n",
      "  self.dropout, self.training, self.bidirectional, self.batch_first)\n",
      "/usr/local/lib/python3.7/dist-packages/torch/nn/modules/rnn.py:838: UserWarning: RNN module weights are not part of single contiguous chunk of memory. This means they need to be compacted at every call, possibly greatly increasing memory usage. To compact weights again call flatten_parameters(). (Triggered internally at  /pytorch/aten/src/ATen/native/cudnn/RNN.cpp:924.)\n",
      "  self.dropout, self.training, self.bidirectional, self.batch_first)\n",
      "/usr/local/lib/python3.7/dist-packages/torch/nn/modules/rnn.py:838: UserWarning: RNN module weights are not part of single contiguous chunk of memory. This means they need to be compacted at every call, possibly greatly increasing memory usage. To compact weights again call flatten_parameters(). (Triggered internally at  /pytorch/aten/src/ATen/native/cudnn/RNN.cpp:924.)\n",
      "  self.dropout, self.training, self.bidirectional, self.batch_first)\n",
      "/usr/local/lib/python3.7/dist-packages/torch/nn/modules/rnn.py:838: UserWarning: RNN module weights are not part of single contiguous chunk of memory. This means they need to be compacted at every call, possibly greatly increasing memory usage. To compact weights again call flatten_parameters(). (Triggered internally at  /pytorch/aten/src/ATen/native/cudnn/RNN.cpp:924.)\n",
      "  self.dropout, self.training, self.bidirectional, self.batch_first)\n",
      "/usr/local/lib/python3.7/dist-packages/torch/nn/modules/rnn.py:838: UserWarning: RNN module weights are not part of single contiguous chunk of memory. This means they need to be compacted at every call, possibly greatly increasing memory usage. To compact weights again call flatten_parameters(). (Triggered internally at  /pytorch/aten/src/ATen/native/cudnn/RNN.cpp:924.)\n",
      "  self.dropout, self.training, self.bidirectional, self.batch_first)\n",
      "/usr/local/lib/python3.7/dist-packages/torch/nn/modules/rnn.py:838: UserWarning: RNN module weights are not part of single contiguous chunk of memory. This means they need to be compacted at every call, possibly greatly increasing memory usage. To compact weights again call flatten_parameters(). (Triggered internally at  /pytorch/aten/src/ATen/native/cudnn/RNN.cpp:924.)\n",
      "  self.dropout, self.training, self.bidirectional, self.batch_first)\n",
      "/usr/local/lib/python3.7/dist-packages/torch/nn/modules/rnn.py:838: UserWarning: RNN module weights are not part of single contiguous chunk of memory. This means they need to be compacted at every call, possibly greatly increasing memory usage. To compact weights again call flatten_parameters(). (Triggered internally at  /pytorch/aten/src/ATen/native/cudnn/RNN.cpp:924.)\n",
      "  self.dropout, self.training, self.bidirectional, self.batch_first)\n",
      "/usr/local/lib/python3.7/dist-packages/torch/nn/modules/rnn.py:838: UserWarning: RNN module weights are not part of single contiguous chunk of memory. This means they need to be compacted at every call, possibly greatly increasing memory usage. To compact weights again call flatten_parameters(). (Triggered internally at  /pytorch/aten/src/ATen/native/cudnn/RNN.cpp:924.)\n",
      "  self.dropout, self.training, self.bidirectional, self.batch_first)\n",
      "/usr/local/lib/python3.7/dist-packages/torch/nn/modules/rnn.py:838: UserWarning: RNN module weights are not part of single contiguous chunk of memory. This means they need to be compacted at every call, possibly greatly increasing memory usage. To compact weights again call flatten_parameters(). (Triggered internally at  /pytorch/aten/src/ATen/native/cudnn/RNN.cpp:924.)\n",
      "  self.dropout, self.training, self.bidirectional, self.batch_first)\n",
      "/usr/local/lib/python3.7/dist-packages/torch/nn/modules/rnn.py:838: UserWarning: RNN module weights are not part of single contiguous chunk of memory. This means they need to be compacted at every call, possibly greatly increasing memory usage. To compact weights again call flatten_parameters(). (Triggered internally at  /pytorch/aten/src/ATen/native/cudnn/RNN.cpp:924.)\n",
      "  self.dropout, self.training, self.bidirectional, self.batch_first)\n",
      "/usr/local/lib/python3.7/dist-packages/torch/nn/modules/rnn.py:838: UserWarning: RNN module weights are not part of single contiguous chunk of memory. This means they need to be compacted at every call, possibly greatly increasing memory usage. To compact weights again call flatten_parameters(). (Triggered internally at  /pytorch/aten/src/ATen/native/cudnn/RNN.cpp:924.)\n",
      "  self.dropout, self.training, self.bidirectional, self.batch_first)\n"
     ]
    },
    {
     "name": "stdout",
     "output_type": "stream",
     "text": [
      "Evaluation Time: 11.680562312999882\n",
      "sMAPE: 0.2609330384962881%\n"
     ]
    },
    {
     "name": "stderr",
     "output_type": "stream",
     "text": [
      "/usr/local/lib/python3.7/dist-packages/torch/nn/modules/rnn.py:680: UserWarning: RNN module weights are not part of single contiguous chunk of memory. This means they need to be compacted at every call, possibly greatly increasing memory usage. To compact weights again call flatten_parameters(). (Triggered internally at  /pytorch/aten/src/ATen/native/cudnn/RNN.cpp:924.)\n",
      "  self.dropout, self.training, self.bidirectional, self.batch_first)\n",
      "/usr/local/lib/python3.7/dist-packages/torch/nn/modules/rnn.py:680: UserWarning: RNN module weights are not part of single contiguous chunk of memory. This means they need to be compacted at every call, possibly greatly increasing memory usage. To compact weights again call flatten_parameters(). (Triggered internally at  /pytorch/aten/src/ATen/native/cudnn/RNN.cpp:924.)\n",
      "  self.dropout, self.training, self.bidirectional, self.batch_first)\n",
      "/usr/local/lib/python3.7/dist-packages/torch/nn/modules/rnn.py:680: UserWarning: RNN module weights are not part of single contiguous chunk of memory. This means they need to be compacted at every call, possibly greatly increasing memory usage. To compact weights again call flatten_parameters(). (Triggered internally at  /pytorch/aten/src/ATen/native/cudnn/RNN.cpp:924.)\n",
      "  self.dropout, self.training, self.bidirectional, self.batch_first)\n",
      "/usr/local/lib/python3.7/dist-packages/torch/nn/modules/rnn.py:680: UserWarning: RNN module weights are not part of single contiguous chunk of memory. This means they need to be compacted at every call, possibly greatly increasing memory usage. To compact weights again call flatten_parameters(). (Triggered internally at  /pytorch/aten/src/ATen/native/cudnn/RNN.cpp:924.)\n",
      "  self.dropout, self.training, self.bidirectional, self.batch_first)\n",
      "/usr/local/lib/python3.7/dist-packages/torch/nn/modules/rnn.py:680: UserWarning: RNN module weights are not part of single contiguous chunk of memory. This means they need to be compacted at every call, possibly greatly increasing memory usage. To compact weights again call flatten_parameters(). (Triggered internally at  /pytorch/aten/src/ATen/native/cudnn/RNN.cpp:924.)\n",
      "  self.dropout, self.training, self.bidirectional, self.batch_first)\n",
      "/usr/local/lib/python3.7/dist-packages/torch/nn/modules/rnn.py:680: UserWarning: RNN module weights are not part of single contiguous chunk of memory. This means they need to be compacted at every call, possibly greatly increasing memory usage. To compact weights again call flatten_parameters(). (Triggered internally at  /pytorch/aten/src/ATen/native/cudnn/RNN.cpp:924.)\n",
      "  self.dropout, self.training, self.bidirectional, self.batch_first)\n",
      "/usr/local/lib/python3.7/dist-packages/torch/nn/modules/rnn.py:680: UserWarning: RNN module weights are not part of single contiguous chunk of memory. This means they need to be compacted at every call, possibly greatly increasing memory usage. To compact weights again call flatten_parameters(). (Triggered internally at  /pytorch/aten/src/ATen/native/cudnn/RNN.cpp:924.)\n",
      "  self.dropout, self.training, self.bidirectional, self.batch_first)\n",
      "/usr/local/lib/python3.7/dist-packages/torch/nn/modules/rnn.py:680: UserWarning: RNN module weights are not part of single contiguous chunk of memory. This means they need to be compacted at every call, possibly greatly increasing memory usage. To compact weights again call flatten_parameters(). (Triggered internally at  /pytorch/aten/src/ATen/native/cudnn/RNN.cpp:924.)\n",
      "  self.dropout, self.training, self.bidirectional, self.batch_first)\n",
      "/usr/local/lib/python3.7/dist-packages/torch/nn/modules/rnn.py:680: UserWarning: RNN module weights are not part of single contiguous chunk of memory. This means they need to be compacted at every call, possibly greatly increasing memory usage. To compact weights again call flatten_parameters(). (Triggered internally at  /pytorch/aten/src/ATen/native/cudnn/RNN.cpp:924.)\n",
      "  self.dropout, self.training, self.bidirectional, self.batch_first)\n",
      "/usr/local/lib/python3.7/dist-packages/torch/nn/modules/rnn.py:680: UserWarning: RNN module weights are not part of single contiguous chunk of memory. This means they need to be compacted at every call, possibly greatly increasing memory usage. To compact weights again call flatten_parameters(). (Triggered internally at  /pytorch/aten/src/ATen/native/cudnn/RNN.cpp:924.)\n",
      "  self.dropout, self.training, self.bidirectional, self.batch_first)\n",
      "/usr/local/lib/python3.7/dist-packages/torch/nn/modules/rnn.py:680: UserWarning: RNN module weights are not part of single contiguous chunk of memory. This means they need to be compacted at every call, possibly greatly increasing memory usage. To compact weights again call flatten_parameters(). (Triggered internally at  /pytorch/aten/src/ATen/native/cudnn/RNN.cpp:924.)\n",
      "  self.dropout, self.training, self.bidirectional, self.batch_first)\n",
      "/usr/local/lib/python3.7/dist-packages/torch/nn/modules/rnn.py:680: UserWarning: RNN module weights are not part of single contiguous chunk of memory. This means they need to be compacted at every call, possibly greatly increasing memory usage. To compact weights again call flatten_parameters(). (Triggered internally at  /pytorch/aten/src/ATen/native/cudnn/RNN.cpp:924.)\n",
      "  self.dropout, self.training, self.bidirectional, self.batch_first)\n"
     ]
    },
    {
     "name": "stdout",
     "output_type": "stream",
     "text": [
      "Evaluation Time: 15.349483004999911\n",
      "sMAPE: 0.2833345403081086%\n"
     ]
    },
    {
     "name": "stderr",
     "output_type": "stream",
     "text": [
      "/usr/local/lib/python3.7/dist-packages/torch/nn/modules/rnn.py:269: UserWarning: RNN module weights are not part of single contiguous chunk of memory. This means they need to be compacted at every call, possibly greatly increasing memory usage. To compact weights again call flatten_parameters(). (Triggered internally at  /pytorch/aten/src/ATen/native/cudnn/RNN.cpp:924.)\n",
      "  self.dropout, self.training, self.bidirectional, self.batch_first)\n",
      "/usr/local/lib/python3.7/dist-packages/torch/nn/modules/rnn.py:269: UserWarning: RNN module weights are not part of single contiguous chunk of memory. This means they need to be compacted at every call, possibly greatly increasing memory usage. To compact weights again call flatten_parameters(). (Triggered internally at  /pytorch/aten/src/ATen/native/cudnn/RNN.cpp:924.)\n",
      "  self.dropout, self.training, self.bidirectional, self.batch_first)\n",
      "/usr/local/lib/python3.7/dist-packages/torch/nn/modules/rnn.py:269: UserWarning: RNN module weights are not part of single contiguous chunk of memory. This means they need to be compacted at every call, possibly greatly increasing memory usage. To compact weights again call flatten_parameters(). (Triggered internally at  /pytorch/aten/src/ATen/native/cudnn/RNN.cpp:924.)\n",
      "  self.dropout, self.training, self.bidirectional, self.batch_first)\n",
      "/usr/local/lib/python3.7/dist-packages/torch/nn/modules/rnn.py:269: UserWarning: RNN module weights are not part of single contiguous chunk of memory. This means they need to be compacted at every call, possibly greatly increasing memory usage. To compact weights again call flatten_parameters(). (Triggered internally at  /pytorch/aten/src/ATen/native/cudnn/RNN.cpp:924.)\n",
      "  self.dropout, self.training, self.bidirectional, self.batch_first)\n",
      "/usr/local/lib/python3.7/dist-packages/torch/nn/modules/rnn.py:269: UserWarning: RNN module weights are not part of single contiguous chunk of memory. This means they need to be compacted at every call, possibly greatly increasing memory usage. To compact weights again call flatten_parameters(). (Triggered internally at  /pytorch/aten/src/ATen/native/cudnn/RNN.cpp:924.)\n",
      "  self.dropout, self.training, self.bidirectional, self.batch_first)\n",
      "/usr/local/lib/python3.7/dist-packages/torch/nn/modules/rnn.py:269: UserWarning: RNN module weights are not part of single contiguous chunk of memory. This means they need to be compacted at every call, possibly greatly increasing memory usage. To compact weights again call flatten_parameters(). (Triggered internally at  /pytorch/aten/src/ATen/native/cudnn/RNN.cpp:924.)\n",
      "  self.dropout, self.training, self.bidirectional, self.batch_first)\n",
      "/usr/local/lib/python3.7/dist-packages/torch/nn/modules/rnn.py:269: UserWarning: RNN module weights are not part of single contiguous chunk of memory. This means they need to be compacted at every call, possibly greatly increasing memory usage. To compact weights again call flatten_parameters(). (Triggered internally at  /pytorch/aten/src/ATen/native/cudnn/RNN.cpp:924.)\n",
      "  self.dropout, self.training, self.bidirectional, self.batch_first)\n",
      "/usr/local/lib/python3.7/dist-packages/torch/nn/modules/rnn.py:269: UserWarning: RNN module weights are not part of single contiguous chunk of memory. This means they need to be compacted at every call, possibly greatly increasing memory usage. To compact weights again call flatten_parameters(). (Triggered internally at  /pytorch/aten/src/ATen/native/cudnn/RNN.cpp:924.)\n",
      "  self.dropout, self.training, self.bidirectional, self.batch_first)\n",
      "/usr/local/lib/python3.7/dist-packages/torch/nn/modules/rnn.py:269: UserWarning: RNN module weights are not part of single contiguous chunk of memory. This means they need to be compacted at every call, possibly greatly increasing memory usage. To compact weights again call flatten_parameters(). (Triggered internally at  /pytorch/aten/src/ATen/native/cudnn/RNN.cpp:924.)\n",
      "  self.dropout, self.training, self.bidirectional, self.batch_first)\n",
      "/usr/local/lib/python3.7/dist-packages/torch/nn/modules/rnn.py:269: UserWarning: RNN module weights are not part of single contiguous chunk of memory. This means they need to be compacted at every call, possibly greatly increasing memory usage. To compact weights again call flatten_parameters(). (Triggered internally at  /pytorch/aten/src/ATen/native/cudnn/RNN.cpp:924.)\n",
      "  self.dropout, self.training, self.bidirectional, self.batch_first)\n",
      "/usr/local/lib/python3.7/dist-packages/torch/nn/modules/rnn.py:269: UserWarning: RNN module weights are not part of single contiguous chunk of memory. This means they need to be compacted at every call, possibly greatly increasing memory usage. To compact weights again call flatten_parameters(). (Triggered internally at  /pytorch/aten/src/ATen/native/cudnn/RNN.cpp:924.)\n",
      "  self.dropout, self.training, self.bidirectional, self.batch_first)\n"
     ]
    },
    {
     "name": "stdout",
     "output_type": "stream",
     "text": [
      "Evaluation Time: 4.220242389000077\n",
      "sMAPE: 0.2947009122604552%\n"
     ]
    },
    {
     "name": "stderr",
     "output_type": "stream",
     "text": [
      "/usr/local/lib/python3.7/dist-packages/torch/nn/modules/rnn.py:269: UserWarning: RNN module weights are not part of single contiguous chunk of memory. This means they need to be compacted at every call, possibly greatly increasing memory usage. To compact weights again call flatten_parameters(). (Triggered internally at  /pytorch/aten/src/ATen/native/cudnn/RNN.cpp:924.)\n",
      "  self.dropout, self.training, self.bidirectional, self.batch_first)\n"
     ]
    }
   ],
   "source": [
    "#Testing all of the models \n",
    "outputsGRU1, targetsGRU1, sMAPE, mse, evalTime = evaluate(gru_model, test_x, test_y, label_scalers)\n",
    "outputsLSTM1, targetsLSTM1, sMAPE, mse, evalTime = evaluate(lstm_model, test_x, test_y, label_scalers)\n",
    "outputsRNN1, targetsRNN1, sMAPE, mse, evalTime = evaluate(rnn_model, test_x, test_y, label_scalers)\n",
    "outputsGRU2, targetsGRU2, sMAPE, mse, evalTime = evaluate(gru_model2, test_x, test_y, label_scalers)\n",
    "outputsLSTM2, targetsLSTM2, sMAPE, mse, evalTime = evaluate(lstm_model2, test_x, test_y, label_scalers)\n",
    "outputsRNN2, targetsRNN2, sMAPE, mse, evalTime = evaluate(rnn_model2, test_x, test_y, label_scalers)"
   ]
  },
  {
   "cell_type": "code",
   "execution_count": null,
   "metadata": {
    "id": "YVxGdRAClG7L"
   },
   "outputs": [],
   "source": [
    "def plotModelPerformance(index,start,end):\n",
    "\n",
    "  plt.figure(figsize=(14,10))\n",
    "  plt.subplot(2,3,1)\n",
    "  plt.plot(outputsGRU1[index][start:end], \"-o\", color=\"g\", label=\"Predicted\")\n",
    "  plt.plot(targetsGRU1[index][start:end], color=\"b\", label=\"Actual\")\n",
    "  plt.ylabel('Energy Consumption (MW)')\n",
    "  plt.title(\"GRU 2 Layer Performance\")\n",
    "  plt.legend()\n",
    "\n",
    "  plt.subplot(2,3,2)\n",
    "  plt.plot(outputsLSTM1[index][start:end], \"-o\", color=\"g\", label=\"Predicted\")\n",
    "  plt.plot(targetsLSTM1[index][start:end], color=\"b\", label=\"Actual\")\n",
    "  plt.ylabel('Energy Consumption (MW)')\n",
    "  plt.title(\"LSTM 2 Layer Performance\")\n",
    "  plt.legend()\n",
    "\n",
    "  plt.subplot(2,3,3)\n",
    "  plt.plot(outputsRNN1[index][start:end], \"-o\", color=\"g\", label=\"Predicted\")\n",
    "  plt.plot(targetsRNN1[index][start:end], color=\"b\", label=\"Actual\")\n",
    "  plt.ylabel('Energy Consumption (MW)')\n",
    "  plt.title(\"RNN 2 Layer Performance\")\n",
    "  plt.legend()\n",
    "\n",
    "  plt.subplot(2,3,4)\n",
    "  plt.plot(outputsGRU2[index][start:end], \"-o\", color=\"g\", label=\"Predicted\")\n",
    "  plt.plot(targetsGRU2[index][start:end], color=\"b\", label=\"Actual\")\n",
    "  plt.ylabel('Energy Consumption (MW)')\n",
    "  plt.title(\"GRU 3 Layer Performance\")\n",
    "  plt.legend()\n",
    "\n",
    "  plt.subplot(2,3,5)\n",
    "  plt.plot(outputsLSTM2[index][start:end], \"-o\", color=\"g\", label=\"Predicted\")\n",
    "  plt.plot(targetsLSTM2[index][start:end], color=\"b\", label=\"Actual\")\n",
    "  plt.ylabel('Energy Consumption (MW)')\n",
    "  plt.title(\"LSTM 3 Layer Performance\")\n",
    "  plt.legend()\n",
    "\n",
    "  plt.subplot(2,3,6)\n",
    "  plt.plot(outputsRNN2[index][start:end], \"-o\", color=\"g\", label=\"Predicted\")\n",
    "  plt.plot(targetsRNN2[index][start:end], color=\"b\", label=\"Actual\")\n",
    "  plt.ylabel('Energy Consumption (MW)')\n",
    "  plt.title(\"RNN 3 Layer Performance\")\n",
    "  plt.legend()\n",
    "\n",
    "\n",
    "\n"
   ]
  },
  {
   "cell_type": "code",
   "execution_count": null,
   "metadata": {
    "colab": {
     "base_uri": "https://localhost:8080/",
     "height": 607
    },
    "id": "5_UFiic82H6w",
    "outputId": "f3ccd83c-2cbc-4af6-f599-d6f72b784d81"
   },
   "outputs": [
    {
     "data": {
      "image/png": "[encoded data removed]",
      "text/plain": [
       "<Figure size 1008x720 with 6 Axes>"
      ]
     },
     "metadata": {
      "needs_background": "light"
     },
     "output_type": "display_data"
    }
   ],
   "source": [
    "plotModelPerformance(0,-100,-1)"
   ]
  },
  {
   "cell_type": "code",
   "execution_count": null,
   "metadata": {
    "id": "P4b5exHe4eyn"
   },
   "outputs": [],
   "source": [
    "epochsMAPELossesGRU1 = gru_model_1[\"epochsMAPELosses\"]\n",
    "epochsMAPELossesLSTM1 = lstm_model_1[\"epochsMAPELosses\"]\n",
    "epochsMAPELossesRNN1 = rnn_model_1[\"epochsMAPELosses\"]\n",
    "epochsMAPELossesGRU2 = gru_model_2[\"epochsMAPELosses\"]\n",
    "epochsMAPELossesLSTM2 = lstm_model_2[\"epochsMAPELosses\"]\n",
    "epochsMAPELossesRNN2 = rnn_model_2[\"epochsMAPELosses\"]\n"
   ]
  },
  {
   "cell_type": "code",
   "execution_count": null,
   "metadata": {
    "colab": {
     "base_uri": "https://localhost:8080/",
     "height": 312
    },
    "id": "O9chKLQQ43kE",
    "outputId": "c318aac2-2e82-4fa1-f846-815b6e65286c"
   },
   "outputs": [
    {
     "data": {
      "text/plain": [
       "Text(0.5, 1.0, 'Change in sMAPE through epochs')"
      ]
     },
     "execution_count": 74,
     "metadata": {},
     "output_type": "execute_result"
    },
    {
     "data": {
      "image/png": "[encoded data removed]",
      "text/plain": [
       "<Figure size 432x288 with 1 Axes>"
      ]
     },
     "metadata": {
      "needs_background": "light"
     },
     "output_type": "display_data"
    }
   ],
   "source": [
    "plt.plot([1,2],[x * 100 for x in epochsMAPELossesGRU1],\"b\")\n",
    "plt.plot([1,2],[x * 100 for x in epochsMAPELossesLSTM1],\"g\")\n",
    "plt.plot([1,2],[x * 100 for x in epochsMAPELossesRNN1],\"r\")\n",
    "plt.plot([1,2],[x * 100 for x in epochsMAPELossesGRU2],\"c\")\n",
    "plt.plot([1,2],[x * 100 for x in epochsMAPELossesLSTM2],\"m\")\n",
    "plt.plot([1,2],[x * 100 for x in epochsMAPELossesRNN2],\"k\")\n",
    "\n",
    "new_list = range(1,3)\n",
    "plt.xticks(new_list)\n",
    "\n",
    "plt.legend([\"GRU 2 Layer\", \"LSTM 2 Layer\",\"RNN 2 Layer\",\"GRU 3 Layer\", \"LSTM 3 Layer\",\"RNN 3 Layer\"])\n",
    "plt.xlabel(\"Epoch Number\")\n",
    "plt.ylabel(\"sMAPE (%)\")\n",
    "plt.title(\"Change in sMAPE through epochs\")"
   ]
  }
 ],
 "metadata": {
  "accelerator": "GPU",
  "colab": {
   "collapsed_sections": [],
   "name": "main.ipynb",
   "provenance": []
  },
  "kernelspec": {
   "display_name": "Python 3 (ipykernel)",
   "language": "python",
   "name": "python3"
  },
  "language_info": {
   "codemirror_mode": {
    "name": "ipython",
    "version": 3
   },
   "file_extension": ".py",
   "mimetype": "text/x-python",
   "name": "python",
   "nbconvert_exporter": "python",
   "pygments_lexer": "ipython3",
   "version": "3.9.5"
  },
  "widgets": {
   "application/vnd.jupyter.widget-state+json": {
    "06c40d7e1ba0492aacaa6ecb4cde64b1": {
     "model_module": "@jupyter-widgets/base",
     "model_module_version": "1.2.0",
     "model_name": "LayoutModel",
     "state": {
      "_model_module": "@jupyter-widgets/base",
      "_model_module_version": "1.2.0",
      "_model_name": "LayoutModel",
      "_view_count": null,
      "_view_module": "@jupyter-widgets/base",
      "_view_module_version": "1.2.0",
      "_view_name": "LayoutView",
      "align_content": null,
      "align_items": null,
      "align_self": null,
      "border": null,
      "bottom": null,
      "display": null,
      "flex": null,
      "flex_flow": null,
      "grid_area": null,
      "grid_auto_columns": null,
      "grid_auto_flow": null,
      "grid_auto_rows": null,
      "grid_column": null,
      "grid_gap": null,
      "grid_row": null,
      "grid_template_areas": null,
      "grid_template_columns": null,
      "grid_template_rows": null,
      "height": null,
      "justify_content": null,
      "justify_items": null,
      "left": null,
      "margin": null,
      "max_height": null,
      "max_width": null,
      "min_height": null,
      "min_width": null,
      "object_fit": null,
      "object_position": null,
      "order": null,
      "overflow": null,
      "overflow_x": null,
      "overflow_y": null,
      "padding": null,
      "right": null,
      "top": null,
      "visibility": null,
      "width": null
     }
    },
    "08c2a1c9f3e544049032dc03bd4c7063": {
     "model_module": "@jupyter-widgets/base",
     "model_module_version": "1.2.0",
     "model_name": "LayoutModel",
     "state": {
      "_model_module": "@jupyter-widgets/base",
      "_model_module_version": "1.2.0",
      "_model_name": "LayoutModel",
      "_view_count": null,
      "_view_module": "@jupyter-widgets/base",
      "_view_module_version": "1.2.0",
      "_view_name": "LayoutView",
      "align_content": null,
      "align_items": null,
      "align_self": null,
      "border": null,
      "bottom": null,
      "display": null,
      "flex": null,
      "flex_flow": null,
      "grid_area": null,
      "grid_auto_columns": null,
      "grid_auto_flow": null,
      "grid_auto_rows": null,
      "grid_column": null,
      "grid_gap": null,
      "grid_row": null,
      "grid_template_areas": null,
      "grid_template_columns": null,
      "grid_template_rows": null,
      "height": null,
      "justify_content": null,
      "justify_items": null,
      "left": null,
      "margin": null,
      "max_height": null,
      "max_width": null,
      "min_height": null,
      "min_width": null,
      "object_fit": null,
      "object_position": null,
      "order": null,
      "overflow": null,
      "overflow_x": null,
      "overflow_y": null,
      "padding": null,
      "right": null,
      "top": null,
      "visibility": null,
      "width": null
     }
    },
    "1370d89dacc64de7b320a59099c80d33": {
     "model_module": "@jupyter-widgets/controls",
     "model_module_version": "1.5.0",
     "model_name": "DescriptionStyleModel",
     "state": {
      "_model_module": "@jupyter-widgets/controls",
      "_model_module_version": "1.5.0",
      "_model_name": "DescriptionStyleModel",
      "_view_count": null,
      "_view_module": "@jupyter-widgets/base",
      "_view_module_version": "1.2.0",
      "_view_name": "StyleView",
      "description_width": ""
     }
    },
    "39b054d5688a40408f4c887abf79ab3d": {
     "model_module": "@jupyter-widgets/controls",
     "model_module_version": "1.5.0",
     "model_name": "HBoxModel",
     "state": {
      "_dom_classes": [],
      "_model_module": "@jupyter-widgets/controls",
      "_model_module_version": "1.5.0",
      "_model_name": "HBoxModel",
      "_view_count": null,
      "_view_module": "@jupyter-widgets/controls",
      "_view_module_version": "1.5.0",
      "_view_name": "HBoxView",
      "box_style": "",
      "children": [
       "IPY_MODEL_dbaad94780264cc6b503aabc030aef45",
       "IPY_MODEL_d0ad968346b84027baec6152bb062db9",
       "IPY_MODEL_d3d17806edf1410fa4c2bbebe7674bda"
      ],
      "layout": "IPY_MODEL_06c40d7e1ba0492aacaa6ecb4cde64b1"
     }
    },
    "4451c6aeacea40819a4b7e86214f0b12": {
     "model_module": "@jupyter-widgets/base",
     "model_module_version": "1.2.0",
     "model_name": "LayoutModel",
     "state": {
      "_model_module": "@jupyter-widgets/base",
      "_model_module_version": "1.2.0",
      "_model_name": "LayoutModel",
      "_view_count": null,
      "_view_module": "@jupyter-widgets/base",
      "_view_module_version": "1.2.0",
      "_view_name": "LayoutView",
      "align_content": null,
      "align_items": null,
      "align_self": null,
      "border": null,
      "bottom": null,
      "display": null,
      "flex": null,
      "flex_flow": null,
      "grid_area": null,
      "grid_auto_columns": null,
      "grid_auto_flow": null,
      "grid_auto_rows": null,
      "grid_column": null,
      "grid_gap": null,
      "grid_row": null,
      "grid_template_areas": null,
      "grid_template_columns": null,
      "grid_template_rows": null,
      "height": null,
      "justify_content": null,
      "justify_items": null,
      "left": null,
      "margin": null,
      "max_height": null,
      "max_width": null,
      "min_height": null,
      "min_width": null,
      "object_fit": null,
      "object_position": null,
      "order": null,
      "overflow": null,
      "overflow_x": null,
      "overflow_y": null,
      "padding": null,
      "right": null,
      "top": null,
      "visibility": null,
      "width": null
     }
    },
    "826f760f25af400297e292f5f64a911c": {
     "model_module": "@jupyter-widgets/controls",
     "model_module_version": "1.5.0",
     "model_name": "ProgressStyleModel",
     "state": {
      "_model_module": "@jupyter-widgets/controls",
      "_model_module_version": "1.5.0",
      "_model_name": "ProgressStyleModel",
      "_view_count": null,
      "_view_module": "@jupyter-widgets/base",
      "_view_module_version": "1.2.0",
      "_view_name": "StyleView",
      "bar_color": null,
      "description_width": ""
     }
    },
    "d0ad968346b84027baec6152bb062db9": {
     "model_module": "@jupyter-widgets/controls",
     "model_module_version": "1.5.0",
     "model_name": "FloatProgressModel",
     "state": {
      "_dom_classes": [],
      "_model_module": "@jupyter-widgets/controls",
      "_model_module_version": "1.5.0",
      "_model_name": "FloatProgressModel",
      "_view_count": null,
      "_view_module": "@jupyter-widgets/controls",
      "_view_module_version": "1.5.0",
      "_view_name": "ProgressView",
      "bar_style": "success",
      "description": "",
      "description_tooltip": null,
      "layout": "IPY_MODEL_4451c6aeacea40819a4b7e86214f0b12",
      "max": 14,
      "min": 0,
      "orientation": "horizontal",
      "style": "IPY_MODEL_826f760f25af400297e292f5f64a911c",
      "value": 14
     }
    },
    "d3d17806edf1410fa4c2bbebe7674bda": {
     "model_module": "@jupyter-widgets/controls",
     "model_module_version": "1.5.0",
     "model_name": "HTMLModel",
     "state": {
      "_dom_classes": [],
      "_model_module": "@jupyter-widgets/controls",
      "_model_module_version": "1.5.0",
      "_model_name": "HTMLModel",
      "_view_count": null,
      "_view_module": "@jupyter-widgets/controls",
      "_view_module_version": "1.5.0",
      "_view_name": "HTMLView",
      "description": "",
      "description_tooltip": null,
      "layout": "IPY_MODEL_08c2a1c9f3e544049032dc03bd4c7063",
      "placeholder": "​",
      "style": "IPY_MODEL_1370d89dacc64de7b320a59099c80d33",
      "value": " 14/14 [01:15&lt;00:00,  5.02s/it]"
     }
    },
    "dbaad94780264cc6b503aabc030aef45": {
     "model_module": "@jupyter-widgets/controls",
     "model_module_version": "1.5.0",
     "model_name": "HTMLModel",
     "state": {
      "_dom_classes": [],
      "_model_module": "@jupyter-widgets/controls",
      "_model_module_version": "1.5.0",
      "_model_name": "HTMLModel",
      "_view_count": null,
      "_view_module": "@jupyter-widgets/controls",
      "_view_module_version": "1.5.0",
      "_view_name": "HTMLView",
      "description": "",
      "description_tooltip": null,
      "layout": "IPY_MODEL_f259485953034259b62a8494dfcd223b",
      "placeholder": "​",
      "style": "IPY_MODEL_efc2ae068b4d45b583c5f1c0b7f376e1",
      "value": "100%"
     }
    },
    "efc2ae068b4d45b583c5f1c0b7f376e1": {
     "model_module": "@jupyter-widgets/controls",
     "model_module_version": "1.5.0",
     "model_name": "DescriptionStyleModel",
     "state": {
      "_model_module": "@jupyter-widgets/controls",
      "_model_module_version": "1.5.0",
      "_model_name": "DescriptionStyleModel",
      "_view_count": null,
      "_view_module": "@jupyter-widgets/base",
      "_view_module_version": "1.2.0",
      "_view_name": "StyleView",
      "description_width": ""
     }
    },
    "f259485953034259b62a8494dfcd223b": {
     "model_module": "@jupyter-widgets/base",
     "model_module_version": "1.2.0",
     "model_name": "LayoutModel",
     "state": {
      "_model_module": "@jupyter-widgets/base",
      "_model_module_version": "1.2.0",
      "_model_name": "LayoutModel",
      "_view_count": null,
      "_view_module": "@jupyter-widgets/base",
      "_view_module_version": "1.2.0",
      "_view_name": "LayoutView",
      "align_content": null,
      "align_items": null,
      "align_self": null,
      "border": null,
      "bottom": null,
      "display": null,
      "flex": null,
      "flex_flow": null,
      "grid_area": null,
      "grid_auto_columns": null,
      "grid_auto_flow": null,
      "grid_auto_rows": null,
      "grid_column": null,
      "grid_gap": null,
      "grid_row": null,
      "grid_template_areas": null,
      "grid_template_columns": null,
      "grid_template_rows": null,
      "height": null,
      "justify_content": null,
      "justify_items": null,
      "left": null,
      "margin": null,
      "max_height": null,
      "max_width": null,
      "min_height": null,
      "min_width": null,
      "object_fit": null,
      "object_position": null,
      "order": null,
      "overflow": null,
      "overflow_x": null,
      "overflow_y": null,
      "padding": null,
      "right": null,
      "top": null,
      "visibility": null,
      "width": null
     }
    }
   }
  }
 },
 "nbformat": 4,
 "nbformat_minor": 1
}
